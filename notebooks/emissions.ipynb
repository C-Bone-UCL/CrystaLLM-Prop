{
 "cells": [
  {
   "cell_type": "code",
   "execution_count": 5,
   "metadata": {},
   "outputs": [
    {
     "data": {
      "text/plain": [
       "Index(['timestamp', 'project_name', 'run_id', 'experiment_id', 'duration',\n",
       "       'emissions', 'emissions_rate', 'cpu_power', 'gpu_power', 'ram_power',\n",
       "       'cpu_energy', 'gpu_energy', 'ram_energy', 'energy_consumed',\n",
       "       'country_name', 'country_iso_code', 'region', 'cloud_provider',\n",
       "       'cloud_region', 'os', 'python_version', 'codecarbon_version',\n",
       "       'cpu_count', 'cpu_model', 'gpu_count', 'gpu_model', 'longitude',\n",
       "       'latitude', 'ram_total_size', 'tracking_mode', 'on_cloud', 'pue'],\n",
       "      dtype='object')"
      ]
     },
     "execution_count": 5,
     "metadata": {},
     "output_type": "execute_result"
    }
   ],
   "source": [
    "import pandas as pd\n",
    "import os\n",
    "\n",
    "emissions_df = pd.read_csv(os.path.join('/home/uccacbo/CrystaLLM/comp_metrics/emissions.csv'))\n",
    "\n",
    "emissions_df.columns\n",
    "\n",
    "# look at the following columns: run_id, duration, emissions, emissions_rate"
   ]
  },
  {
   "cell_type": "code",
   "execution_count": null,
   "metadata": {},
   "outputs": [],
   "source": [
    "# open csv and do command > convert to table from csv"
   ]
  }
 ],
 "metadata": {
  "kernelspec": {
   "display_name": "crystallm_venv",
   "language": "python",
   "name": "python3"
  },
  "language_info": {
   "codemirror_mode": {
    "name": "ipython",
    "version": 3
   },
   "file_extension": ".py",
   "mimetype": "text/x-python",
   "name": "python",
   "nbconvert_exporter": "python",
   "pygments_lexer": "ipython3",
   "version": "3.10.15"
  }
 },
 "nbformat": 4,
 "nbformat_minor": 2
}
