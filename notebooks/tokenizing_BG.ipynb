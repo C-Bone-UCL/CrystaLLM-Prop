{
 "cells": [
  {
   "cell_type": "code",
   "execution_count": 2,
   "metadata": {},
   "outputs": [
    {
     "data": {
      "text/plain": [
       "'/home/uccacbo/CrystaLLM'"
      ]
     },
     "execution_count": 2,
     "metadata": {},
     "output_type": "execute_result"
    }
   ],
   "source": [
    "# check current directory\n",
    "import os\n",
    "os.getcwd()\n",
    "\n",
    "# change directory to where the data is\n",
    "os.chdir('/home/uccacbo/CrystaLLM')\n",
    "os.getcwd()"
   ]
  },
  {
   "cell_type": "markdown",
   "metadata": {},
   "source": [
    "### Visualising what the CIFs in og. crystallm should look like"
   ]
  },
  {
   "cell_type": "code",
   "execution_count": 1,
   "metadata": {},
   "outputs": [
    {
     "name": "stdout",
     "output_type": "stream",
     "text": [
      "downloading to ./cifs_v1_orig.pkl.gz ...\n",
      "100%|███████████████████████████████████████| 645M/645M [03:20<00:00, 3.22MiB/s]\n",
      "done!\n"
     ]
    }
   ],
   "source": [
    "!python bin/download.py cifs_v1_orig.pkl.gz"
   ]
  },
  {
   "cell_type": "code",
   "execution_count": 3,
   "metadata": {},
   "outputs": [
    {
     "name": "stdout",
     "output_type": "stream",
     "text": [
      "downloading to ./cifs_v1_dedup.pkl.gz ...\n",
      "100%|███████████████████████████████████████| 418M/418M [00:56<00:00, 7.40MiB/s]\n",
      "done!\n"
     ]
    }
   ],
   "source": [
    "!python bin/download.py cifs_v1_dedup.pkl.gz"
   ]
  },
  {
   "cell_type": "code",
   "execution_count": 4,
   "metadata": {},
   "outputs": [],
   "source": [
    "import pickle\n",
    "import gzip\n",
    "\n",
    "# Function to load a small portion of the data from the compressed file\n",
    "def load_partial_pickle(file_path, num_entries=100):\n",
    "    with gzip.open(file_path, 'rb') as f:\n",
    "        # Load the entire data but extract only a portion\n",
    "        try:\n",
    "            # Use pickle.load() to get the full object but extract a subset\n",
    "            data = pickle.load(f)\n",
    "            # If the data is a list or other iterable, slice it\n",
    "            return data[:num_entries]  # Adjust the slice as needed for more entries\n",
    "        except Exception as e:\n",
    "            print(f\"Error loading pickle file: {e}\")\n",
    "            return None\n",
    "\n",
    "# Path to your .pkl.gz file\n",
    "file_path = 'cifs_v1_dedup.pkl.gz'\n",
    "\n",
    "# Load and inspect a small part of the data\n",
    "sample_data = load_partial_pickle(file_path, num_entries=100)"
   ]
  },
  {
   "cell_type": "code",
   "execution_count": 6,
   "metadata": {},
   "outputs": [
    {
     "data": {
      "text/plain": [
       "[('NOMAD_fpjXjxoYA_8IDwuyKiDplQkHhIST',\n",
       "  \"# NOMAD Entry fpjXjxoYA_8IDwuyKiDplQkHhIST C2Si2 C2Si2 I4/mmm\\n# generated using pymatgen\\ndata_SiC\\n_symmetry_space_group_name_H-M   Fm-3m\\n_cell_length_a   4.04639975\\n_cell_length_b   4.04639975\\n_cell_length_c   4.04639975\\n_cell_angle_alpha   90.00000000\\n_cell_angle_beta   90.00000000\\n_cell_angle_gamma   90.00000000\\n_symmetry_Int_Tables_number   225\\n_chemical_formula_structural   SiC\\n_chemical_formula_sum   'Si4 C4'\\n_cell_volume   66.25312330\\n_cell_formula_units_Z   4\\nloop_\\n _symmetry_equiv_pos_site_id\\n _symmetry_equiv_pos_as_xyz\\n  1  'x, y, z'\\n  2  '-x, -y, -z'\\n  3  '-y, x, z'\\n  4  'y, -x, -z'\\n  5  '-x, -y, z'\\n  6  'x, y, -z'\\n  7  'y, -x, z'\\n  8  '-y, x, -z'\\n  9  'x, -y, -z'\\n  10  '-x, y, z'\\n  11  '-y, -x, -z'\\n  12  'y, x, z'\\n  13  '-x, y, -z'\\n  14  'x, -y, z'\\n  15  'y, x, -z'\\n  16  '-y, -x, z'\\n  17  'z, x, y'\\n  18  '-z, -x, -y'\\n  19  'z, -y, x'\\n  20  '-z, y, -x'\\n  21  'z, -x, -y'\\n  22  '-z, x, y'\\n  23  'z, y, -x'\\n  24  '-z, -y, x'\\n  25  '-z, x, -y'\\n  26  'z, -x, y'\\n  27  '-z, -y, -x'\\n  28  'z, y, x'\\n  29  '-z, -x, y'\\n  30  'z, x, -y'\\n  31  '-z, y, x'\\n  32  'z, -y, -x'\\n  33  'y, z, x'\\n  34  '-y, -z, -x'\\n  35  'x, z, -y'\\n  36  '-x, -z, y'\\n  37  '-y, z, -x'\\n  38  'y, -z, x'\\n  39  '-x, z, y'\\n  40  'x, -z, -y'\\n  41  '-y, -z, x'\\n  42  'y, z, -x'\\n  43  '-x, -z, -y'\\n  44  'x, z, y'\\n  45  'y, -z, -x'\\n  46  '-y, z, x'\\n  47  'x, -z, y'\\n  48  '-x, z, -y'\\n  49  'x+1/2, y+1/2, z'\\n  50  '-x+1/2, -y+1/2, -z'\\n  51  '-y+1/2, x+1/2, z'\\n  52  'y+1/2, -x+1/2, -z'\\n  53  '-x+1/2, -y+1/2, z'\\n  54  'x+1/2, y+1/2, -z'\\n  55  'y+1/2, -x+1/2, z'\\n  56  '-y+1/2, x+1/2, -z'\\n  57  'x+1/2, -y+1/2, -z'\\n  58  '-x+1/2, y+1/2, z'\\n  59  '-y+1/2, -x+1/2, -z'\\n  60  'y+1/2, x+1/2, z'\\n  61  '-x+1/2, y+1/2, -z'\\n  62  'x+1/2, -y+1/2, z'\\n  63  'y+1/2, x+1/2, -z'\\n  64  '-y+1/2, -x+1/2, z'\\n  65  'z+1/2, x+1/2, y'\\n  66  '-z+1/2, -x+1/2, -y'\\n  67  'z+1/2, -y+1/2, x'\\n  68  '-z+1/2, y+1/2, -x'\\n  69  'z+1/2, -x+1/2, -y'\\n  70  '-z+1/2, x+1/2, y'\\n  71  'z+1/2, y+1/2, -x'\\n  72  '-z+1/2, -y+1/2, x'\\n  73  '-z+1/2, x+1/2, -y'\\n  74  'z+1/2, -x+1/2, y'\\n  75  '-z+1/2, -y+1/2, -x'\\n  76  'z+1/2, y+1/2, x'\\n  77  '-z+1/2, -x+1/2, y'\\n  78  'z+1/2, x+1/2, -y'\\n  79  '-z+1/2, y+1/2, x'\\n  80  'z+1/2, -y+1/2, -x'\\n  81  'y+1/2, z+1/2, x'\\n  82  '-y+1/2, -z+1/2, -x'\\n  83  'x+1/2, z+1/2, -y'\\n  84  '-x+1/2, -z+1/2, y'\\n  85  '-y+1/2, z+1/2, -x'\\n  86  'y+1/2, -z+1/2, x'\\n  87  '-x+1/2, z+1/2, y'\\n  88  'x+1/2, -z+1/2, -y'\\n  89  '-y+1/2, -z+1/2, x'\\n  90  'y+1/2, z+1/2, -x'\\n  91  '-x+1/2, -z+1/2, -y'\\n  92  'x+1/2, z+1/2, y'\\n  93  'y+1/2, -z+1/2, -x'\\n  94  '-y+1/2, z+1/2, x'\\n  95  'x+1/2, -z+1/2, y'\\n  96  '-x+1/2, z+1/2, -y'\\n  97  'x+1/2, y, z+1/2'\\n  98  '-x+1/2, -y, -z+1/2'\\n  99  '-y+1/2, x, z+1/2'\\n  100  'y+1/2, -x, -z+1/2'\\n  101  '-x+1/2, -y, z+1/2'\\n  102  'x+1/2, y, -z+1/2'\\n  103  'y+1/2, -x, z+1/2'\\n  104  '-y+1/2, x, -z+1/2'\\n  105  'x+1/2, -y, -z+1/2'\\n  106  '-x+1/2, y, z+1/2'\\n  107  '-y+1/2, -x, -z+1/2'\\n  108  'y+1/2, x, z+1/2'\\n  109  '-x+1/2, y, -z+1/2'\\n  110  'x+1/2, -y, z+1/2'\\n  111  'y+1/2, x, -z+1/2'\\n  112  '-y+1/2, -x, z+1/2'\\n  113  'z+1/2, x, y+1/2'\\n  114  '-z+1/2, -x, -y+1/2'\\n  115  'z+1/2, -y, x+1/2'\\n  116  '-z+1/2, y, -x+1/2'\\n  117  'z+1/2, -x, -y+1/2'\\n  118  '-z+1/2, x, y+1/2'\\n  119  'z+1/2, y, -x+1/2'\\n  120  '-z+1/2, -y, x+1/2'\\n  121  '-z+1/2, x, -y+1/2'\\n  122  'z+1/2, -x, y+1/2'\\n  123  '-z+1/2, -y, -x+1/2'\\n  124  'z+1/2, y, x+1/2'\\n  125  '-z+1/2, -x, y+1/2'\\n  126  'z+1/2, x, -y+1/2'\\n  127  '-z+1/2, y, x+1/2'\\n  128  'z+1/2, -y, -x+1/2'\\n  129  'y+1/2, z, x+1/2'\\n  130  '-y+1/2, -z, -x+1/2'\\n  131  'x+1/2, z, -y+1/2'\\n  132  '-x+1/2, -z, y+1/2'\\n  133  '-y+1/2, z, -x+1/2'\\n  134  'y+1/2, -z, x+1/2'\\n  135  '-x+1/2, z, y+1/2'\\n  136  'x+1/2, -z, -y+1/2'\\n  137  '-y+1/2, -z, x+1/2'\\n  138  'y+1/2, z, -x+1/2'\\n  139  '-x+1/2, -z, -y+1/2'\\n  140  'x+1/2, z, y+1/2'\\n  141  'y+1/2, -z, -x+1/2'\\n  142  '-y+1/2, z, x+1/2'\\n  143  'x+1/2, -z, y+1/2'\\n  144  '-x+1/2, z, -y+1/2'\\n  145  'x, y+1/2, z+1/2'\\n  146  '-x, -y+1/2, -z+1/2'\\n  147  '-y, x+1/2, z+1/2'\\n  148  'y, -x+1/2, -z+1/2'\\n  149  '-x, -y+1/2, z+1/2'\\n  150  'x, y+1/2, -z+1/2'\\n  151  'y, -x+1/2, z+1/2'\\n  152  '-y, x+1/2, -z+1/2'\\n  153  'x, -y+1/2, -z+1/2'\\n  154  '-x, y+1/2, z+1/2'\\n  155  '-y, -x+1/2, -z+1/2'\\n  156  'y, x+1/2, z+1/2'\\n  157  '-x, y+1/2, -z+1/2'\\n  158  'x, -y+1/2, z+1/2'\\n  159  'y, x+1/2, -z+1/2'\\n  160  '-y, -x+1/2, z+1/2'\\n  161  'z, x+1/2, y+1/2'\\n  162  '-z, -x+1/2, -y+1/2'\\n  163  'z, -y+1/2, x+1/2'\\n  164  '-z, y+1/2, -x+1/2'\\n  165  'z, -x+1/2, -y+1/2'\\n  166  '-z, x+1/2, y+1/2'\\n  167  'z, y+1/2, -x+1/2'\\n  168  '-z, -y+1/2, x+1/2'\\n  169  '-z, x+1/2, -y+1/2'\\n  170  'z, -x+1/2, y+1/2'\\n  171  '-z, -y+1/2, -x+1/2'\\n  172  'z, y+1/2, x+1/2'\\n  173  '-z, -x+1/2, y+1/2'\\n  174  'z, x+1/2, -y+1/2'\\n  175  '-z, y+1/2, x+1/2'\\n  176  'z, -y+1/2, -x+1/2'\\n  177  'y, z+1/2, x+1/2'\\n  178  '-y, -z+1/2, -x+1/2'\\n  179  'x, z+1/2, -y+1/2'\\n  180  '-x, -z+1/2, y+1/2'\\n  181  '-y, z+1/2, -x+1/2'\\n  182  'y, -z+1/2, x+1/2'\\n  183  '-x, z+1/2, y+1/2'\\n  184  'x, -z+1/2, -y+1/2'\\n  185  '-y, -z+1/2, x+1/2'\\n  186  'y, z+1/2, -x+1/2'\\n  187  '-x, -z+1/2, -y+1/2'\\n  188  'x, z+1/2, y+1/2'\\n  189  'y, -z+1/2, -x+1/2'\\n  190  '-y, z+1/2, x+1/2'\\n  191  'x, -z+1/2, y+1/2'\\n  192  '-x, z+1/2, -y+1/2'\\nloop_\\n _atom_site_type_symbol\\n _atom_site_label\\n _atom_site_symmetry_multiplicity\\n _atom_site_fract_x\\n _atom_site_fract_y\\n _atom_site_fract_z\\n _atom_site_occupancy\\n  Si  Si0  4  0.00000000  0.00000000  0.50000000  1\\n  C  C1  4  0.00000000  0.00000000  0.00000000  1\\n\"),\n",
       " ('MP_mp-1004524',\n",
       "  \"# MP Entry mp-1004524 HPbI3 H1Pb1I3\\n# generated using pymatgen\\ndata_HPbI3\\n_symmetry_space_group_name_H-M   Pm-3m\\n_cell_length_a   6.24421300\\n_cell_length_b   6.24421300\\n_cell_length_c   6.24421300\\n_cell_angle_alpha   90.00000000\\n_cell_angle_beta   90.00000000\\n_cell_angle_gamma   90.00000000\\n_symmetry_Int_Tables_number   221\\n_chemical_formula_structural   HPbI3\\n_chemical_formula_sum   'H1 Pb1 I3'\\n_cell_volume   243.46308867\\n_cell_formula_units_Z   1\\nloop_\\n _symmetry_equiv_pos_site_id\\n _symmetry_equiv_pos_as_xyz\\n  1  'x, y, z'\\n  2  'x, y, z'\\n  3  '-x, -y, -z'\\n  4  '-x, -y, -z'\\n  5  '-y, x, z'\\n  6  '-y, x, z'\\n  7  'y, -x, -z'\\n  8  'y, -x, -z'\\n  9  '-x, -y, z'\\n  10  '-x, -y, z'\\n  11  'x, y, -z'\\n  12  'x, y, -z'\\n  13  'y, -x, z'\\n  14  'y, -x, z'\\n  15  '-y, x, -z'\\n  16  '-y, x, -z'\\n  17  'x, -y, -z'\\n  18  'x, -y, -z'\\n  19  '-x, y, z'\\n  20  '-x, y, z'\\n  21  '-y, -x, -z'\\n  22  '-y, -x, -z'\\n  23  'y, x, z'\\n  24  'y, x, z'\\n  25  '-x, y, -z'\\n  26  '-x, y, -z'\\n  27  'x, -y, z'\\n  28  'x, -y, z'\\n  29  'y, x, -z'\\n  30  'y, x, -z'\\n  31  '-y, -x, z'\\n  32  '-y, -x, z'\\n  33  'z, x, y'\\n  34  'z, x, y'\\n  35  '-z, -x, -y'\\n  36  '-z, -x, -y'\\n  37  'z, -y, x'\\n  38  'z, -y, x'\\n  39  '-z, y, -x'\\n  40  '-z, y, -x'\\n  41  'z, -x, -y'\\n  42  'z, -x, -y'\\n  43  '-z, x, y'\\n  44  '-z, x, y'\\n  45  'z, y, -x'\\n  46  'z, y, -x'\\n  47  '-z, -y, x'\\n  48  '-z, -y, x'\\n  49  '-z, x, -y'\\n  50  '-z, x, -y'\\n  51  'z, -x, y'\\n  52  'z, -x, y'\\n  53  '-z, -y, -x'\\n  54  '-z, -y, -x'\\n  55  'z, y, x'\\n  56  'z, y, x'\\n  57  '-z, -x, y'\\n  58  '-z, -x, y'\\n  59  'z, x, -y'\\n  60  'z, x, -y'\\n  61  '-z, y, x'\\n  62  '-z, y, x'\\n  63  'z, -y, -x'\\n  64  'z, -y, -x'\\n  65  'y, z, x'\\n  66  'y, z, x'\\n  67  '-y, -z, -x'\\n  68  '-y, -z, -x'\\n  69  'x, z, -y'\\n  70  'x, z, -y'\\n  71  '-x, -z, y'\\n  72  '-x, -z, y'\\n  73  '-y, z, -x'\\n  74  '-y, z, -x'\\n  75  'y, -z, x'\\n  76  'y, -z, x'\\n  77  '-x, z, y'\\n  78  '-x, z, y'\\n  79  'x, -z, -y'\\n  80  'x, -z, -y'\\n  81  '-y, -z, x'\\n  82  '-y, -z, x'\\n  83  'y, z, -x'\\n  84  'y, z, -x'\\n  85  '-x, -z, -y'\\n  86  '-x, -z, -y'\\n  87  'x, z, y'\\n  88  'x, z, y'\\n  89  'y, -z, -x'\\n  90  'y, -z, -x'\\n  91  '-y, z, x'\\n  92  '-y, z, x'\\n  93  'x, -z, y'\\n  94  'x, -z, y'\\n  95  '-x, z, -y'\\n  96  '-x, z, -y'\\nloop_\\n _atom_site_type_symbol\\n _atom_site_label\\n _atom_site_symmetry_multiplicity\\n _atom_site_fract_x\\n _atom_site_fract_y\\n _atom_site_fract_z\\n _atom_site_occupancy\\n  H  H0  1  0.50000000  0.50000000  0.50000000  1\\n  Pb  Pb1  1  0.00000000  0.00000000  0.00000000  1\\n  I  I2  3  0.00000000  0.00000000  0.50000000  1\\n\"),\n",
       " ('OQMD_1474086',\n",
       "  \"# OQMD Entry 1474086 BrCl Br2Cl2\\n# generated using pymatgen\\ndata_BrCl\\n_symmetry_space_group_name_H-M   Cmcm\\n_cell_length_a   7.31919173\\n_cell_length_b   4.78975267\\n_cell_length_c   7.82475283\\n_cell_angle_alpha   90.00000000\\n_cell_angle_beta   90.00000000\\n_cell_angle_gamma   90.00000000\\n_symmetry_Int_Tables_number   63\\n_chemical_formula_structural   BrCl\\n_chemical_formula_sum   'Br4 Cl4'\\n_cell_volume   274.31328460\\n_cell_formula_units_Z   4\\nloop_\\n _symmetry_equiv_pos_site_id\\n _symmetry_equiv_pos_as_xyz\\n  1  'x, y, z'\\n  2  'x, y, z'\\n  3  '-x, -y, -z'\\n  4  '-x, -y, -z'\\n  5  '-x, -y, z+1/2'\\n  6  '-x, -y, z+1/2'\\n  7  'x, y, -z+1/2'\\n  8  'x, y, -z+1/2'\\n  9  'x, -y, -z'\\n  10  'x, -y, -z'\\n  11  '-x, y, z'\\n  12  '-x, y, z'\\n  13  '-x, y, -z+1/2'\\n  14  '-x, y, -z+1/2'\\n  15  'x, -y, z+1/2'\\n  16  'x, -y, z+1/2'\\n  17  'x+1/2, y+1/2, z'\\n  18  'x+1/2, y+1/2, z'\\n  19  '-x+1/2, -y+1/2, -z'\\n  20  '-x+1/2, -y+1/2, -z'\\n  21  '-x+1/2, -y+1/2, z+1/2'\\n  22  '-x+1/2, -y+1/2, z+1/2'\\n  23  'x+1/2, y+1/2, -z+1/2'\\n  24  'x+1/2, y+1/2, -z+1/2'\\n  25  'x+1/2, -y+1/2, -z'\\n  26  'x+1/2, -y+1/2, -z'\\n  27  '-x+1/2, y+1/2, z'\\n  28  '-x+1/2, y+1/2, z'\\n  29  '-x+1/2, y+1/2, -z+1/2'\\n  30  '-x+1/2, y+1/2, -z+1/2'\\n  31  'x+1/2, -y+1/2, z+1/2'\\n  32  'x+1/2, -y+1/2, z+1/2'\\nloop_\\n _atom_site_type_symbol\\n _atom_site_label\\n _atom_site_symmetry_multiplicity\\n _atom_site_fract_x\\n _atom_site_fract_y\\n _atom_site_fract_z\\n _atom_site_occupancy\\n  Br  Br0  4  0.00000000  0.19651043  0.25000000  1\\n  Cl  Cl1  4  0.00000000  0.50000000  0.00000000  1\\n\"),\n",
       " ('OQMD_1716880',\n",
       "  \"# OQMD Entry 1716880 EuFeO3 Eu2Fe2O6\\n# generated using pymatgen\\ndata_EuFeO3\\n_symmetry_space_group_name_H-M   Imma\\n_cell_length_a   5.30410400\\n_cell_length_b   7.51317902\\n_cell_length_c   5.37725488\\n_cell_angle_alpha   90.00000000\\n_cell_angle_beta   90.00000000\\n_cell_angle_gamma   90.00000000\\n_symmetry_Int_Tables_number   74\\n_chemical_formula_structural   EuFeO3\\n_chemical_formula_sum   'Eu4 Fe4 O12'\\n_cell_volume   214.28727903\\n_cell_formula_units_Z   4\\nloop_\\n _symmetry_equiv_pos_site_id\\n _symmetry_equiv_pos_as_xyz\\n  1  'x, y, z'\\n  2  'x, y, z'\\n  3  '-x, -y, -z'\\n  4  '-x, -y, -z'\\n  5  '-x, -y+1/2, z'\\n  6  '-x, -y+1/2, z'\\n  7  'x, y+1/2, -z'\\n  8  'x, y+1/2, -z'\\n  9  'x, -y, -z'\\n  10  'x, -y, -z'\\n  11  '-x, y, z'\\n  12  '-x, y, z'\\n  13  '-x, y+1/2, -z'\\n  14  '-x, y+1/2, -z'\\n  15  'x, -y+1/2, z'\\n  16  'x, -y+1/2, z'\\n  17  'x+1/2, y+1/2, z+1/2'\\n  18  'x+1/2, y+1/2, z+1/2'\\n  19  '-x+1/2, -y+1/2, -z+1/2'\\n  20  '-x+1/2, -y+1/2, -z+1/2'\\n  21  '-x+1/2, -y, z+1/2'\\n  22  '-x+1/2, -y, z+1/2'\\n  23  'x+1/2, y, -z+1/2'\\n  24  'x+1/2, y, -z+1/2'\\n  25  'x+1/2, -y+1/2, -z+1/2'\\n  26  'x+1/2, -y+1/2, -z+1/2'\\n  27  '-x+1/2, y+1/2, z+1/2'\\n  28  '-x+1/2, y+1/2, z+1/2'\\n  29  '-x+1/2, y, -z+1/2'\\n  30  '-x+1/2, y, -z+1/2'\\n  31  'x+1/2, -y, z+1/2'\\n  32  'x+1/2, -y, z+1/2'\\nloop_\\n _atom_site_type_symbol\\n _atom_site_label\\n _atom_site_symmetry_multiplicity\\n _atom_site_fract_x\\n _atom_site_fract_y\\n _atom_site_fract_z\\n _atom_site_occupancy\\n  Eu  Eu0  4  0.00000000  0.25000000  0.50171318  1\\n  Fe  Fe1  4  0.00000000  0.00000000  0.00000000  1\\n  O  O2  8  0.25000000  0.02517281  0.75000000  1\\n  O  O3  4  0.00000000  0.25000000  0.04782496  1\\n\"),\n",
       " ('MP_mp-1013796',\n",
       "  \"# MP Entry mp-1013796 Li3Ni2(GeO4)3 Li12Ni8Ge12O48\\n# generated using pymatgen\\ndata_Li3Ni2(GeO4)3\\n_symmetry_space_group_name_H-M   Ia-3d\\n_cell_length_a   11.85126400\\n_cell_length_b   11.85126400\\n_cell_length_c   11.85126400\\n_cell_angle_alpha   90.00000000\\n_cell_angle_beta   90.00000000\\n_cell_angle_gamma   90.00000000\\n_symmetry_Int_Tables_number   230\\n_chemical_formula_structural   Li3Ni2(GeO4)3\\n_chemical_formula_sum   'Li24 Ni16 Ge24 O96'\\n_cell_volume   1664.53916392\\n_cell_formula_units_Z   8\\nloop_\\n _symmetry_equiv_pos_site_id\\n _symmetry_equiv_pos_as_xyz\\n  1  'x, y, z'\\n  2  'x, y, z'\\n  3  '-x, -y, -z'\\n  4  '-x, -y, -z'\\n  5  '-y+1/4, x+3/4, z+1/4'\\n  6  '-y+1/4, x+3/4, z+1/4'\\n  7  'y+1/4, -x+3/4, -z+1/4'\\n  8  'y+1/4, -x+3/4, -z+1/4'\\n  9  '-x+1/2, -y, z+1/2'\\n  10  '-x+1/2, -y, z+1/2'\\n  11  'x+1/2, y, -z+1/2'\\n  12  'x+1/2, y, -z+1/2'\\n  13  'y+1/4, -x+1/4, z+3/4'\\n  14  'y+1/4, -x+1/4, z+3/4'\\n  15  '-y+1/4, x+1/4, -z+3/4'\\n  16  '-y+1/4, x+1/4, -z+3/4'\\n  17  'x, -y, -z+1/2'\\n  18  'x, -y, -z+1/2'\\n  19  '-x, y, z+1/2'\\n  20  '-x, y, z+1/2'\\n  21  '-y+1/4, -x+1/4, -z+1/4'\\n  22  '-y+1/4, -x+1/4, -z+1/4'\\n  23  'y+1/4, x+1/4, z+1/4'\\n  24  'y+1/4, x+1/4, z+1/4'\\n  25  '-x+1/2, y, -z'\\n  26  '-x+1/2, y, -z'\\n  27  'x+1/2, -y, z'\\n  28  'x+1/2, -y, z'\\n  29  'y+1/4, x+3/4, -z+3/4'\\n  30  'y+1/4, x+3/4, -z+3/4'\\n  31  '-y+1/4, -x+3/4, z+3/4'\\n  32  '-y+1/4, -x+3/4, z+3/4'\\n  33  'z, x, y'\\n  34  'z, x, y'\\n  35  '-z, -x, -y'\\n  36  '-z, -x, -y'\\n  37  'z+1/4, -y+1/4, x+3/4'\\n  38  'z+1/4, -y+1/4, x+3/4'\\n  39  '-z+1/4, y+1/4, -x+3/4'\\n  40  '-z+1/4, y+1/4, -x+3/4'\\n  41  'z+1/2, -x+1/2, -y'\\n  42  'z+1/2, -x+1/2, -y'\\n  43  '-z+1/2, x+1/2, y'\\n  44  '-z+1/2, x+1/2, y'\\n  45  'z+3/4, y+1/4, -x+1/4'\\n  46  'z+3/4, y+1/4, -x+1/4'\\n  47  '-z+3/4, -y+1/4, x+1/4'\\n  48  '-z+3/4, -y+1/4, x+1/4'\\n  49  '-z+1/2, x, -y'\\n  50  '-z+1/2, x, -y'\\n  51  'z+1/2, -x, y'\\n  52  'z+1/2, -x, y'\\n  53  '-z+1/4, -y+1/4, -x+1/4'\\n  54  '-z+1/4, -y+1/4, -x+1/4'\\n  55  'z+1/4, y+1/4, x+1/4'\\n  56  'z+1/4, y+1/4, x+1/4'\\n  57  '-z, -x+1/2, y'\\n  58  '-z, -x+1/2, y'\\n  59  'z, x+1/2, -y'\\n  60  'z, x+1/2, -y'\\n  61  '-z+3/4, y+1/4, x+3/4'\\n  62  '-z+3/4, y+1/4, x+3/4'\\n  63  'z+3/4, -y+1/4, -x+3/4'\\n  64  'z+3/4, -y+1/4, -x+3/4'\\n  65  'y, z, x'\\n  66  'y, z, x'\\n  67  '-y, -z, -x'\\n  68  '-y, -z, -x'\\n  69  'x+3/4, z+1/4, -y+1/4'\\n  70  'x+3/4, z+1/4, -y+1/4'\\n  71  '-x+3/4, -z+1/4, y+1/4'\\n  72  '-x+3/4, -z+1/4, y+1/4'\\n  73  '-y, z+1/2, -x+1/2'\\n  74  '-y, z+1/2, -x+1/2'\\n  75  'y, -z+1/2, x+1/2'\\n  76  'y, -z+1/2, x+1/2'\\n  77  '-x+1/4, z+3/4, y+1/4'\\n  78  '-x+1/4, z+3/4, y+1/4'\\n  79  'x+1/4, -z+3/4, -y+1/4'\\n  80  'x+1/4, -z+3/4, -y+1/4'\\n  81  '-y, -z+1/2, x'\\n  82  '-y, -z+1/2, x'\\n  83  'y, z+1/2, -x'\\n  84  'y, z+1/2, -x'\\n  85  '-x+1/4, -z+1/4, -y+1/4'\\n  86  '-x+1/4, -z+1/4, -y+1/4'\\n  87  'x+1/4, z+1/4, y+1/4'\\n  88  'x+1/4, z+1/4, y+1/4'\\n  89  'y, -z, -x+1/2'\\n  90  'y, -z, -x+1/2'\\n  91  '-y, z, x+1/2'\\n  92  '-y, z, x+1/2'\\n  93  'x+3/4, -z+3/4, y+1/4'\\n  94  'x+3/4, -z+3/4, y+1/4'\\n  95  '-x+3/4, z+3/4, -y+1/4'\\n  96  '-x+3/4, z+3/4, -y+1/4'\\n  97  'x+1/2, y+1/2, z+1/2'\\n  98  'x+1/2, y+1/2, z+1/2'\\n  99  '-x+1/2, -y+1/2, -z+1/2'\\n  100  '-x+1/2, -y+1/2, -z+1/2'\\n  101  '-y+3/4, x+1/4, z+3/4'\\n  102  '-y+3/4, x+1/4, z+3/4'\\n  103  'y+3/4, -x+1/4, -z+3/4'\\n  104  'y+3/4, -x+1/4, -z+3/4'\\n  105  '-x, -y+1/2, z'\\n  106  '-x, -y+1/2, z'\\n  107  'x, y+1/2, -z'\\n  108  'x, y+1/2, -z'\\n  109  'y+3/4, -x+3/4, z+1/4'\\n  110  'y+3/4, -x+3/4, z+1/4'\\n  111  '-y+3/4, x+3/4, -z+1/4'\\n  112  '-y+3/4, x+3/4, -z+1/4'\\n  113  'x+1/2, -y+1/2, -z'\\n  114  'x+1/2, -y+1/2, -z'\\n  115  '-x+1/2, y+1/2, z'\\n  116  '-x+1/2, y+1/2, z'\\n  117  '-y+3/4, -x+3/4, -z+3/4'\\n  118  '-y+3/4, -x+3/4, -z+3/4'\\n  119  'y+3/4, x+3/4, z+3/4'\\n  120  'y+3/4, x+3/4, z+3/4'\\n  121  '-x, y+1/2, -z+1/2'\\n  122  '-x, y+1/2, -z+1/2'\\n  123  'x, -y+1/2, z+1/2'\\n  124  'x, -y+1/2, z+1/2'\\n  125  'y+3/4, x+1/4, -z+1/4'\\n  126  'y+3/4, x+1/4, -z+1/4'\\n  127  '-y+3/4, -x+1/4, z+1/4'\\n  128  '-y+3/4, -x+1/4, z+1/4'\\n  129  'z+1/2, x+1/2, y+1/2'\\n  130  'z+1/2, x+1/2, y+1/2'\\n  131  '-z+1/2, -x+1/2, -y+1/2'\\n  132  '-z+1/2, -x+1/2, -y+1/2'\\n  133  'z+3/4, -y+3/4, x+1/4'\\n  134  'z+3/4, -y+3/4, x+1/4'\\n  135  '-z+3/4, y+3/4, -x+1/4'\\n  136  '-z+3/4, y+3/4, -x+1/4'\\n  137  'z, -x, -y+1/2'\\n  138  'z, -x, -y+1/2'\\n  139  '-z, x, y+1/2'\\n  140  '-z, x, y+1/2'\\n  141  'z+1/4, y+3/4, -x+3/4'\\n  142  'z+1/4, y+3/4, -x+3/4'\\n  143  '-z+1/4, -y+3/4, x+3/4'\\n  144  '-z+1/4, -y+3/4, x+3/4'\\n  145  '-z, x+1/2, -y+1/2'\\n  146  '-z, x+1/2, -y+1/2'\\n  147  'z, -x+1/2, y+1/2'\\n  148  'z, -x+1/2, y+1/2'\\n  149  '-z+3/4, -y+3/4, -x+3/4'\\n  150  '-z+3/4, -y+3/4, -x+3/4'\\n  151  'z+3/4, y+3/4, x+3/4'\\n  152  'z+3/4, y+3/4, x+3/4'\\n  153  '-z+1/2, -x, y+1/2'\\n  154  '-z+1/2, -x, y+1/2'\\n  155  'z+1/2, x, -y+1/2'\\n  156  'z+1/2, x, -y+1/2'\\n  157  '-z+1/4, y+3/4, x+1/4'\\n  158  '-z+1/4, y+3/4, x+1/4'\\n  159  'z+1/4, -y+3/4, -x+1/4'\\n  160  'z+1/4, -y+3/4, -x+1/4'\\n  161  'y+1/2, z+1/2, x+1/2'\\n  162  'y+1/2, z+1/2, x+1/2'\\n  163  '-y+1/2, -z+1/2, -x+1/2'\\n  164  '-y+1/2, -z+1/2, -x+1/2'\\n  165  'x+1/4, z+3/4, -y+3/4'\\n  166  'x+1/4, z+3/4, -y+3/4'\\n  167  '-x+1/4, -z+3/4, y+3/4'\\n  168  '-x+1/4, -z+3/4, y+3/4'\\n  169  '-y+1/2, z, -x'\\n  170  '-y+1/2, z, -x'\\n  171  'y+1/2, -z, x'\\n  172  'y+1/2, -z, x'\\n  173  '-x+3/4, z+1/4, y+3/4'\\n  174  '-x+3/4, z+1/4, y+3/4'\\n  175  'x+3/4, -z+1/4, -y+3/4'\\n  176  'x+3/4, -z+1/4, -y+3/4'\\n  177  '-y+1/2, -z, x+1/2'\\n  178  '-y+1/2, -z, x+1/2'\\n  179  'y+1/2, z, -x+1/2'\\n  180  'y+1/2, z, -x+1/2'\\n  181  '-x+3/4, -z+3/4, -y+3/4'\\n  182  '-x+3/4, -z+3/4, -y+3/4'\\n  183  'x+3/4, z+3/4, y+3/4'\\n  184  'x+3/4, z+3/4, y+3/4'\\n  185  'y+1/2, -z+1/2, -x'\\n  186  'y+1/2, -z+1/2, -x'\\n  187  '-y+1/2, z+1/2, x'\\n  188  '-y+1/2, z+1/2, x'\\n  189  'x+1/4, -z+1/4, y+3/4'\\n  190  'x+1/4, -z+1/4, y+3/4'\\n  191  '-x+1/4, z+1/4, -y+3/4'\\n  192  '-x+1/4, z+1/4, -y+3/4'\\nloop_\\n _atom_site_type_symbol\\n _atom_site_label\\n _atom_site_symmetry_multiplicity\\n _atom_site_fract_x\\n _atom_site_fract_y\\n _atom_site_fract_z\\n _atom_site_occupancy\\n  Li  Li0  24  0.00000000  0.25000000  0.12500000  1\\n  Ni  Ni1  16  0.00000000  0.00000000  0.00000000  1\\n  Ge  Ge2  24  0.00000000  0.25000000  0.37500000  1\\n  O  O3  96  0.02825450  0.05123750  0.64752850  1\\n\")]"
      ]
     },
     "execution_count": 6,
     "metadata": {},
     "output_type": "execute_result"
    }
   ],
   "source": [
    "# display the sample data\n",
    "sample_data[:5]\n"
   ]
  },
  {
   "cell_type": "markdown",
   "metadata": {},
   "source": [
    "### A dataset was created with pymatgen that has a cif file, with at the bottom of the CIF file the bandgap appended"
   ]
  },
  {
   "cell_type": "markdown",
   "metadata": {},
   "source": [
    "#### Load the file"
   ]
  },
  {
   "cell_type": "code",
   "execution_count": 7,
   "metadata": {},
   "outputs": [
    {
     "name": "stdout",
     "output_type": "stream",
     "text": [
      "preparing CIF files...: 100%|█████████████████| 110/110 [00:03<00:00, 30.01it/s]\n",
      "prepared CIF files have been saved to BG_cifs_more.tar.gz\n"
     ]
    }
   ],
   "source": [
    "# turn custom cifs into tar.gz\n",
    "!python bin/prepare_custom_more.py BG_CIFs/ BG_cifs_more.tar.gz"
   ]
  },
  {
   "cell_type": "markdown",
   "metadata": {},
   "source": [
    "#### turn it into pkl"
   ]
  },
  {
   "cell_type": "code",
   "execution_count": 4,
   "metadata": {},
   "outputs": [
    {
     "name": "stdout",
     "output_type": "stream",
     "text": [
      "loading data from BG_datasets/BG_CIF_dataset_large.tar.gz...\n",
      "extracting files...: 100%|███████████| 126334/126334 [00:04<00:00, 30304.52it/s]\n",
      "saving data to BG_cifs_process_steps/BG_data_large.pkl.gz...\n",
      "conversion complete!\n"
     ]
    }
   ],
   "source": [
    "# turn the tar.gz into pickle\n",
    "!python bin/tar_to_pickle.py BG_datasets/BG_CIF_dataset_large.tar.gz BG_cifs_process_steps/BG_data_large.pkl.gz"
   ]
  },
  {
   "cell_type": "code",
   "execution_count": 5,
   "metadata": {},
   "outputs": [
    {
     "data": {
      "text/plain": [
       "[('RbLaTa2O7_mp-541600',\n",
       "  \"# generated using pymatgen\\ndata_RbLaTa2O7\\n_symmetry_space_group_name_H-M   P4/mmm\\n_cell_length_a   3.91039400\\n_cell_length_b   3.91039400\\n_cell_length_c   11.31445800\\n_cell_angle_alpha   90.00000000\\n_cell_angle_beta   90.00000000\\n_cell_angle_gamma   90.00000000\\n_symmetry_Int_Tables_number   123\\n_chemical_formula_structural   RbLaTa2O7\\n_chemical_formula_sum   'Rb1 La1 Ta2 O7'\\n_cell_volume   173.01142786\\n_cell_formula_units_Z   1\\nloop_\\n _symmetry_equiv_pos_site_id\\n _symmetry_equiv_pos_as_xyz\\n  1  'x, y, z'\\n  2  '-x, -y, -z'\\n  3  '-y, x, z'\\n  4  'y, -x, -z'\\n  5  '-x, -y, z'\\n  6  'x, y, -z'\\n  7  'y, -x, z'\\n  8  '-y, x, -z'\\n  9  'x, -y, -z'\\n  10  '-x, y, z'\\n  11  '-y, -x, -z'\\n  12  'y, x, z'\\n  13  '-x, y, -z'\\n  14  'x, -y, z'\\n  15  'y, x, -z'\\n  16  '-y, -x, z'\\nloop_\\n _atom_site_type_symbol\\n _atom_site_label\\n _atom_site_symmetry_multiplicity\\n _atom_site_fract_x\\n _atom_site_fract_y\\n _atom_site_fract_z\\n _atom_site_occupancy\\n  Rb  Rb0  1  0.50000000  0.50000000  0.50000000  1.0\\n  La  La1  1  0.50000000  0.50000000  0.00000000  1.0\\n  Ta  Ta2  2  0.00000000  0.00000000  0.20368300  1.0\\n  O  O3  4  0.00000000  0.50000000  0.16559000  1.0\\n  O  O4  2  0.00000000  0.00000000  0.36298300  1.0\\n  O  O5  1  0.00000000  0.00000000  0.00000000  1.0\\n_Bandgap_eV: 2.33\\n\\n\")]"
      ]
     },
     "execution_count": 5,
     "metadata": {},
     "output_type": "execute_result"
    }
   ],
   "source": [
    "#check format still correct\n",
    "import pickle\n",
    "import gzip\n",
    "\n",
    "# load the data\n",
    "with gzip.open('BG_cifs_process_steps/BG_data_large.pkl.gz', 'rb') as f:\n",
    "    BG_cifs_more = pickle.load(f)\n",
    "\n",
    "# display the first few entries\n",
    "BG_cifs_more[:1]"
   ]
  },
  {
   "cell_type": "markdown",
   "metadata": {},
   "source": [
    "#### make sure deduplicate still works"
   ]
  },
  {
   "cell_type": "code",
   "execution_count": 6,
   "metadata": {},
   "outputs": [
    {
     "name": "stdout",
     "output_type": "stream",
     "text": [
      "loading data from BG_cifs_process_steps/BG_data_large.pkl.gz...\n",
      "number of CIFs to deduplicate: 126,334\n",
      "100%|███████████████████████████████| 126334/126334 [00:00<00:00, 176292.31it/s]\n",
      "number of entries to write: 114,751\n",
      "saving data to BG_cifs_process_steps/BG_large_dedup.pkl.gz...\n"
     ]
    }
   ],
   "source": [
    "# deduplicate the data\n",
    "!python bin/deduplicate.py BG_cifs_process_steps/BG_data_large.pkl.gz --out BG_cifs_process_steps/BG_large_dedup.pkl.gz"
   ]
  },
  {
   "cell_type": "code",
   "execution_count": 12,
   "metadata": {},
   "outputs": [
    {
     "data": {
      "text/plain": [
       "[('Fe(PO3)4',\n",
       "  \"# generated using pymatgen\\ndata_Fe(PO3)4\\n_symmetry_space_group_name_H-M   C2/c\\n_cell_length_a   12.81796307\\n_cell_length_b   7.94044656\\n_cell_length_c   10.21684027\\n_cell_angle_alpha   90.00000000\\n_cell_angle_beta   117.82872259\\n_cell_angle_gamma   90.00000000\\n_symmetry_Int_Tables_number   15\\n_chemical_formula_structural   Fe(PO3)4\\n_chemical_formula_sum   'Fe4 P16 O48'\\n_cell_volume   919.60915179\\n_cell_formula_units_Z   4\\nloop_\\n _symmetry_equiv_pos_site_id\\n _symmetry_equiv_pos_as_xyz\\n  1  'x, y, z'\\n  2  '-x, -y, -z'\\n  3  '-x, y, -z+1/2'\\n  4  'x, -y, z+1/2'\\n  5  'x+1/2, y+1/2, z'\\n  6  '-x+1/2, -y+1/2, -z'\\n  7  '-x+1/2, y+1/2, -z+1/2'\\n  8  'x+1/2, -y+1/2, z+1/2'\\nloop_\\n _atom_site_type_symbol\\n _atom_site_label\\n _atom_site_symmetry_multiplicity\\n _atom_site_fract_x\\n _atom_site_fract_y\\n _atom_site_fract_z\\n _atom_site_occupancy\\n  Fe  Fe0  4  0.25000000  0.25000000  0.00000000  1.0\\n  P  P1  8  0.00775150  0.25477350  0.01545650  1.0\\n  P  P2  8  0.17938000  0.48936000  0.68901950  1.0\\n  O  O3  8  0.00440550  0.09087650  0.41672150  1.0\\n  O  O4  8  0.06702500  0.38903000  0.15113250  1.0\\n  O  O5  8  0.07438000  0.25932800  0.92669550  1.0\\n  O  O6  8  0.12242950  0.33020750  0.57963650  1.0\\n  O  O7  8  0.22790750  0.43332850  0.84626750  1.0\\n  O  O8  8  0.23587450  0.07259050  0.85420150  1.0\\n_Bandgap_eV: 0.00\\n\\n\")]"
      ]
     },
     "execution_count": 12,
     "metadata": {},
     "output_type": "execute_result"
    }
   ],
   "source": [
    "# check the format is still correct\n",
    "import pickle\n",
    "import gzip\n",
    "\n",
    "# load the data\n",
    "with gzip.open('BG_cifs_process_steps/BG_cifs_more_dedup.pkl.gz', 'rb') as f:\n",
    "    BG_cifs_more_dedup = pickle.load(f)\n",
    "\n",
    "# display the first few entries\n",
    "BG_cifs_more_dedup[:1]"
   ]
  },
  {
   "cell_type": "markdown",
   "metadata": {},
   "source": [
    "#### Data augmentation with the preprocess script"
   ]
  },
  {
   "cell_type": "code",
   "execution_count": 7,
   "metadata": {},
   "outputs": [
    {
     "name": "stdout",
     "output_type": "stream",
     "text": [
      "loading data from BG_cifs_process_steps/BG_large_dedup.pkl.gz...\n",
      "100%|█████████████████████████████████| 114751/114751 [01:01<00:00, 1870.30it/s]\n",
      "number of CIFs: 114744\n",
      "saving data to BG_cifs_process_steps/BG_large_prep.pkl.gz...\n"
     ]
    }
   ],
   "source": [
    "#Data augmentation preprocess step\n",
    "!python bin/preprocess_more.py BG_cifs_process_steps/BG_large_dedup.pkl.gz --out BG_cifs_process_steps/BG_large_prep.pkl.gz --workers 4"
   ]
  },
  {
   "cell_type": "code",
   "execution_count": 9,
   "metadata": {},
   "outputs": [
    {
     "data": {
      "text/plain": [
       "[('Te2Mo3W(SeS2)2_mp-1030462',\n",
       "  \"# generated using pymatgen\\ndata_Te2Mo3W1Se2S4\\nloop_\\n _atom_type_symbol\\n _atom_type_electronegativity\\n _atom_type_radius\\n _atom_type_ionic_radius\\n  Te  2.1000  1.4000  1.2933\\n  Mo  2.1600  1.4500  0.7750\\n  W  2.3600  1.3500  0.7667\\n  Se  2.5500  1.1500  1.0133\\n  S  2.5800  1.0000  0.8800\\n_symmetry_space_group_name_H-M   P3m1\\n_cell_length_a   3.3105\\n_cell_length_b   3.3105\\n_cell_length_c   37.2684\\n_cell_angle_alpha   90.0000\\n_cell_angle_beta   90.0000\\n_cell_angle_gamma   120.0000\\n_symmetry_Int_Tables_number   156\\n_chemical_formula_structural   Te2Mo3W(SeS2)2\\n_chemical_formula_sum   'Te2 Mo3 W1 Se2 S4'\\n_cell_volume   353.7148\\n_cell_formula_units_Z   1\\nloop_\\n _symmetry_equiv_pos_site_id\\n _symmetry_equiv_pos_as_xyz\\n  1  'x, y, z'\\nloop_\\n _atom_site_type_symbol\\n _atom_site_label\\n _atom_site_symmetry_multiplicity\\n _atom_site_fract_x\\n _atom_site_fract_y\\n _atom_site_fract_z\\n _atom_site_occupancy\\n  Te  Te0  1  0.6667  0.3333  0.0426  1.0\\n  Te  Te1  1  0.6667  0.3333  0.1452  1.0\\n  Mo  Mo2  1  0.3333  0.6667  0.0939  1.0\\n  Mo  Mo3  1  0.3333  0.6667  0.4697  1.0\\n  Mo  Mo4  1  0.6667  0.3333  0.2818  1.0\\n  W  W5  1  0.6667  0.3333  0.6575  1.0\\n  Se  Se6  1  0.6667  0.3333  0.4247  1.0\\n  Se  Se7  1  0.6667  0.3333  0.5147  1.0\\n  S  S8  1  0.3333  0.6667  0.2408  1.0\\n  S  S9  1  0.3333  0.6667  0.3228  1.0\\n  S  S10  1  0.3333  0.6667  0.6164  1.0\\n  S  S11  1  0.3333  0.6667  0.6987  1.0\\nBandgap_eV: 0.00\\n\\n\")]"
      ]
     },
     "execution_count": 9,
     "metadata": {},
     "output_type": "execute_result"
    }
   ],
   "source": [
    "# check the format is still correct\n",
    "import pickle\n",
    "import gzip\n",
    "\n",
    "# load the data\n",
    "with gzip.open('BG_cifs_process_steps/BG_large_prep.pkl.gz', 'rb') as f:\n",
    "    BG_cifs_more_prep = pickle.load(f)\n",
    "\n",
    "# display the first few entries\n",
    "BG_cifs_more_prep[:1]"
   ]
  },
  {
   "cell_type": "markdown",
   "metadata": {},
   "source": [
    "#### Split to the train/val/test sets"
   ]
  },
  {
   "cell_type": "code",
   "execution_count": 10,
   "metadata": {},
   "outputs": [
    {
     "name": "stdout",
     "output_type": "stream",
     "text": [
      "loading data from BG_cifs_process_steps/BG_large_prep.pkl.gz...\n",
      "splitting dataset...\n",
      "number of CIFs in train set: 98,105\n",
      "number of CIFs in validation set: 10,901\n",
      "number of CIFs in test set: 5,738\n",
      "writing train set...\n",
      "writing validation set...\n",
      "writing test set...\n"
     ]
    }
   ],
   "source": [
    "# split dataset into train and test and val\n",
    "!python bin/split.py BG_cifs_process_steps/BG_large_prep.pkl.gz \\\n",
    "--train_out BG_cifs_process_steps/BG_large_train.pkl.gz \\\n",
    "--val_out BG_cifs_process_steps/BG_large_val.pkl.gz \\\n",
    "--test_out BG_cifs_process_steps/BG_large_test.pkl.gz \\\n",
    "--validation_size 0.1 \\\n",
    "--test_size 0.05"
   ]
  },
  {
   "cell_type": "code",
   "execution_count": 16,
   "metadata": {},
   "outputs": [
    {
     "data": {
      "text/plain": [
       "'/home/uccacbo/CrystaLLM'"
      ]
     },
     "execution_count": 16,
     "metadata": {},
     "output_type": "execute_result"
    }
   ],
   "source": [
    "# check current directory\n",
    "import os\n",
    "os.getcwd()\n",
    "\n",
    "# change directory to where the data is\n",
    "os.chdir('/home/uccacbo/CrystaLLM')\n",
    "os.getcwd()"
   ]
  },
  {
   "cell_type": "code",
   "execution_count": 11,
   "metadata": {},
   "outputs": [
    {
     "data": {
      "text/plain": [
       "[('KFeCo(PO4)2_mp-1194524',\n",
       "  \"# generated using pymatgen\\ndata_K4Fe4Co4P8O32\\nloop_\\n _atom_type_symbol\\n _atom_type_electronegativity\\n _atom_type_radius\\n _atom_type_ionic_radius\\n  K  0.8200  2.2000  1.5200\\n  Fe  1.8300  1.4000  0.8525\\n  Co  1.8800  1.3500  0.7683\\n  P  2.1900  1.0000  0.5500\\n  O  3.4400  0.6000  1.2600\\n_symmetry_space_group_name_H-M   P2_1/c\\n_cell_length_a   5.2211\\n_cell_length_b   14.6317\\n_cell_length_c   9.3914\\n_cell_angle_alpha   90.0000\\n_cell_angle_beta   104.7150\\n_cell_angle_gamma   90.0000\\n_symmetry_Int_Tables_number   14\\n_chemical_formula_structural   KFeCo(PO4)2\\n_chemical_formula_sum   'K4 Fe4 Co4 P8 O32'\\n_cell_volume   693.9139\\n_cell_formula_units_Z   4\\nloop_\\n _symmetry_equiv_pos_site_id\\n _symmetry_equiv_pos_as_xyz\\n  1  'x, y, z'\\nloop_\\n _atom_site_type_symbol\\n _atom_site_label\\n _atom_site_symmetry_multiplicity\\n _atom_site_fract_x\\n _atom_site_fract_y\\n _atom_site_fract_z\\n _atom_site_occupancy\\n  K  K0  4  0.1790  0.1749  0.3158  1.0\\n  Fe  Fe1  4  0.2256  0.6282  0.8817  1.0\\n  Co  Co2  4  0.2436  0.0477  0.9633  1.0\\n  P  P3  4  0.2558  0.6727  0.5379  1.0\\n  P  P4  4  0.3097  0.0070  0.6766  1.0\\n  O  O5  4  0.0638  0.0489  0.7237  1.0\\n  O  O6  4  0.0892  0.5864  0.4694  1.0\\n  O  O7  4  0.1172  0.7445  0.9448  1.0\\n  O  O8  4  0.2214  0.5796  0.0838  1.0\\n  O  O9  4  0.2308  0.6890  0.6963  1.0\\n  O  O10  4  0.4157  0.0800  0.5860  1.0\\n  O  O11  4  0.4531  0.1662  0.9676  1.0\\n  O  O12  4  0.4913  0.0151  0.1759  1.0\\nBandgap_eV: 0.27\\n\\n\")]"
      ]
     },
     "execution_count": 11,
     "metadata": {},
     "output_type": "execute_result"
    }
   ],
   "source": [
    "#  check the format is still correct\n",
    "import pickle\n",
    "import gzip\n",
    "\n",
    "# load the data\n",
    "with gzip.open('BG_cifs_process_steps/BG_large_train.pkl.gz', 'rb') as f:\n",
    "    BG_cifs_more_test = pickle.load(f)\n",
    "\n",
    "# display the first few entries\n",
    "BG_cifs_more_test[:1]"
   ]
  },
  {
   "cell_type": "markdown",
   "metadata": {},
   "source": [
    "#### Tokenizing the data"
   ]
  },
  {
   "cell_type": "code",
   "execution_count": 12,
   "metadata": {},
   "outputs": [
    {
     "name": "stdout",
     "output_type": "stream",
     "text": [
      "loading data from BG_cifs_process_steps/BG_large_train.pkl.gz...\n",
      "loading data from BG_cifs_process_steps/BG_large_val.pkl.gz...\n",
      "preparing files...: 100%|██████████████| 98105/98105 [00:01<00:00, 80192.77it/s]\n",
      "preparing files...: 100%|██████████████| 10901/10901 [00:00<00:00, 79395.89it/s]\n",
      "tokenizing...: 100%|████████████████████| 98105/98105 [00:31<00:00, 3138.52it/s]\n",
      "train min tokenized length: 197\n",
      "train max tokenized length: 6,930\n",
      "train mean tokenized length: 578.89 +/- 462.86\n",
      "train total unk counts: 0\n",
      "tokenizing...: 100%|████████████████████| 10901/10901 [00:10<00:00, 1057.63it/s]\n",
      "val min tokenized length: 200\n",
      "val max tokenized length: 6,451\n",
      "val mean tokenized length: 580.75 +/- 488.00\n",
      "val total unk counts: 0\n",
      "concatenating train tokens...: 100%|██| 98105/98105 [00:00<00:00, 120095.20it/s]\n",
      "concatenating val tokens...: 100%|████| 10901/10901 [00:00<00:00, 508113.75it/s]\n",
      "encoding...\n",
      "train has 56,791,747 tokens\n",
      "val has 6,330,790 tokens\n",
      "vocab size: 372\n",
      "exporting to .bin files...\n",
      "creating tar.gz archive...\n",
      "tarball created at BG_large_tokens/BG_large_tokens.tar.gz\n"
     ]
    }
   ],
   "source": [
    "# try to tokenize the data\n",
    "!python bin/tokenize_cifs.py \\\n",
    "--train_fname BG_cifs_process_steps/BG_large_train.pkl.gz \\\n",
    "--val_fname BG_cifs_process_steps/BG_large_val.pkl.gz \\\n",
    "--out_dir BG_large_tokens/ \\\n",
    "--workers 4"
   ]
  },
  {
   "cell_type": "code",
   "execution_count": 15,
   "metadata": {},
   "outputs": [
    {
     "name": "stdout",
     "output_type": "stream",
     "text": [
      "Decoded train data: data_Mg8V8Bi8O40\n",
      "loop_\n",
      "_atom_type_symbol\n",
      "_atom_type_electronegativity\n",
      "_atom_type_radius\n",
      "_atom_type_ionic_radius\n",
      "Mg 1.3100 1.5000 0.8600\n",
      "V 1.6300 1.3500 0.7775\n",
      "Bi 2.0200 1.6000 1.0350\n",
      "O 3.4400 0.6000 1.2600\n",
      "_symmetry_space_group_name_H-M Pbca\n",
      "_cell_length_a 5.2794\n",
      "_cell_length_b 15.6039\n",
      "_cell_length_c 10.7107\n",
      "_cell_angle_alpha 90.0000\n",
      "_cell_angle_beta 90.0000\n",
      "_cell_angle_gamma 90.0000\n",
      "_symmetry_Int_Tables_number 61\n",
      "_chemical_formula_structural MgVBiO5\n",
      "_chemical_formula_sum 'Mg8 V8 Bi8 O40'\n",
      "_cell_volume 882.3340\n",
      "_cell_formula_units_Z 8\n",
      "loop_\n",
      "_symmetry_equiv_pos_site_id\n",
      "_symmetry_equiv_pos_as_xyz\n",
      "1 'x, y, z'\n",
      "loop_\n",
      "_atom_site_type_symbol\n",
      "_atom_site_label\n",
      "_atom_site_symmetry_multiplicity\n",
      "_atom_site_fract_x\n",
      "_atom_site_fract_y\n",
      "_atom_site_fract_z\n",
      "_atom_site_occupancy\n",
      "Mg Mg0 8 0.0062 0.5464 0.8627 1.0\n",
      "V V1 8 0.0146 0.0919 0.1011 1.0\n",
      "Bi Bi2 8 0.0221 0.7259 0.6464 1.0\n",
      "O O3 8 0.0732 0.1930 0.1719 1.0\n",
      "O O4 8 0.1379 0.5202 0.3022 1.0\n",
      "O O5 8 0.1882 0.6176 0.5250 1.0\n",
      "O O6 8 0.1969 0.5561 0.0422 1.0\n",
      "O O7 8 0.2053 0.6490 0.7842 1.0\n",
      "Bandgap_eV: 2.96\n",
      "\n",
      "data_Ti4Ga2Cu2\n",
      "loop_\n",
      "_atom_type_symbol\n",
      "_atom_type_electronegativity\n",
      "_atom_type_radius\n",
      "_atom_type_ionic_radius\n",
      "Ti 1.5400 1.4000 0.8517\n",
      "Ga 1.8100 1.3000 0.7600\n",
      "Cu 1.9000 1.3500 0.8200\n",
      "_symmetry_space_group_name_H-M Immm\n",
      "_cell_length_a 10.3022\n",
      "_cell_length_b 10.6083\n",
      "_cell_length_c 14.8295\n",
      "_cell_angle_alpha 90.0000\n",
      "_cell_angle_beta 90.0000\n",
      "_cell_angle_gamma 90.0000\n",
      "_symmetry_Int_Tables_number 71\n",
      "_chemical_formula_structural Ti2GaCu\n",
      "_chemical_formula_sum 'Ti4 Ga2 Cu2'\n",
      "_cell_volume 1620.6897\n",
      "_cell_formula_units_Z 2\n",
      "loop_\n",
      "_symmetry_equiv_pos_site_id\n",
      "_symmetry_equiv_pos_as_xyz\n",
      "1 'x, y, z'\n",
      "loop_\n",
      "_atom_site_type_symbol\n",
      "_atom_site_label\n",
      "_atom_site_symmetry_multiplicity\n",
      "_atom_site_fract_x\n",
      "_atom_site_fract_y\n",
      "_atom_site_fract_z\n",
      "_atom_site_occupancy\n",
      "Ti Ti0 4 0.2428 0.0000 0.0000 1.0\n",
      "Ga Ga1 2 0.0000 0.5000 0.5000 1.0\n",
      "Cu Cu2 2 0.0000 0.0000 0.0000 1.0\n",
      "Bandgap_eV: 0.02\n",
      "\n",
      "data_Cs8Nd4Ag4Cl24\n",
      "loop_\n",
      "_atom_type_symbol\n",
      "_atom_type_electronegativity\n",
      "_atom_type_radi\n"
     ]
    }
   ],
   "source": [
    "# reload modules and import\n",
    "import numpy as np\n",
    "import pickle\n",
    "import importlib\n",
    "from crystallm import _tokenizer\n",
    "\n",
    "# Reload the CIFTokenizer module to apply changes\n",
    "importlib.reload(_tokenizer)\n",
    "\n",
    "# Import the CIFTokenizer class\n",
    "from crystallm._tokenizer import CIFTokenizer\n",
    "\n",
    "# Load tokenized data\n",
    "train_data_path = \"BG_large_tokens/train.bin\"\n",
    "val_data_path = \"BG_large_tokens/val.bin\"\n",
    "meta_path = \"BG_large_tokens/meta.pkl\"\n",
    "\n",
    "# Load the tokenizer and tokenized data\n",
    "tokenizer = CIFTokenizer()\n",
    "\n",
    "# Load metadata (stoi, itos)\n",
    "with open(meta_path, \"rb\") as f:\n",
    "    meta = pickle.load(f)\n",
    "\n",
    "stoi = meta['stoi']  # String to integer token mapping\n",
    "itos = meta['itos']  # Integer to string token mapping\n",
    "\n",
    "# Load tokenized train data\n",
    "train_data = np.fromfile(train_data_path, dtype=np.uint16)\n",
    "val_data = np.fromfile(val_data_path, dtype=np.uint16)\n",
    "\n",
    "# Decode part of the train data to check for bandgap token\n",
    "decoded_train = tokenizer.decode(train_data[:3000])  # Decode the first 500 tokens as an example\n",
    "print(\"Decoded train data:\", decoded_train[:2000])\n",
    "\n",
    "# # Similarly, you can decode part of the val data\n",
    "# decoded_val = tokenizer.decode(val_data[:500])\n",
    "# print(\"Decoded val data:\", decoded_val)\n"
   ]
  },
  {
   "cell_type": "markdown",
   "metadata": {},
   "source": [
    "#### downloaded from the original package where I should be at to check all formats are still good"
   ]
  },
  {
   "cell_type": "code",
   "execution_count": 71,
   "metadata": {},
   "outputs": [
    {
     "name": "stdout",
     "output_type": "stream",
     "text": [
      "downloading to ./cifs_v1_test.tar.gz ...\n",
      "100%|█████████████████████████████████████| 1.64M/1.64M [00:00<00:00, 5.42MiB/s]\n",
      "done!\n"
     ]
    }
   ],
   "source": [
    "!python bin/download.py cifs_v1_test.tar.gz"
   ]
  },
  {
   "cell_type": "code",
   "execution_count": 72,
   "metadata": {},
   "outputs": [
    {
     "name": "stdout",
     "output_type": "stream",
     "text": [
      "loading data from cifs_v1_test.tar.gz...\n",
      "extracting files...: 100%|████████████| 10286/10286 [00:00<00:00, 115485.19it/s]\n",
      "saving data to cifs_v1_test.pkl.gz...\n",
      "conversion complete!\n"
     ]
    }
   ],
   "source": [
    "!python bin/tar_to_pickle.py cifs_v1_test.tar.gz cifs_v1_test.pkl.gz"
   ]
  },
  {
   "cell_type": "code",
   "execution_count": 73,
   "metadata": {},
   "outputs": [
    {
     "name": "stdout",
     "output_type": "stream",
     "text": [
      "loading data from cifs_v1_test.pkl.gz...\n",
      "preparing files...: 100%|█████████████| 10286/10286 [00:00<00:00, 143487.29it/s]\n",
      "tokenizing...: 100%|████████████████████| 10286/10286 [00:02<00:00, 4516.71it/s]\n",
      "train min tokenized length: 191\n",
      "train max tokenized length: 4,797\n",
      "train mean tokenized length: 343.38 +/- 122.25\n",
      "train total unk counts: 0\n",
      "concatenating train tokens...: 100%|██| 10286/10286 [00:00<00:00, 513767.65it/s]\n",
      "encoding...\n",
      "train has 3,531,957 tokens\n",
      "vocab size: 372\n",
      "exporting to .bin files...\n",
      "creating tar.gz archive...\n",
      "tarball created at tokens_v1_train_val/tokens_v1_train_val.tar.gz\n"
     ]
    }
   ],
   "source": [
    "!python bin/tokenize_cifs.py \\\n",
    "--train_fname cifs_v1_test.pkl.gz \\\n",
    "--out_dir tokens_v1_train_val/ \\\n",
    "--workers 4"
   ]
  },
  {
   "cell_type": "code",
   "execution_count": 74,
   "metadata": {},
   "outputs": [
    {
     "name": "stdout",
     "output_type": "stream",
     "text": [
      "Decoded train data: data_Co4B2Os2\n",
      "loop_\n",
      "_atom_type_symbol\n",
      "_atom_type_electronegativity\n",
      "_atom_type_radius\n",
      "_atom_type_ionic_radius\n",
      "Co 1.8800 1.3500 0.7683\n",
      "B 2.0400 0.8500 0.4100\n",
      "Os 2.2000 1.3000 0.6730\n",
      "_symmetry_space_group_name_H-M I-4m2\n",
      "_cell_length_a 3.6393\n",
      "_cell_length_b 3.6393\n",
      "_cell_length_c 6.2877\n",
      "_cell_angle_alpha 90.0000\n",
      "_cell_angle_beta 90.0000\n",
      "_cell_angle_gamma 90.0000\n",
      "_symmetry_Int_Tables_number 119\n",
      "_chemical_formula_structural Co2BOs\n",
      "_chemical_formula_sum 'Co4 B2 Os2'\n",
      "_cell_volume 83.2785\n",
      "_cell_formula_units_Z 2\n",
      "loop_\n",
      "_symmetry_equiv_pos_site_id\n",
      "_symmetry_equiv_pos_as_xyz\n",
      "1 'x, y, z'\n",
      "loop_\n",
      "_atom_site_type_symbol\n",
      "_atom_site_label\n",
      "_atom_site_symmetry_multiplicity\n",
      "_atom_site_fract_x\n",
      "_atom_site_fract_y\n",
      "_atom_site_fract_z\n",
      "_atom_site_occupancy\n",
      "Co Co0 2 0.0000 0.0000 0.0000 1\n",
      "Co Co1 2 0.0000 0.5000 0.7500 1\n",
      "B B2 2 0.0000 0.5000 0.2500 1\n",
      "Os Os3 2 0.0000 0.0000 0.5000 1\n",
      "\n",
      "data_Rb16Ni8O32\n",
      "loop_\n",
      "_atom_type_symbol\n",
      "_atom_type_electronegativity\n",
      "_atom_type_radius\n",
      "_atom_type_ionic_radius\n",
      "Rb 0.8200 2.3500 1.6600\n",
      "Ni 1.9100 1.3500 0.7400\n",
      "O 3.4400 0.6000 1.2600\n",
      "_symmetry_space_group_name_H-M Fd-3m\n",
      "_cell_length_a 10.0733\n",
      "_cell_length_b 10.0733\n",
      "_cell_length_c 10.0733\n",
      "_cell_angle_alpha 90.0000\n",
      "_cell_angle_beta 90.0000\n",
      "_cell_angle_gamma 90.0000\n",
      "_symmetry_Int_Tables_number 227\n",
      "_chemical_formula_structural Rb2NiO4\n",
      "_chemical_formula_sum 'Rb16 Ni8 O32'\n",
      "_cell_volume 1022.1447\n",
      "_cell_formula_units_Z 8\n",
      "loop_\n",
      "_symmetry_equiv_pos_site_id\n",
      "_symmetry_equiv_pos_as_xyz\n",
      "1 'x, y, z'\n",
      "loop_\n",
      "_atom_site_type_symbol\n",
      "_atom_site_label\n",
      "_atom_site_symmetry_multiplicity\n",
      "_atom_site_fract_x\n",
      "_atom_site_fract_y\n",
      "_atom_site_fract_z\n",
      "_atom_site_occupancy\n",
      "Rb Rb0 16 0.1250 0.1250 0.6\n"
     ]
    }
   ],
   "source": [
    "# reload modules and import\n",
    "import numpy as np\n",
    "import pickle\n",
    "import importlib\n",
    "from crystallm import _tokenizer\n",
    "\n",
    "# Reload the CIFTokenizer module to apply changes\n",
    "importlib.reload(_tokenizer)\n",
    "\n",
    "# Import the CIFTokenizer class\n",
    "from crystallm._tokenizer import CIFTokenizer\n",
    "\n",
    "# Load tokenized data\n",
    "train_data_path = \"tokens_v1_train_val/train.bin\"\n",
    "meta_path = \"tokens_v1_train_val/meta.pkl\"\n",
    "\n",
    "# Load the tokenizer and tokenized data\n",
    "tokenizer = CIFTokenizer()\n",
    "\n",
    "# Load metadata (stoi, itos)\n",
    "with open(meta_path, \"rb\") as f:\n",
    "    meta = pickle.load(f)\n",
    "\n",
    "stoi = meta['stoi']  # String to integer token mapping\n",
    "itos = meta['itos']  # Integer to string token mapping\n",
    "\n",
    "# Load tokenized train data\n",
    "train_data = np.fromfile(train_data_path, dtype=np.uint16)\n",
    "val_data = np.fromfile(val_data_path, dtype=np.uint16)\n",
    "\n",
    "# Decode part of the train data to check for bandgap token\n",
    "decoded_train = tokenizer.decode(train_data[:600])  # Decode the first 500 tokens as an example\n",
    "print(\"Decoded train data:\", decoded_train)\n",
    "\n",
    "# # Similarly, you can decode part of the val data\n",
    "# decoded_val = tokenizer.decode(val_data[:500])\n",
    "# print(\"Decoded val data:\", decoded_val)\n"
   ]
  },
  {
   "cell_type": "markdown",
   "metadata": {},
   "source": [
    "#### make sure the check start indices script still works"
   ]
  },
  {
   "cell_type": "code",
   "execution_count": 3,
   "metadata": {},
   "outputs": [
    {
     "name": "stdout",
     "output_type": "stream",
     "text": [
      "identifying starts...: 100%|████| 56791747/56791747 [01:29<00:00, 633529.56it/s]\n",
      "writing start indices...\n"
     ]
    }
   ],
   "source": [
    "# Identifying start indices\n",
    "!python bin/identify_starts.py \\\n",
    "--dataset_fname compressed_datasets_models/BG_large_tokens.tar.gz \\\n",
    "--out_fname CIF_BG_proj/BG_large_tokens/starts.pkl"
   ]
  },
  {
   "cell_type": "code",
   "execution_count": 4,
   "metadata": {},
   "outputs": [
    {
     "data": {
      "text/plain": [
       "[0, 519, 849, 1245, 1509]"
      ]
     },
     "execution_count": 4,
     "metadata": {},
     "output_type": "execute_result"
    }
   ],
   "source": [
    "# view the start indices\n",
    "import pickle\n",
    "\n",
    "# Load the start indices with pickle not gzip\n",
    "with open(\"CIF_BG_proj/BG_large_tokens/starts.pkl\", \"rb\") as f:\n",
    "    starts = pickle.load(f)\n",
    "\n",
    "# Display the first few start indices\n",
    "starts[:5]\n"
   ]
  },
  {
   "cell_type": "markdown",
   "metadata": {},
   "source": [
    "#### data tokenized - all the adapted scriptsd are 'script'_more.py"
   ]
  }
 ],
 "metadata": {
  "kernelspec": {
   "display_name": "crystallm_venv",
   "language": "python",
   "name": "python3"
  },
  "language_info": {
   "codemirror_mode": {
    "name": "ipython",
    "version": 3
   },
   "file_extension": ".py",
   "mimetype": "text/x-python",
   "name": "python",
   "nbconvert_exporter": "python",
   "pygments_lexer": "ipython3",
   "version": "3.10.15"
  }
 },
 "nbformat": 4,
 "nbformat_minor": 2
}
