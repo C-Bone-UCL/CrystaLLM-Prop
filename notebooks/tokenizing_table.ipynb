{
 "cells": [
  {
   "cell_type": "code",
   "execution_count": 2,
   "metadata": {},
   "outputs": [
    {
     "data": {
      "text/plain": [
       "'/home/uccacbo/CrystaLLM'"
      ]
     },
     "execution_count": 2,
     "metadata": {},
     "output_type": "execute_result"
    }
   ],
   "source": [
    "# check current directory\n",
    "import os\n",
    "import pickle as pkl\n",
    "import numpy as np\n",
    "import pandas as pd\n",
    "import joblib\n",
    "\n",
    "os.getcwd()\n",
    "\n",
    "# change directory to where the data is\n",
    "os.chdir('/home/uccacbo/CrystaLLM')\n",
    "os.getcwd()"
   ]
  },
  {
   "cell_type": "markdown",
   "metadata": {},
   "source": [
    "### Make the Q&A dataset"
   ]
  },
  {
   "cell_type": "code",
   "execution_count": 3,
   "metadata": {},
   "outputs": [
    {
     "name": "stdout",
     "output_type": "stream",
     "text": [
      "downloading to ./cifs_v1_orig.pkl.gz ...\n",
      "100%|███████████████████████████████████████| 645M/645M [03:11<00:00, 3.37MiB/s]\n",
      "done!\n"
     ]
    }
   ],
   "source": [
    "!python bin/download.py cifs_v1_orig.pkl.gz"
   ]
  },
  {
   "cell_type": "code",
   "execution_count": null,
   "metadata": {},
   "outputs": [],
   "source": [
    "import pandas as pd\n",
    "\n",
    "output_file = 'compressed_datasets_models/CIFs_db_MP_500.pkl'\n",
    "\n",
    "# Load the DataFrame from the pickle file\n",
    "df = pd.read_pickle(output_file)\n",
    "\n",
    "pd.set_option(\"display.max_rows\", None)\n",
    "\n",
    "display(df)"
   ]
  },
  {
   "cell_type": "code",
   "execution_count": 3,
   "metadata": {},
   "outputs": [
    {
     "name": "stdout",
     "output_type": "stream",
     "text": [
      "Loading DataFrame from compressed_datasets_models/CIFs_db_MP_500.pkl...\n",
      "DataFrame loaded with 500 entries.\n",
      "Saving DataFrame to compressed_datasets_models/CIFs_db_MP_500.pkl.gz as a gzipped pickle file...\n",
      "Conversion to .pkl.gz completed successfully.\n"
     ]
    }
   ],
   "source": [
    "import pickle\n",
    "import gzip\n",
    "\n",
    "# Define input and output file paths\n",
    "input_pkl = 'compressed_datasets_models/CIFs_db_MP_500.pkl'       # Replace with your actual .pkl file path\n",
    "output_pkl_gz = 'compressed_datasets_models/CIFs_db_MP_500.pkl.gz'  # Desired .pkl.gz file path\n",
    "\n",
    "# Load the DataFrame from the .pkl file\n",
    "print(f\"Loading DataFrame from {input_pkl}...\")\n",
    "with open(input_pkl, 'rb') as f_in:\n",
    "    df = pickle.load(f_in)\n",
    "print(f\"DataFrame loaded with {len(df)} entries.\")\n",
    "\n",
    "# Save the DataFrame as a gzipped pickle file\n",
    "print(f\"Saving DataFrame to {output_pkl_gz} as a gzipped pickle file...\")\n",
    "with gzip.open(output_pkl_gz, 'wb') as f_out:\n",
    "    pickle.dump(df, f_out, protocol=pickle.HIGHEST_PROTOCOL)\n",
    "print(\"Conversion to .pkl.gz completed successfully.\")"
   ]
  },
  {
   "cell_type": "code",
   "execution_count": 11,
   "metadata": {},
   "outputs": [
    {
     "name": "stdout",
     "output_type": "stream",
     "text": [
      "Loading table data from compressed_datasets_models/CIFs_db_MP_500.pkl.gz...\n",
      "Number of rows in the table: 500\n",
      "Removing rows with non-numerical bandgap values...\n",
      "Number of rows after removing entries with no Bandgap: 487\n",
      "Deduplicating table CIF data...\n",
      "Processing DataFrame Rows: 100%|███████████| 487/487 [00:00<00:00, 22429.43it/s]\n",
      "Number of entries after deduplication: 486\n",
      "Saving deduplicated table data to compressed_datasets_models/table_MP_500_dedup.pkl.gz...\n",
      "Deduplication completed successfully.\n"
     ]
    }
   ],
   "source": [
    "!python bin/deduplicate.py compressed_datasets_models/CIFs_db_MP_500.pkl.gz --out compressed_datasets_models/table_MP_500_dedup.pkl.gz --type table"
   ]
  },
  {
   "cell_type": "code",
   "execution_count": 12,
   "metadata": {},
   "outputs": [
    {
     "name": "stdout",
     "output_type": "stream",
     "text": [
      "Deduplicated DataFrame has 486 entries.\n"
     ]
    },
    {
     "data": {
      "text/plain": [
       "\"# MP Entry mp-1002206 SiC Si1C1\\n# generated using pymatgen\\ndata_SiC\\n_symmetry_space_group_name_H-M   Fm-3m\\n_cell_length_a   4.05020000\\n_cell_length_b   4.05020000\\n_cell_length_c   4.05020000\\n_cell_angle_alpha   90.00000000\\n_cell_angle_beta   90.00000000\\n_cell_angle_gamma   90.00000000\\n_symmetry_Int_Tables_number   225\\n_chemical_formula_structural   SiC\\n_chemical_formula_sum   'Si4 C4'\\n_cell_volume   66.43996699\\n_cell_formula_units_Z   4\\nloop_\\n _symmetry_equiv_pos_site_id\\n _symmetry_equiv_pos_as_xyz\\n  1  'x, y, z'\\n  2  'x, y, z'\\n  3  '-x, -y, -z'\\n  4  '-x, -y, -z'\\n  5  '-y, x, z'\\n  6  '-y, x, z'\\n  7  'y, -x, -z'\\n  8  'y, -x, -z'\\n  9  '-x, -y, z'\\n  10  '-x, -y, z'\\n  11  'x, y, -z'\\n  12  'x, y, -z'\\n  13  'y, -x, z'\\n  14  'y, -x, z'\\n  15  '-y, x, -z'\\n  16  '-y, x, -z'\\n  17  'x, -y, -z'\\n  18  'x, -y, -z'\\n  19  '-x, y, z'\\n  20  '-x, y, z'\\n  21  '-y, -x, -z'\\n  22  '-y, -x, -z'\\n  23  'y, x, z'\\n  24  'y, x, z'\\n  25  '-x, y, -z'\\n  26  '-x, y, -z'\\n  27  'x, -y, z'\\n  28  'x, -y, z'\\n  29  'y, x, -z'\\n  30  'y, x, -z'\\n  31  '-y, -x, z'\\n  32  '-y, -x, z'\\n  33  'z, x, y'\\n  34  'z, x, y'\\n  35  '-z, -x, -y'\\n  36  '-z, -x, -y'\\n  37  'z, -y, x'\\n  38  'z, -y, x'\\n  39  '-z, y, -x'\\n  40  '-z, y, -x'\\n  41  'z, -x, -y'\\n  42  'z, -x, -y'\\n  43  '-z, x, y'\\n  44  '-z, x, y'\\n  45  'z, y, -x'\\n  46  'z, y, -x'\\n  47  '-z, -y, x'\\n  48  '-z, -y, x'\\n  49  '-z, x, -y'\\n  50  '-z, x, -y'\\n  51  'z, -x, y'\\n  52  'z, -x, y'\\n  53  '-z, -y, -x'\\n  54  '-z, -y, -x'\\n  55  'z, y, x'\\n  56  'z, y, x'\\n  57  '-z, -x, y'\\n  58  '-z, -x, y'\\n  59  'z, x, -y'\\n  60  'z, x, -y'\\n  61  '-z, y, x'\\n  62  '-z, y, x'\\n  63  'z, -y, -x'\\n  64  'z, -y, -x'\\n  65  'y, z, x'\\n  66  'y, z, x'\\n  67  '-y, -z, -x'\\n  68  '-y, -z, -x'\\n  69  'x, z, -y'\\n  70  'x, z, -y'\\n  71  '-x, -z, y'\\n  72  '-x, -z, y'\\n  73  '-y, z, -x'\\n  74  '-y, z, -x'\\n  75  'y, -z, x'\\n  76  'y, -z, x'\\n  77  '-x, z, y'\\n  78  '-x, z, y'\\n  79  'x, -z, -y'\\n  80  'x, -z, -y'\\n  81  '-y, -z, x'\\n  82  '-y, -z, x'\\n  83  'y, z, -x'\\n  84  'y, z, -x'\\n  85  '-x, -z, -y'\\n  86  '-x, -z, -y'\\n  87  'x, z, y'\\n  88  'x, z, y'\\n  89  'y, -z, -x'\\n  90  'y, -z, -x'\\n  91  '-y, z, x'\\n  92  '-y, z, x'\\n  93  'x, -z, y'\\n  94  'x, -z, y'\\n  95  '-x, z, -y'\\n  96  '-x, z, -y'\\n  97  'x+1/2, y+1/2, z'\\n  98  'x+1/2, y+1/2, z'\\n  99  '-x+1/2, -y+1/2, -z'\\n  100  '-x+1/2, -y+1/2, -z'\\n  101  '-y+1/2, x+1/2, z'\\n  102  '-y+1/2, x+1/2, z'\\n  103  'y+1/2, -x+1/2, -z'\\n  104  'y+1/2, -x+1/2, -z'\\n  105  '-x+1/2, -y+1/2, z'\\n  106  '-x+1/2, -y+1/2, z'\\n  107  'x+1/2, y+1/2, -z'\\n  108  'x+1/2, y+1/2, -z'\\n  109  'y+1/2, -x+1/2, z'\\n  110  'y+1/2, -x+1/2, z'\\n  111  '-y+1/2, x+1/2, -z'\\n  112  '-y+1/2, x+1/2, -z'\\n  113  'x+1/2, -y+1/2, -z'\\n  114  'x+1/2, -y+1/2, -z'\\n  115  '-x+1/2, y+1/2, z'\\n  116  '-x+1/2, y+1/2, z'\\n  117  '-y+1/2, -x+1/2, -z'\\n  118  '-y+1/2, -x+1/2, -z'\\n  119  'y+1/2, x+1/2, z'\\n  120  'y+1/2, x+1/2, z'\\n  121  '-x+1/2, y+1/2, -z'\\n  122  '-x+1/2, y+1/2, -z'\\n  123  'x+1/2, -y+1/2, z'\\n  124  'x+1/2, -y+1/2, z'\\n  125  'y+1/2, x+1/2, -z'\\n  126  'y+1/2, x+1/2, -z'\\n  127  '-y+1/2, -x+1/2, z'\\n  128  '-y+1/2, -x+1/2, z'\\n  129  'z+1/2, x+1/2, y'\\n  130  'z+1/2, x+1/2, y'\\n  131  '-z+1/2, -x+1/2, -y'\\n  132  '-z+1/2, -x+1/2, -y'\\n  133  'z+1/2, -y+1/2, x'\\n  134  'z+1/2, -y+1/2, x'\\n  135  '-z+1/2, y+1/2, -x'\\n  136  '-z+1/2, y+1/2, -x'\\n  137  'z+1/2, -x+1/2, -y'\\n  138  'z+1/2, -x+1/2, -y'\\n  139  '-z+1/2, x+1/2, y'\\n  140  '-z+1/2, x+1/2, y'\\n  141  'z+1/2, y+1/2, -x'\\n  142  'z+1/2, y+1/2, -x'\\n  143  '-z+1/2, -y+1/2, x'\\n  144  '-z+1/2, -y+1/2, x'\\n  145  '-z+1/2, x+1/2, -y'\\n  146  '-z+1/2, x+1/2, -y'\\n  147  'z+1/2, -x+1/2, y'\\n  148  'z+1/2, -x+1/2, y'\\n  149  '-z+1/2, -y+1/2, -x'\\n  150  '-z+1/2, -y+1/2, -x'\\n  151  'z+1/2, y+1/2, x'\\n  152  'z+1/2, y+1/2, x'\\n  153  '-z+1/2, -x+1/2, y'\\n  154  '-z+1/2, -x+1/2, y'\\n  155  'z+1/2, x+1/2, -y'\\n  156  'z+1/2, x+1/2, -y'\\n  157  '-z+1/2, y+1/2, x'\\n  158  '-z+1/2, y+1/2, x'\\n  159  'z+1/2, -y+1/2, -x'\\n  160  'z+1/2, -y+1/2, -x'\\n  161  'y+1/2, z+1/2, x'\\n  162  'y+1/2, z+1/2, x'\\n  163  '-y+1/2, -z+1/2, -x'\\n  164  '-y+1/2, -z+1/2, -x'\\n  165  'x+1/2, z+1/2, -y'\\n  166  'x+1/2, z+1/2, -y'\\n  167  '-x+1/2, -z+1/2, y'\\n  168  '-x+1/2, -z+1/2, y'\\n  169  '-y+1/2, z+1/2, -x'\\n  170  '-y+1/2, z+1/2, -x'\\n  171  'y+1/2, -z+1/2, x'\\n  172  'y+1/2, -z+1/2, x'\\n  173  '-x+1/2, z+1/2, y'\\n  174  '-x+1/2, z+1/2, y'\\n  175  'x+1/2, -z+1/2, -y'\\n  176  'x+1/2, -z+1/2, -y'\\n  177  '-y+1/2, -z+1/2, x'\\n  178  '-y+1/2, -z+1/2, x'\\n  179  'y+1/2, z+1/2, -x'\\n  180  'y+1/2, z+1/2, -x'\\n  181  '-x+1/2, -z+1/2, -y'\\n  182  '-x+1/2, -z+1/2, -y'\\n  183  'x+1/2, z+1/2, y'\\n  184  'x+1/2, z+1/2, y'\\n  185  'y+1/2, -z+1/2, -x'\\n  186  'y+1/2, -z+1/2, -x'\\n  187  '-y+1/2, z+1/2, x'\\n  188  '-y+1/2, z+1/2, x'\\n  189  'x+1/2, -z+1/2, y'\\n  190  'x+1/2, -z+1/2, y'\\n  191  '-x+1/2, z+1/2, -y'\\n  192  '-x+1/2, z+1/2, -y'\\n  193  'x+1/2, y, z+1/2'\\n  194  'x+1/2, y, z+1/2'\\n  195  '-x+1/2, -y, -z+1/2'\\n  196  '-x+1/2, -y, -z+1/2'\\n  197  '-y+1/2, x, z+1/2'\\n  198  '-y+1/2, x, z+1/2'\\n  199  'y+1/2, -x, -z+1/2'\\n  200  'y+1/2, -x, -z+1/2'\\n  201  '-x+1/2, -y, z+1/2'\\n  202  '-x+1/2, -y, z+1/2'\\n  203  'x+1/2, y, -z+1/2'\\n  204  'x+1/2, y, -z+1/2'\\n  205  'y+1/2, -x, z+1/2'\\n  206  'y+1/2, -x, z+1/2'\\n  207  '-y+1/2, x, -z+1/2'\\n  208  '-y+1/2, x, -z+1/2'\\n  209  'x+1/2, -y, -z+1/2'\\n  210  'x+1/2, -y, -z+1/2'\\n  211  '-x+1/2, y, z+1/2'\\n  212  '-x+1/2, y, z+1/2'\\n  213  '-y+1/2, -x, -z+1/2'\\n  214  '-y+1/2, -x, -z+1/2'\\n  215  'y+1/2, x, z+1/2'\\n  216  'y+1/2, x, z+1/2'\\n  217  '-x+1/2, y, -z+1/2'\\n  218  '-x+1/2, y, -z+1/2'\\n  219  'x+1/2, -y, z+1/2'\\n  220  'x+1/2, -y, z+1/2'\\n  221  'y+1/2, x, -z+1/2'\\n  222  'y+1/2, x, -z+1/2'\\n  223  '-y+1/2, -x, z+1/2'\\n  224  '-y+1/2, -x, z+1/2'\\n  225  'z+1/2, x, y+1/2'\\n  226  'z+1/2, x, y+1/2'\\n  227  '-z+1/2, -x, -y+1/2'\\n  228  '-z+1/2, -x, -y+1/2'\\n  229  'z+1/2, -y, x+1/2'\\n  230  'z+1/2, -y, x+1/2'\\n  231  '-z+1/2, y, -x+1/2'\\n  232  '-z+1/2, y, -x+1/2'\\n  233  'z+1/2, -x, -y+1/2'\\n  234  'z+1/2, -x, -y+1/2'\\n  235  '-z+1/2, x, y+1/2'\\n  236  '-z+1/2, x, y+1/2'\\n  237  'z+1/2, y, -x+1/2'\\n  238  'z+1/2, y, -x+1/2'\\n  239  '-z+1/2, -y, x+1/2'\\n  240  '-z+1/2, -y, x+1/2'\\n  241  '-z+1/2, x, -y+1/2'\\n  242  '-z+1/2, x, -y+1/2'\\n  243  'z+1/2, -x, y+1/2'\\n  244  'z+1/2, -x, y+1/2'\\n  245  '-z+1/2, -y, -x+1/2'\\n  246  '-z+1/2, -y, -x+1/2'\\n  247  'z+1/2, y, x+1/2'\\n  248  'z+1/2, y, x+1/2'\\n  249  '-z+1/2, -x, y+1/2'\\n  250  '-z+1/2, -x, y+1/2'\\n  251  'z+1/2, x, -y+1/2'\\n  252  'z+1/2, x, -y+1/2'\\n  253  '-z+1/2, y, x+1/2'\\n  254  '-z+1/2, y, x+1/2'\\n  255  'z+1/2, -y, -x+1/2'\\n  256  'z+1/2, -y, -x+1/2'\\n  257  'y+1/2, z, x+1/2'\\n  258  'y+1/2, z, x+1/2'\\n  259  '-y+1/2, -z, -x+1/2'\\n  260  '-y+1/2, -z, -x+1/2'\\n  261  'x+1/2, z, -y+1/2'\\n  262  'x+1/2, z, -y+1/2'\\n  263  '-x+1/2, -z, y+1/2'\\n  264  '-x+1/2, -z, y+1/2'\\n  265  '-y+1/2, z, -x+1/2'\\n  266  '-y+1/2, z, -x+1/2'\\n  267  'y+1/2, -z, x+1/2'\\n  268  'y+1/2, -z, x+1/2'\\n  269  '-x+1/2, z, y+1/2'\\n  270  '-x+1/2, z, y+1/2'\\n  271  'x+1/2, -z, -y+1/2'\\n  272  'x+1/2, -z, -y+1/2'\\n  273  '-y+1/2, -z, x+1/2'\\n  274  '-y+1/2, -z, x+1/2'\\n  275  'y+1/2, z, -x+1/2'\\n  276  'y+1/2, z, -x+1/2'\\n  277  '-x+1/2, -z, -y+1/2'\\n  278  '-x+1/2, -z, -y+1/2'\\n  279  'x+1/2, z, y+1/2'\\n  280  'x+1/2, z, y+1/2'\\n  281  'y+1/2, -z, -x+1/2'\\n  282  'y+1/2, -z, -x+1/2'\\n  283  '-y+1/2, z, x+1/2'\\n  284  '-y+1/2, z, x+1/2'\\n  285  'x+1/2, -z, y+1/2'\\n  286  'x+1/2, -z, y+1/2'\\n  287  '-x+1/2, z, -y+1/2'\\n  288  '-x+1/2, z, -y+1/2'\\n  289  'x, y+1/2, z+1/2'\\n  290  'x, y+1/2, z+1/2'\\n  291  '-x, -y+1/2, -z+1/2'\\n  292  '-x, -y+1/2, -z+1/2'\\n  293  '-y, x+1/2, z+1/2'\\n  294  '-y, x+1/2, z+1/2'\\n  295  'y, -x+1/2, -z+1/2'\\n  296  'y, -x+1/2, -z+1/2'\\n  297  '-x, -y+1/2, z+1/2'\\n  298  '-x, -y+1/2, z+1/2'\\n  299  'x, y+1/2, -z+1/2'\\n  300  'x, y+1/2, -z+1/2'\\n  301  'y, -x+1/2, z+1/2'\\n  302  'y, -x+1/2, z+1/2'\\n  303  '-y, x+1/2, -z+1/2'\\n  304  '-y, x+1/2, -z+1/2'\\n  305  'x, -y+1/2, -z+1/2'\\n  306  'x, -y+1/2, -z+1/2'\\n  307  '-x, y+1/2, z+1/2'\\n  308  '-x, y+1/2, z+1/2'\\n  309  '-y, -x+1/2, -z+1/2'\\n  310  '-y, -x+1/2, -z+1/2'\\n  311  'y, x+1/2, z+1/2'\\n  312  'y, x+1/2, z+1/2'\\n  313  '-x, y+1/2, -z+1/2'\\n  314  '-x, y+1/2, -z+1/2'\\n  315  'x, -y+1/2, z+1/2'\\n  316  'x, -y+1/2, z+1/2'\\n  317  'y, x+1/2, -z+1/2'\\n  318  'y, x+1/2, -z+1/2'\\n  319  '-y, -x+1/2, z+1/2'\\n  320  '-y, -x+1/2, z+1/2'\\n  321  'z, x+1/2, y+1/2'\\n  322  'z, x+1/2, y+1/2'\\n  323  '-z, -x+1/2, -y+1/2'\\n  324  '-z, -x+1/2, -y+1/2'\\n  325  'z, -y+1/2, x+1/2'\\n  326  'z, -y+1/2, x+1/2'\\n  327  '-z, y+1/2, -x+1/2'\\n  328  '-z, y+1/2, -x+1/2'\\n  329  'z, -x+1/2, -y+1/2'\\n  330  'z, -x+1/2, -y+1/2'\\n  331  '-z, x+1/2, y+1/2'\\n  332  '-z, x+1/2, y+1/2'\\n  333  'z, y+1/2, -x+1/2'\\n  334  'z, y+1/2, -x+1/2'\\n  335  '-z, -y+1/2, x+1/2'\\n  336  '-z, -y+1/2, x+1/2'\\n  337  '-z, x+1/2, -y+1/2'\\n  338  '-z, x+1/2, -y+1/2'\\n  339  'z, -x+1/2, y+1/2'\\n  340  'z, -x+1/2, y+1/2'\\n  341  '-z, -y+1/2, -x+1/2'\\n  342  '-z, -y+1/2, -x+1/2'\\n  343  'z, y+1/2, x+1/2'\\n  344  'z, y+1/2, x+1/2'\\n  345  '-z, -x+1/2, y+1/2'\\n  346  '-z, -x+1/2, y+1/2'\\n  347  'z, x+1/2, -y+1/2'\\n  348  'z, x+1/2, -y+1/2'\\n  349  '-z, y+1/2, x+1/2'\\n  350  '-z, y+1/2, x+1/2'\\n  351  'z, -y+1/2, -x+1/2'\\n  352  'z, -y+1/2, -x+1/2'\\n  353  'y, z+1/2, x+1/2'\\n  354  'y, z+1/2, x+1/2'\\n  355  '-y, -z+1/2, -x+1/2'\\n  356  '-y, -z+1/2, -x+1/2'\\n  357  'x, z+1/2, -y+1/2'\\n  358  'x, z+1/2, -y+1/2'\\n  359  '-x, -z+1/2, y+1/2'\\n  360  '-x, -z+1/2, y+1/2'\\n  361  '-y, z+1/2, -x+1/2'\\n  362  '-y, z+1/2, -x+1/2'\\n  363  'y, -z+1/2, x+1/2'\\n  364  'y, -z+1/2, x+1/2'\\n  365  '-x, z+1/2, y+1/2'\\n  366  '-x, z+1/2, y+1/2'\\n  367  'x, -z+1/2, -y+1/2'\\n  368  'x, -z+1/2, -y+1/2'\\n  369  '-y, -z+1/2, x+1/2'\\n  370  '-y, -z+1/2, x+1/2'\\n  371  'y, z+1/2, -x+1/2'\\n  372  'y, z+1/2, -x+1/2'\\n  373  '-x, -z+1/2, -y+1/2'\\n  374  '-x, -z+1/2, -y+1/2'\\n  375  'x, z+1/2, y+1/2'\\n  376  'x, z+1/2, y+1/2'\\n  377  'y, -z+1/2, -x+1/2'\\n  378  'y, -z+1/2, -x+1/2'\\n  379  '-y, z+1/2, x+1/2'\\n  380  '-y, z+1/2, x+1/2'\\n  381  'x, -z+1/2, y+1/2'\\n  382  'x, -z+1/2, y+1/2'\\n  383  '-x, z+1/2, -y+1/2'\\n  384  '-x, z+1/2, -y+1/2'\\nloop_\\n _atom_site_type_symbol\\n _atom_site_label\\n _atom_site_symmetry_multiplicity\\n _atom_site_fract_x\\n _atom_site_fract_y\\n _atom_site_fract_z\\n _atom_site_occupancy\\n  Si  Si0  4  0.00000000  0.00000000  0.00000000  1\\n  C  C1  4  0.00000000  0.00000000  0.50000000  1\\n\""
      ]
     },
     "execution_count": 12,
     "metadata": {},
     "output_type": "execute_result"
    }
   ],
   "source": [
    "import pickle\n",
    "import gzip\n",
    "import pandas as pd\n",
    "\n",
    "# Define the deduplicated file path\n",
    "deduplicated_file = 'compressed_datasets_models/table_MP_500_dedup.pkl.gz'  # Replace with your deduplicated file path\n",
    "\n",
    "# Load the deduplicated DataFrame\n",
    "with gzip.open(deduplicated_file, 'rb') as f:\n",
    "    dedup_df = pickle.load(f)\n",
    "\n",
    "print(f\"Deduplicated DataFrame has {len(dedup_df)} entries.\")\n",
    "dedup_df\n",
    "dedup_df['CIF'][0]"
   ]
  },
  {
   "cell_type": "code",
   "execution_count": 21,
   "metadata": {},
   "outputs": [
    {
     "name": "stdout",
     "output_type": "stream",
     "text": [
      "Loading data from compressed_datasets_models/table_MP_500_dedup.pkl.gz as type 'table'...\n",
      "Found 486 rows in the dataframe\n",
      "Removing all rows with Bandgap (eV) = 0...\n",
      "There are now 247 rows in the dataframe\n",
      "Rounding the 'Bandgap (eV)' column to 3 decimal places...\n",
      "100%|███████████████████████████████████████| 247/247 [00:00<00:00, 2749.58it/s]\n",
      "Number of CIFs after preprocessing: 247\n",
      "Saving updated dataframe to compressed_datasets_models/table_MP_500_pp.pkl.gz...\n",
      "Preprocessing completed successfully.\n"
     ]
    }
   ],
   "source": [
    "!python bin/preprocess.py compressed_datasets_models/table_MP_500_dedup.pkl.gz --out compressed_datasets_models/table_MP_500_pp.pkl.gz --type table"
   ]
  },
  {
   "cell_type": "code",
   "execution_count": 22,
   "metadata": {},
   "outputs": [
    {
     "name": "stdout",
     "output_type": "stream",
     "text": [
      "Deduplicated DataFrame has 247 entries.\n"
     ]
    },
    {
     "data": {
      "text/html": [
       "<div>\n",
       "<style scoped>\n",
       "    .dataframe tbody tr th:only-of-type {\n",
       "        vertical-align: middle;\n",
       "    }\n",
       "\n",
       "    .dataframe tbody tr th {\n",
       "        vertical-align: top;\n",
       "    }\n",
       "\n",
       "    .dataframe thead th {\n",
       "        text-align: right;\n",
       "    }\n",
       "</style>\n",
       "<table border=\"1\" class=\"dataframe\">\n",
       "  <thead>\n",
       "    <tr style=\"text-align: right;\">\n",
       "      <th></th>\n",
       "      <th>Database</th>\n",
       "      <th>Reduced Formula</th>\n",
       "      <th>CIF</th>\n",
       "      <th>Bandgap (eV)</th>\n",
       "    </tr>\n",
       "  </thead>\n",
       "  <tbody>\n",
       "    <tr>\n",
       "      <th>0</th>\n",
       "      <td>MP</td>\n",
       "      <td>BrCl</td>\n",
       "      <td># MP Entry mp-1008492 BrCl Br2Cl2\\n# generated...</td>\n",
       "      <td>1.828</td>\n",
       "    </tr>\n",
       "    <tr>\n",
       "      <th>1</th>\n",
       "      <td>MP</td>\n",
       "      <td>NaGaTe2</td>\n",
       "      <td># MP Entry mp-10164 NaGaTe2 Na2Ga2Te4\\n# gener...</td>\n",
       "      <td>0.396</td>\n",
       "    </tr>\n",
       "    <tr>\n",
       "      <th>2</th>\n",
       "      <td>MP</td>\n",
       "      <td>Cd(AgI2)2</td>\n",
       "      <td># MP Entry mp-1025377 Cd(AgI2)2 Cd1Ag2I4\\n# ge...</td>\n",
       "      <td>2.005</td>\n",
       "    </tr>\n",
       "    <tr>\n",
       "      <th>3</th>\n",
       "      <td>MP</td>\n",
       "      <td>Mg30NbVO32</td>\n",
       "      <td># MP Entry mp-1036765 Mg30NbVO32 Mg30Nb1V1O32\\...</td>\n",
       "      <td>0.392</td>\n",
       "    </tr>\n",
       "    <tr>\n",
       "      <th>4</th>\n",
       "      <td>MP</td>\n",
       "      <td>TaInRh2</td>\n",
       "      <td># MP Entry mp-1093812 TaInRh2 Ta1In1Rh2\\n# gen...</td>\n",
       "      <td>0.621</td>\n",
       "    </tr>\n",
       "  </tbody>\n",
       "</table>\n",
       "</div>"
      ],
      "text/plain": [
       "  Database Reduced Formula                                                CIF  \\\n",
       "0       MP            BrCl  # MP Entry mp-1008492 BrCl Br2Cl2\\n# generated...   \n",
       "1       MP         NaGaTe2  # MP Entry mp-10164 NaGaTe2 Na2Ga2Te4\\n# gener...   \n",
       "2       MP       Cd(AgI2)2  # MP Entry mp-1025377 Cd(AgI2)2 Cd1Ag2I4\\n# ge...   \n",
       "3       MP      Mg30NbVO32  # MP Entry mp-1036765 Mg30NbVO32 Mg30Nb1V1O32\\...   \n",
       "4       MP         TaInRh2  # MP Entry mp-1093812 TaInRh2 Ta1In1Rh2\\n# gen...   \n",
       "\n",
       "   Bandgap (eV)  \n",
       "0         1.828  \n",
       "1         0.396  \n",
       "2         2.005  \n",
       "3         0.392  \n",
       "4         0.621  "
      ]
     },
     "execution_count": 22,
     "metadata": {},
     "output_type": "execute_result"
    }
   ],
   "source": [
    "import pickle\n",
    "import gzip\n",
    "import pandas as pd\n",
    "\n",
    "# Define the deduplicated file path\n",
    "deduplicated_file = 'compressed_datasets_models/table_MP_500_pp.pkl.gz'  # Replace with your deduplicated file path\n",
    "\n",
    "# Load the deduplicated DataFrame\n",
    "with gzip.open(deduplicated_file, 'rb') as f:\n",
    "    dedup_df = pickle.load(f)\n",
    "\n",
    "print(f\"Deduplicated DataFrame has {len(dedup_df)} entries.\")\n",
    "dedup_df.head()"
   ]
  },
  {
   "cell_type": "code",
   "execution_count": 5,
   "metadata": {},
   "outputs": [
    {
     "name": "stdout",
     "output_type": "stream",
     "text": [
      "Loading dataframe from compressed_datasets_models/table_MP_500_pp.pkl.gz...\n",
      "Preprocessing CIFs...: 100%|███████████████| 247/247 [00:00<00:00, 45872.88it/s]\n",
      "Tokenizing CIFs...\n",
      "Tokenizing...:   0%|                                    | 0/247 [00:00<?, ?it/s]Amount of tokens in tokenizer:  371\n",
      "['Si', 'C', 'Pb', 'I', 'Br', 'Cl', 'Eu', 'O', 'Fe', 'Sb', 'In', 'S', 'N', 'U', 'Mn', 'Lu', 'Se', 'Tl', 'Hf', 'Ir', 'Ca', 'Ta', 'Cr', 'K', 'Pm', 'Mg', 'Zn', 'Cu', 'Sn', 'Ti', 'B', 'W', 'P', 'H', 'Pd', 'As', 'Co', 'Np', 'Tc', 'Hg', 'Pu', 'Al', 'Tm', 'Tb', 'Ho', 'Nb', 'Ge', 'Zr', 'Cd', 'V', 'Sr', 'Ni', 'Rh', 'Th', 'Na', 'Ru', 'La', 'Re', 'Y', 'Er', 'Ce', 'Pt', 'Ga', 'Li', 'Cs', 'F', 'Ba', 'Te', 'Mo', 'Gd', 'Pr', 'Bi', 'Sc', 'Ag', 'Rb', 'Dy', 'Yb', 'Nd', 'Au', 'Os', 'Pa', 'Sm', 'Be', 'Ac', 'Xe', 'Kr', 'He', 'Ne', 'Ar', '0', '1', '2', '3', '4', '5', '6', '7', '8', '9', '_cell_length_b', '_atom_site_occupancy', '_atom_site_attached_hydrogens', '_cell_length_a', '_cell_angle_beta', '_symmetry_equiv_pos_as_xyz', '_cell_angle_gamma', '_atom_site_fract_x', '_symmetry_space_group_name_H-M', '_symmetry_Int_Tables_number', '_chemical_formula_structural', '_chemical_name_systematic', '_atom_site_fract_y', '_atom_site_symmetry_multiplicity', '_chemical_formula_sum', '_atom_site_label', '_atom_site_type_symbol', '_cell_length_c', '_atom_site_B_iso_or_equiv', '_symmetry_equiv_pos_site_id', '_cell_volume', '_atom_site_fract_z', '_cell_angle_alpha', '_cell_formula_units_Z', 'loop_', 'data_', '_atom_type_symbol', '_atom_type_electronegativity', '_atom_type_radius', '_atom_type_ionic_radius', '_atom_type_oxidation_number', 'x', 'y', 'z', '.', '(', ')', '+', '-', '/', \"'\", ',', ' ', '\\n', 'P6/mmm_sg', 'Imma_sg', 'P4_32_12_sg', 'P4_2/mnm_sg', 'Fd-3m_sg', 'P3m1_sg', 'P-3_sg', 'P4mm_sg', 'P4_332_sg', 'P4/nnc_sg', 'P2_12_12_sg', 'Pnn2_sg', 'Pbcn_sg', 'P4_2/n_sg', 'Cm_sg', 'R3m_sg', 'Cmce_sg', 'Aea2_sg', 'P-42_1m_sg', 'P-42m_sg', 'P2_13_sg', 'R-3_sg', 'Fm-3_sg', 'Cmm2_sg', 'Pn-3n_sg', 'P6/mcc_sg', 'P-6m2_sg', 'P3_2_sg', 'P-3m1_sg', 'P3_212_sg', 'I23_sg', 'P-62m_sg', 'P4_2nm_sg', 'Pma2_sg', 'Pmma_sg', 'I-42m_sg', 'P-31c_sg', 'Pa-3_sg', 'Pmmn_sg', 'Pmmm_sg', 'P4_2/ncm_sg', 'I4/mcm_sg', 'I-4m2_sg', 'P3_1_sg', 'Pcc2_sg', 'Cmcm_sg', 'I222_sg', 'Fddd_sg', 'P312_sg', 'Cccm_sg', 'P6_1_sg', 'F-43c_sg', 'P6_322_sg', 'Pm-3_sg', 'P3_121_sg', 'P6_4_sg', 'Ia-3d_sg', 'Pm-3m_sg', 'P2_1/c_sg', 'C222_1_sg', 'Pc_sg', 'P4/n_sg', 'Pba2_sg', 'Ama2_sg', 'Pbcm_sg', 'P31m_sg', 'Pcca_sg', 'P222_sg', 'P-43n_sg', 'Pccm_sg', 'P6_422_sg', 'F23_sg', 'P42_12_sg', 'C222_sg', 'Pnnn_sg', 'P6_3cm_sg', 'P4_12_12_sg', 'P6/m_sg', 'Fmm2_sg', 'I4_1/a_sg', 'P4/mbm_sg', 'Pmn2_1_sg', 'P4_2bc_sg', 'P4_22_12_sg', 'I-43d_sg', 'I4/m_sg', 'P4bm_sg', 'Fdd2_sg', 'P3_sg', 'P6_122_sg', 'Pnc2_sg', 'P4_2/mcm_sg', 'P4_122_sg', 'Cmc2_1_sg', 'P-6c2_sg', 'R32_sg', 'P4_1_sg', 'P4_232_sg', 'Pnna_sg', 'P422_sg', 'Pban_sg', 'Cc_sg', 'I4_122_sg', 'P6_3/m_sg', 'P6_3mc_sg', 'I4_1/amd_sg', 'P4_2_sg', 'P4/nmm_sg', 'Pmna_sg', 'P4/m_sg', 'Fm-3m_sg', 'P4/mmm_sg', 'Imm2_sg', 'P4/ncc_sg', 'P-62c_sg', 'Ima2_sg', 'P6_5_sg', 'P2/c_sg', 'P4/nbm_sg', 'Ibam_sg', 'P6_522_sg', 'P6_3/mmc_sg', 'I4/mmm_sg', 'Fmmm_sg', 'P2/m_sg', 'P-4b2_sg', 'I-4_sg', 'C2/m_sg', 'P4_2/mmc_sg', 'P4_sg', 'Fd-3c_sg', 'P4_3_sg', 'P2_1/m_sg', 'I-43m_sg', 'P-42c_sg', 'F4_132_sg', 'Pm_sg', 'Pccn_sg', 'P-4n2_sg', 'P4_132_sg', 'P23_sg', 'I4cm_sg', 'R3c_sg', 'Amm2_sg', 'Immm_sg', 'Iba2_sg', 'I4_sg', 'Fd-3_sg', 'P1_sg', 'Pbam_sg', 'P4_2/nbc_sg', 'Im-3_sg', 'P4_2/nnm_sg', 'Pmc2_1_sg', 'P-31m_sg', 'R-3m_sg', 'Ia-3_sg', 'P622_sg', 'F222_sg', 'P2_sg', 'P-1_sg', 'Pmm2_sg', 'P-4_sg', 'Aem2_sg', 'P6_222_sg', 'P-3c1_sg', 'P4_322_sg', 'I422_sg', 'Pnma_sg', 'P6_3_sg', 'P3c1_sg', 'Pn-3_sg', 'P4nc_sg', 'P-6_sg', 'P4/mcc_sg', 'I2_12_12_1_sg', 'P4_2/mbc_sg', 'P31c_sg', 'Ccc2_sg', 'P4_2/nmc_sg', 'P6_3/mcm_sg', 'C2_sg', 'Pbca_sg', 'P-4c2_sg', 'I4_1cd_sg', 'P2_1_sg', 'P3_112_sg', 'P4_2mc_sg', 'Pn-3m_sg', 'C2/c_sg', 'R3_sg', 'P-43m_sg', 'I432_sg', 'P222_1_sg', 'I-42d_sg', 'I-4c2_sg', 'P6cc_sg', 'P6_2_sg', 'P3_221_sg', 'P321_sg', 'Pca2_1_sg', 'I4_1/acd_sg', 'I4_132_sg', 'F432_sg', 'Pna2_1_sg', 'Ccce_sg', 'Ibca_sg', 'P4/mnc_sg', 'I4_1md_sg', 'P2_12_12_1_sg', 'R-3c_sg', 'I2_13_sg', 'P-4m2_sg', 'Pm-3n_sg', 'I4mm_sg', 'F-43m_sg', 'Pnnm_sg', 'P-42_1c_sg', 'Cmmm_sg', 'P6mm_sg', 'P4_2cm_sg', 'P4_2/m_sg', 'Im-3m_sg', 'Fm-3c_sg', 'I4_1_sg', 'P4cc_sg', 'Cmme_sg', '<unk>']\n",
      "Amount of tokens in tokenizer:  371\n",
      "['Si', 'C', 'Pb', 'I', 'Br', 'Cl', 'Eu', 'O', 'Fe', 'Sb', 'In', 'S', 'N', 'U', 'Mn', 'Lu', 'Se', 'Tl', 'Hf', 'Ir', 'Ca', 'Ta', 'Cr', 'K', 'Pm', 'Mg', 'Zn', 'Cu', 'Sn', 'Ti', 'B', 'W', 'P', 'H', 'Pd', 'As', 'Co', 'Np', 'Tc', 'Hg', 'Pu', 'Al', 'Tm', 'Tb', 'Ho', 'Nb', 'Ge', 'Zr', 'Cd', 'V', 'Sr', 'Ni', 'Rh', 'Th', 'Na', 'Ru', 'La', 'Re', 'Y', 'Er', 'Ce', 'Pt', 'Ga', 'Li', 'Cs', 'F', 'Ba', 'Te', 'Mo', 'Gd', 'Pr', 'Bi', 'Sc', 'Ag', 'Rb', 'Dy', 'Yb', 'Nd', 'Au', 'Os', 'Pa', 'Sm', 'Be', 'Ac', 'Xe', 'Kr', 'He', 'Ne', 'Ar', '0', '1', '2', '3', '4', '5', '6', '7', '8', '9', '_cell_length_b', '_atom_site_occupancy', '_atom_site_attached_hydrogens', '_cell_length_a', '_cell_angle_beta', '_symmetry_equiv_pos_as_xyz', '_cell_angle_gamma', '_atom_site_fract_x', '_symmetry_space_group_name_H-M', '_symmetry_Int_Tables_number', '_chemical_formula_structural', '_chemical_name_systematic', '_atom_site_fract_y', '_atom_site_symmetry_multiplicity', '_chemical_formula_sum', '_atom_site_label', '_atom_site_type_symbol', '_cell_length_c', '_atom_site_B_iso_or_equiv', '_symmetry_equiv_pos_site_id', '_cell_volume', '_atom_site_fract_z', '_cell_angle_alpha', '_cell_formula_units_Z', 'loop_', 'data_', '_atom_type_symbol', '_atom_type_electronegativity', '_atom_type_radius', '_atom_type_ionic_radius', '_atom_type_oxidation_number', 'x', 'y', 'z', '.', '(', ')', '+', '-', '/', \"'\", ',', ' ', '\\n', 'P6/mmm_sg', 'Imma_sg', 'P4_32_12_sg', 'P4_2/mnm_sg', 'Fd-3m_sg', 'P3m1_sg', 'P-3_sg', 'P4mm_sg', 'P4_332_sg', 'P4/nnc_sg', 'P2_12_12_sg', 'Pnn2_sg', 'Pbcn_sg', 'P4_2/n_sg', 'Cm_sg', 'R3m_sg', 'Cmce_sg', 'Aea2_sg', 'P-42_1m_sg', 'P-42m_sg', 'P2_13_sg', 'R-3_sg', 'Fm-3_sg', 'Cmm2_sg', 'Pn-3n_sg', 'P6/mcc_sg', 'P-6m2_sg', 'P3_2_sg', 'P-3m1_sg', 'P3_212_sg', 'I23_sg', 'P-62m_sg', 'P4_2nm_sg', 'Pma2_sg', 'Pmma_sg', 'I-42m_sg', 'P-31c_sg', 'Pa-3_sg', 'Pmmn_sg', 'Pmmm_sg', 'P4_2/ncm_sg', 'I4/mcm_sg', 'I-4m2_sg', 'P3_1_sg', 'Pcc2_sg', 'Cmcm_sg', 'I222_sg', 'Fddd_sg', 'P312_sg', 'Cccm_sg', 'P6_1_sg', 'F-43c_sg', 'P6_322_sg', 'Pm-3_sg', 'P3_121_sg', 'P6_4_sg', 'Ia-3d_sg', 'Pm-3m_sg', 'P2_1/c_sg', 'C222_1_sg', 'Pc_sg', 'P4/n_sg', 'Pba2_sg', 'Ama2_sg', 'Pbcm_sg', 'P31m_sg', 'Pcca_sg', 'P222_sg', 'P-43n_sg', 'Pccm_sg', 'P6_422_sg', 'F23_sg', 'P42_12_sg', 'C222_sg', 'Pnnn_sg', 'P6_3cm_sg', 'P4_12_12_sg', 'P6/m_sg', 'Fmm2_sg', 'I4_1/a_sg', 'P4/mbm_sg', 'Pmn2_1_sg', 'P4_2bc_sg', 'P4_22_12_sg', 'I-43d_sg', 'I4/m_sg', 'P4bm_sg', 'Fdd2_sg', 'P3_sg', 'P6_122_sg', 'Pnc2_sg', 'P4_2/mcm_sg', 'P4_122_sg', 'Cmc2_1_sg', 'P-6c2_sg', 'R32_sg', 'P4_1_sg', 'P4_232_sg', 'Pnna_sg', 'P422_sg', 'Pban_sg', 'Cc_sg', 'I4_122_sg', 'P6_3/m_sg', 'P6_3mc_sg', 'I4_1/amd_sg', 'P4_2_sg', 'P4/nmm_sg', 'Pmna_sg', 'P4/m_sg', 'Fm-3m_sg', 'P4/mmm_sg', 'Imm2_sg', 'P4/ncc_sg', 'P-62c_sg', 'Ima2_sg', 'P6_5_sg', 'P2/c_sg', 'P4/nbm_sg', 'Ibam_sg', 'P6_522_sg', 'P6_3/mmc_sg', 'I4/mmm_sg', 'Fmmm_sg', 'P2/m_sg', 'P-4b2_sg', 'I-4_sg', 'C2/m_sg', 'P4_2/mmc_sg', 'P4_sg', 'Fd-3c_sg', 'P4_3_sg', 'P2_1/m_sg', 'I-43m_sg', 'P-42c_sg', 'F4_132_sg', 'Pm_sg', 'Pccn_sg', 'P-4n2_sg', 'P4_132_sg', 'P23_sg', 'I4cm_sg', 'R3c_sg', 'Amm2_sg', 'Immm_sg', 'Iba2_sg', 'I4_sg', 'Fd-3_sg', 'P1_sg', 'Pbam_sg', 'P4_2/nbc_sg', 'Im-3_sg', 'P4_2/nnm_sg', 'Pmc2_1_sg', 'P-31m_sg', 'R-3m_sg', 'Ia-3_sg', 'P622_sg', 'F222_sg', 'P2_sg', 'P-1_sg', 'Pmm2_sg', 'P-4_sg', 'Aem2_sg', 'P6_222_sg', 'P-3c1_sg', 'P4_322_sg', 'I422_sg', 'Pnma_sg', 'P6_3_sg', 'P3c1_sg', 'Pn-3_sg', 'P4nc_sg', 'P-6_sg', 'P4/mcc_sg', 'I2_12_12_1_sg', 'P4_2/mbc_sg', 'P31c_sg', 'Ccc2_sg', 'P4_2/nmc_sg', 'P6_3/mcm_sg', 'C2_sg', 'Pbca_sg', 'P-4c2_sg', 'I4_1cd_sg', 'P2_1_sg', 'P3_112_sg', 'P4_2mc_sg', 'Pn-3m_sg', 'C2/c_sg', 'R3_sg', 'P-43m_sg', 'I432_sg', 'P222_1_sg', 'I-42d_sg', 'I-4c2_sg', 'P6cc_sg', 'P6_2_sg', 'P3_221_sg', 'P321_sg', 'Pca2_1_sg', 'I4_1/acd_sg', 'I4_132_sg', 'F432_sg', 'Pna2_1_sg', 'Ccce_sg', 'Ibca_sg', 'P4/mnc_sg', 'I4_1md_sg', 'P2_12_12_1_sg', 'R-3c_sg', 'I2_13_sg', 'P-4m2_sg', 'Pm-3n_sg', 'I4mm_sg', 'F-43m_sg', 'Pnnm_sg', 'P-42_1c_sg', 'Cmmm_sg', 'P6mm_sg', 'P4_2cm_sg', 'P4_2/m_sg', 'Im-3m_sg', 'Fm-3c_sg', 'I4_1_sg', 'P4cc_sg', 'Cmme_sg', '<unk>']\n",
      "Amount of tokens in tokenizer:  371\n",
      "['Si', 'C', 'Pb', 'I', 'Br', 'Cl', 'Eu', 'O', 'Fe', 'Sb', 'In', 'S', 'N', 'U', 'Mn', 'Lu', 'Se', 'Tl', 'Hf', 'Ir', 'Ca', 'Ta', 'Cr', 'K', 'Pm', 'Mg', 'Zn', 'Cu', 'Sn', 'Ti', 'B', 'W', 'P', 'H', 'Pd', 'As', 'Co', 'Np', 'Tc', 'Hg', 'Pu', 'Al', 'Tm', 'Tb', 'Ho', 'Nb', 'Ge', 'Zr', 'Cd', 'V', 'Sr', 'Ni', 'Rh', 'Th', 'Na', 'Ru', 'La', 'Re', 'Y', 'Er', 'Ce', 'Pt', 'Ga', 'Li', 'Cs', 'F', 'Ba', 'Te', 'Mo', 'Gd', 'Pr', 'Bi', 'Sc', 'Ag', 'Rb', 'Dy', 'Yb', 'Nd', 'Au', 'Os', 'Pa', 'Sm', 'Be', 'Ac', 'Xe', 'Kr', 'He', 'Ne', 'Ar', '0', '1', '2', '3', '4', '5', '6', '7', '8', '9', '_cell_length_b', '_atom_site_occupancy', '_atom_site_attached_hydrogens', '_cell_length_a', '_cell_angle_beta', '_symmetry_equiv_pos_as_xyz', '_cell_angle_gamma', '_atom_site_fract_x', '_symmetry_space_group_name_H-M', '_symmetry_Int_Tables_number', '_chemical_formula_structural', '_chemical_name_systematic', '_atom_site_fract_y', '_atom_site_symmetry_multiplicity', '_chemical_formula_sum', '_atom_site_label', '_atom_site_type_symbol', '_cell_length_c', '_atom_site_B_iso_or_equiv', '_symmetry_equiv_pos_site_id', '_cell_volume', '_atom_site_fract_z', '_cell_angle_alpha', '_cell_formula_units_Z', 'loop_', 'data_', '_atom_type_symbol', '_atom_type_electronegativity', '_atom_type_radius', '_atom_type_ionic_radius', '_atom_type_oxidation_number', 'x', 'y', 'z', '.', '(', ')', '+', '-', '/', \"'\", ',', ' ', '\\n', 'P6/mmm_sg', 'Imma_sg', 'P4_32_12_sg', 'P4_2/mnm_sg', 'Fd-3m_sg', 'P3m1_sg', 'P-3_sg', 'P4mm_sg', 'P4_332_sg', 'P4/nnc_sg', 'P2_12_12_sg', 'Pnn2_sg', 'Pbcn_sg', 'P4_2/n_sg', 'Cm_sg', 'R3m_sg', 'Cmce_sg', 'Aea2_sg', 'P-42_1m_sg', 'P-42m_sg', 'P2_13_sg', 'R-3_sg', 'Fm-3_sg', 'Cmm2_sg', 'Pn-3n_sg', 'P6/mcc_sg', 'P-6m2_sg', 'P3_2_sg', 'P-3m1_sg', 'P3_212_sg', 'I23_sg', 'P-62m_sg', 'P4_2nm_sg', 'Pma2_sg', 'Pmma_sg', 'I-42m_sg', 'P-31c_sg', 'Pa-3_sg', 'Pmmn_sg', 'Pmmm_sg', 'P4_2/ncm_sg', 'I4/mcm_sg', 'I-4m2_sg', 'P3_1_sg', 'Pcc2_sg', 'Cmcm_sg', 'I222_sg', 'Fddd_sg', 'P312_sg', 'Cccm_sg', 'P6_1_sg', 'F-43c_sg', 'P6_322_sg', 'Pm-3_sg', 'P3_121_sg', 'P6_4_sg', 'Ia-3d_sg', 'Pm-3m_sg', 'P2_1/c_sg', 'C222_1_sg', 'Pc_sg', 'P4/n_sg', 'Pba2_sg', 'Ama2_sg', 'Pbcm_sg', 'P31m_sg', 'Pcca_sg', 'P222_sg', 'P-43n_sg', 'Pccm_sg', 'P6_422_sg', 'F23_sg', 'P42_12_sg', 'C222_sg', 'Pnnn_sg', 'P6_3cm_sg', 'P4_12_12_sg', 'P6/m_sg', 'Fmm2_sg', 'I4_1/a_sg', 'P4/mbm_sg', 'Pmn2_1_sg', 'P4_2bc_sg', 'P4_22_12_sg', 'I-43d_sg', 'I4/m_sg', 'P4bm_sg', 'Fdd2_sg', 'P3_sg', 'P6_122_sg', 'Pnc2_sg', 'P4_2/mcm_sg', 'P4_122_sg', 'Cmc2_1_sg', 'P-6c2_sg', 'R32_sg', 'P4_1_sg', 'P4_232_sg', 'Pnna_sg', 'P422_sg', 'Pban_sg', 'Cc_sg', 'I4_122_sg', 'P6_3/m_sg', 'P6_3mc_sg', 'I4_1/amd_sg', 'P4_2_sg', 'P4/nmm_sg', 'Pmna_sg', 'P4/m_sg', 'Fm-3m_sg', 'P4/mmm_sg', 'Imm2_sg', 'P4/ncc_sg', 'P-62c_sg', 'Ima2_sg', 'P6_5_sg', 'P2/c_sg', 'P4/nbm_sg', 'Ibam_sg', 'P6_522_sg', 'P6_3/mmc_sg', 'I4/mmm_sg', 'Fmmm_sg', 'P2/m_sg', 'P-4b2_sg', 'I-4_sg', 'C2/m_sg', 'P4_2/mmc_sg', 'P4_sg', 'Fd-3c_sg', 'P4_3_sg', 'P2_1/m_sg', 'I-43m_sg', 'P-42c_sg', 'F4_132_sg', 'Pm_sg', 'Pccn_sg', 'P-4n2_sg', 'P4_132_sg', 'P23_sg', 'I4cm_sg', 'R3c_sg', 'Amm2_sg', 'Immm_sg', 'Iba2_sg', 'I4_sg', 'Fd-3_sg', 'P1_sg', 'Pbam_sg', 'P4_2/nbc_sg', 'Im-3_sg', 'P4_2/nnm_sg', 'Pmc2_1_sg', 'P-31m_sg', 'R-3m_sg', 'Ia-3_sg', 'P622_sg', 'F222_sg', 'P2_sg', 'P-1_sg', 'Pmm2_sg', 'P-4_sg', 'Aem2_sg', 'P6_222_sg', 'P-3c1_sg', 'P4_322_sg', 'I422_sg', 'Pnma_sg', 'P6_3_sg', 'P3c1_sg', 'Pn-3_sg', 'P4nc_sg', 'P-6_sg', 'P4/mcc_sg', 'I2_12_12_1_sg', 'P4_2/mbc_sg', 'P31c_sg', 'Ccc2_sg', 'P4_2/nmc_sg', 'P6_3/mcm_sg', 'C2_sg', 'Pbca_sg', 'P-4c2_sg', 'I4_1cd_sg', 'P2_1_sg', 'P3_112_sg', 'P4_2mc_sg', 'Pn-3m_sg', 'C2/c_sg', 'R3_sg', 'P-43m_sg', 'I432_sg', 'P222_1_sg', 'I-42d_sg', 'I-4c2_sg', 'P6cc_sg', 'P6_2_sg', 'P3_221_sg', 'P321_sg', 'Pca2_1_sg', 'I4_1/acd_sg', 'I4_132_sg', 'F432_sg', 'Pna2_1_sg', 'Ccce_sg', 'Ibca_sg', 'P4/mnc_sg', 'I4_1md_sg', 'P2_12_12_1_sg', 'R-3c_sg', 'I2_13_sg', 'P-4m2_sg', 'Pm-3n_sg', 'I4mm_sg', 'F-43m_sg', 'Pnnm_sg', 'P-42_1c_sg', 'Cmmm_sg', 'P6mm_sg', 'P4_2cm_sg', 'P4_2/m_sg', 'Im-3m_sg', 'Fm-3c_sg', 'I4_1_sg', 'P4cc_sg', 'Cmme_sg', '<unk>']\n",
      "Amount of tokens in tokenizer:  371\n",
      "['Si', 'C', 'Pb', 'I', 'Br', 'Cl', 'Eu', 'O', 'Fe', 'Sb', 'In', 'S', 'N', 'U', 'Mn', 'Lu', 'Se', 'Tl', 'Hf', 'Ir', 'Ca', 'Ta', 'Cr', 'K', 'Pm', 'Mg', 'Zn', 'Cu', 'Sn', 'Ti', 'B', 'W', 'P', 'H', 'Pd', 'As', 'Co', 'Np', 'Tc', 'Hg', 'Pu', 'Al', 'Tm', 'Tb', 'Ho', 'Nb', 'Ge', 'Zr', 'Cd', 'V', 'Sr', 'Ni', 'Rh', 'Th', 'Na', 'Ru', 'La', 'Re', 'Y', 'Er', 'Ce', 'Pt', 'Ga', 'Li', 'Cs', 'F', 'Ba', 'Te', 'Mo', 'Gd', 'Pr', 'Bi', 'Sc', 'Ag', 'Rb', 'Dy', 'Yb', 'Nd', 'Au', 'Os', 'Pa', 'Sm', 'Be', 'Ac', 'Xe', 'Kr', 'He', 'Ne', 'Ar', '0', '1', '2', '3', '4', '5', '6', '7', '8', '9', '_cell_length_b', '_atom_site_occupancy', '_atom_site_attached_hydrogens', '_cell_length_a', '_cell_angle_beta', '_symmetry_equiv_pos_as_xyz', '_cell_angle_gamma', '_atom_site_fract_x', '_symmetry_space_group_name_H-M', '_symmetry_Int_Tables_number', '_chemical_formula_structural', '_chemical_name_systematic', '_atom_site_fract_y', '_atom_site_symmetry_multiplicity', '_chemical_formula_sum', '_atom_site_label', '_atom_site_type_symbol', '_cell_length_c', '_atom_site_B_iso_or_equiv', '_symmetry_equiv_pos_site_id', '_cell_volume', '_atom_site_fract_z', '_cell_angle_alpha', '_cell_formula_units_Z', 'loop_', 'data_', '_atom_type_symbol', '_atom_type_electronegativity', '_atom_type_radius', '_atom_type_ionic_radius', '_atom_type_oxidation_number', 'x', 'y', 'z', '.', '(', ')', '+', '-', '/', \"'\", ',', ' ', '\\n', 'P6/mmm_sg', 'Imma_sg', 'P4_32_12_sg', 'P4_2/mnm_sg', 'Fd-3m_sg', 'P3m1_sg', 'P-3_sg', 'P4mm_sg', 'P4_332_sg', 'P4/nnc_sg', 'P2_12_12_sg', 'Pnn2_sg', 'Pbcn_sg', 'P4_2/n_sg', 'Cm_sg', 'R3m_sg', 'Cmce_sg', 'Aea2_sg', 'P-42_1m_sg', 'P-42m_sg', 'P2_13_sg', 'R-3_sg', 'Fm-3_sg', 'Cmm2_sg', 'Pn-3n_sg', 'P6/mcc_sg', 'P-6m2_sg', 'P3_2_sg', 'P-3m1_sg', 'P3_212_sg', 'I23_sg', 'P-62m_sg', 'P4_2nm_sg', 'Pma2_sg', 'Pmma_sg', 'I-42m_sg', 'P-31c_sg', 'Pa-3_sg', 'Pmmn_sg', 'Pmmm_sg', 'P4_2/ncm_sg', 'I4/mcm_sg', 'I-4m2_sg', 'P3_1_sg', 'Pcc2_sg', 'Cmcm_sg', 'I222_sg', 'Fddd_sg', 'P312_sg', 'Cccm_sg', 'P6_1_sg', 'F-43c_sg', 'P6_322_sg', 'Pm-3_sg', 'P3_121_sg', 'P6_4_sg', 'Ia-3d_sg', 'Pm-3m_sg', 'P2_1/c_sg', 'C222_1_sg', 'Pc_sg', 'P4/n_sg', 'Pba2_sg', 'Ama2_sg', 'Pbcm_sg', 'P31m_sg', 'Pcca_sg', 'P222_sg', 'P-43n_sg', 'Pccm_sg', 'P6_422_sg', 'F23_sg', 'P42_12_sg', 'C222_sg', 'Pnnn_sg', 'P6_3cm_sg', 'P4_12_12_sg', 'P6/m_sg', 'Fmm2_sg', 'I4_1/a_sg', 'P4/mbm_sg', 'Pmn2_1_sg', 'P4_2bc_sg', 'P4_22_12_sg', 'I-43d_sg', 'I4/m_sg', 'P4bm_sg', 'Fdd2_sg', 'P3_sg', 'P6_122_sg', 'Pnc2_sg', 'P4_2/mcm_sg', 'P4_122_sg', 'Cmc2_1_sg', 'P-6c2_sg', 'R32_sg', 'P4_1_sg', 'P4_232_sg', 'Pnna_sg', 'P422_sg', 'Pban_sg', 'Cc_sg', 'I4_122_sg', 'P6_3/m_sg', 'P6_3mc_sg', 'I4_1/amd_sg', 'P4_2_sg', 'P4/nmm_sg', 'Pmna_sg', 'P4/m_sg', 'Fm-3m_sg', 'P4/mmm_sg', 'Imm2_sg', 'P4/ncc_sg', 'P-62c_sg', 'Ima2_sg', 'P6_5_sg', 'P2/c_sg', 'P4/nbm_sg', 'Ibam_sg', 'P6_522_sg', 'P6_3/mmc_sg', 'I4/mmm_sg', 'Fmmm_sg', 'P2/m_sg', 'P-4b2_sg', 'I-4_sg', 'C2/m_sg', 'P4_2/mmc_sg', 'P4_sg', 'Fd-3c_sg', 'P4_3_sg', 'P2_1/m_sg', 'I-43m_sg', 'P-42c_sg', 'F4_132_sg', 'Pm_sg', 'Pccn_sg', 'P-4n2_sg', 'P4_132_sg', 'P23_sg', 'I4cm_sg', 'R3c_sg', 'Amm2_sg', 'Immm_sg', 'Iba2_sg', 'I4_sg', 'Fd-3_sg', 'P1_sg', 'Pbam_sg', 'P4_2/nbc_sg', 'Im-3_sg', 'P4_2/nnm_sg', 'Pmc2_1_sg', 'P-31m_sg', 'R-3m_sg', 'Ia-3_sg', 'P622_sg', 'F222_sg', 'P2_sg', 'P-1_sg', 'Pmm2_sg', 'P-4_sg', 'Aem2_sg', 'P6_222_sg', 'P-3c1_sg', 'P4_322_sg', 'I422_sg', 'Pnma_sg', 'P6_3_sg', 'P3c1_sg', 'Pn-3_sg', 'P4nc_sg', 'P-6_sg', 'P4/mcc_sg', 'I2_12_12_1_sg', 'P4_2/mbc_sg', 'P31c_sg', 'Ccc2_sg', 'P4_2/nmc_sg', 'P6_3/mcm_sg', 'C2_sg', 'Pbca_sg', 'P-4c2_sg', 'I4_1cd_sg', 'P2_1_sg', 'P3_112_sg', 'P4_2mc_sg', 'Pn-3m_sg', 'C2/c_sg', 'R3_sg', 'P-43m_sg', 'I432_sg', 'P222_1_sg', 'I-42d_sg', 'I-4c2_sg', 'P6cc_sg', 'P6_2_sg', 'P3_221_sg', 'P321_sg', 'Pca2_1_sg', 'I4_1/acd_sg', 'I4_132_sg', 'F432_sg', 'Pna2_1_sg', 'Ccce_sg', 'Ibca_sg', 'P4/mnc_sg', 'I4_1md_sg', 'P2_12_12_1_sg', 'R-3c_sg', 'I2_13_sg', 'P-4m2_sg', 'Pm-3n_sg', 'I4mm_sg', 'F-43m_sg', 'Pnnm_sg', 'P-42_1c_sg', 'Cmmm_sg', 'P6mm_sg', 'P4_2cm_sg', 'P4_2/m_sg', 'Im-3m_sg', 'Fm-3c_sg', 'I4_1_sg', 'P4cc_sg', 'Cmme_sg', '<unk>']\n",
      "Tokenizing...: 100%|████████████████████████| 247/247 [00:00<00:00, 1579.07it/s]\n",
      "train min tokenized length: 252\n",
      "train max tokenized length: 4,792\n",
      "train mean tokenized length: 684.13 +/- 533.35\n",
      "train total unk counts: 0\n",
      "Encoding...\n",
      "Saving tokenized dataframe to CIF_BG_proj/table_MP_500_tokens.pkl.gz...\n",
      "Tokenization complete.\n"
     ]
    }
   ],
   "source": [
    "!python bin/tokenize_cifs_table.py --input_file compressed_datasets_models/table_MP_500_pp.pkl.gz --output_file CIF_BG_proj/table_MP_500_tokens.pkl.gz"
   ]
  },
  {
   "cell_type": "code",
   "execution_count": 3,
   "metadata": {},
   "outputs": [
    {
     "data": {
      "text/html": [
       "<div>\n",
       "<style scoped>\n",
       "    .dataframe tbody tr th:only-of-type {\n",
       "        vertical-align: middle;\n",
       "    }\n",
       "\n",
       "    .dataframe tbody tr th {\n",
       "        vertical-align: top;\n",
       "    }\n",
       "\n",
       "    .dataframe thead th {\n",
       "        text-align: right;\n",
       "    }\n",
       "</style>\n",
       "<table border=\"1\" class=\"dataframe\">\n",
       "  <thead>\n",
       "    <tr style=\"text-align: right;\">\n",
       "      <th></th>\n",
       "      <th>Database</th>\n",
       "      <th>Reduced Formula</th>\n",
       "      <th>CIF</th>\n",
       "      <th>Bandgap (eV)</th>\n",
       "      <th>CIFs_tokenized</th>\n",
       "    </tr>\n",
       "  </thead>\n",
       "  <tbody>\n",
       "    <tr>\n",
       "      <th>0</th>\n",
       "      <td>MP</td>\n",
       "      <td>BrCl</td>\n",
       "      <td># MP Entry mp-1008492 BrCl Br2Cl2\\n# generated...</td>\n",
       "      <td>1.828</td>\n",
       "      <td>[124, 4, 93, 5, 93, 142, 123, 142, 125, 142, 1...</td>\n",
       "    </tr>\n",
       "    <tr>\n",
       "      <th>1</th>\n",
       "      <td>MP</td>\n",
       "      <td>NaGaTe2</td>\n",
       "      <td># MP Entry mp-10164 NaGaTe2 Na2Ga2Te4\\n# gener...</td>\n",
       "      <td>0.396</td>\n",
       "      <td>[124, 54, 93, 62, 93, 67, 97, 142, 123, 142, 1...</td>\n",
       "    </tr>\n",
       "    <tr>\n",
       "      <th>2</th>\n",
       "      <td>MP</td>\n",
       "      <td>Cd(AgI2)2</td>\n",
       "      <td># MP Entry mp-1025377 Cd(AgI2)2 Cd1Ag2I4\\n# ge...</td>\n",
       "      <td>2.005</td>\n",
       "      <td>[124, 48, 91, 73, 93, 3, 97, 142, 123, 142, 12...</td>\n",
       "    </tr>\n",
       "    <tr>\n",
       "      <th>3</th>\n",
       "      <td>MP</td>\n",
       "      <td>Mg30NbVO32</td>\n",
       "      <td># MP Entry mp-1036765 Mg30NbVO32 Mg30Nb1V1O32\\...</td>\n",
       "      <td>0.392</td>\n",
       "      <td>[124, 25, 92, 89, 45, 90, 49, 90, 7, 92, 91, 1...</td>\n",
       "    </tr>\n",
       "    <tr>\n",
       "      <th>4</th>\n",
       "      <td>MP</td>\n",
       "      <td>TaInRh2</td>\n",
       "      <td># MP Entry mp-1093812 TaInRh2 Ta1In1Rh2\\n# gen...</td>\n",
       "      <td>0.621</td>\n",
       "      <td>[124, 21, 91, 10, 91, 52, 93, 142, 123, 142, 1...</td>\n",
       "    </tr>\n",
       "    <tr>\n",
       "      <th>...</th>\n",
       "      <td>...</td>\n",
       "      <td>...</td>\n",
       "      <td>...</td>\n",
       "      <td>...</td>\n",
       "      <td>...</td>\n",
       "    </tr>\n",
       "    <tr>\n",
       "      <th>242</th>\n",
       "      <td>MP</td>\n",
       "      <td>KNa2ScF6</td>\n",
       "      <td># MP Entry mp-1111026 KNa2ScF6 K1Na2Sc1F6\\n# g...</td>\n",
       "      <td>5.040</td>\n",
       "      <td>[124, 23, 93, 54, 97, 72, 93, 65, 91, 93, 142,...</td>\n",
       "    </tr>\n",
       "    <tr>\n",
       "      <th>243</th>\n",
       "      <td>MP</td>\n",
       "      <td>Rb2IrAuF6</td>\n",
       "      <td># MP Entry mp-1111048 Rb2IrAuF6 Rb2Ir1Au1F6\\n#...</td>\n",
       "      <td>0.531</td>\n",
       "      <td>[124, 74, 97, 19, 93, 78, 93, 65, 91, 93, 142,...</td>\n",
       "    </tr>\n",
       "    <tr>\n",
       "      <th>244</th>\n",
       "      <td>MP</td>\n",
       "      <td>Li2CuAsF6</td>\n",
       "      <td># MP Entry mp-1111561 Li2CuAsF6 Li2Cu1As1F6\\n#...</td>\n",
       "      <td>0.719</td>\n",
       "      <td>[124, 63, 97, 27, 93, 35, 93, 65, 91, 93, 142,...</td>\n",
       "    </tr>\n",
       "    <tr>\n",
       "      <th>245</th>\n",
       "      <td>MP</td>\n",
       "      <td>K2NaMoBr6</td>\n",
       "      <td># MP Entry mp-1111637 K2NaMoBr6 K2Na1Mo1Br6\\n#...</td>\n",
       "      <td>1.501</td>\n",
       "      <td>[124, 23, 97, 54, 93, 68, 93, 4, 91, 93, 142, ...</td>\n",
       "    </tr>\n",
       "    <tr>\n",
       "      <th>246</th>\n",
       "      <td>MP</td>\n",
       "      <td>Cs2RbPrCl6</td>\n",
       "      <td># MP Entry mp-1112124 Cs2RbPrCl6 Cs2Rb1Pr1Cl6\\...</td>\n",
       "      <td>4.867</td>\n",
       "      <td>[124, 64, 97, 74, 93, 70, 93, 5, 91, 93, 142, ...</td>\n",
       "    </tr>\n",
       "  </tbody>\n",
       "</table>\n",
       "<p>247 rows × 5 columns</p>\n",
       "</div>"
      ],
      "text/plain": [
       "    Database Reduced Formula  \\\n",
       "0         MP            BrCl   \n",
       "1         MP         NaGaTe2   \n",
       "2         MP       Cd(AgI2)2   \n",
       "3         MP      Mg30NbVO32   \n",
       "4         MP         TaInRh2   \n",
       "..       ...             ...   \n",
       "242       MP        KNa2ScF6   \n",
       "243       MP       Rb2IrAuF6   \n",
       "244       MP       Li2CuAsF6   \n",
       "245       MP       K2NaMoBr6   \n",
       "246       MP      Cs2RbPrCl6   \n",
       "\n",
       "                                                   CIF  Bandgap (eV)  \\\n",
       "0    # MP Entry mp-1008492 BrCl Br2Cl2\\n# generated...         1.828   \n",
       "1    # MP Entry mp-10164 NaGaTe2 Na2Ga2Te4\\n# gener...         0.396   \n",
       "2    # MP Entry mp-1025377 Cd(AgI2)2 Cd1Ag2I4\\n# ge...         2.005   \n",
       "3    # MP Entry mp-1036765 Mg30NbVO32 Mg30Nb1V1O32\\...         0.392   \n",
       "4    # MP Entry mp-1093812 TaInRh2 Ta1In1Rh2\\n# gen...         0.621   \n",
       "..                                                 ...           ...   \n",
       "242  # MP Entry mp-1111026 KNa2ScF6 K1Na2Sc1F6\\n# g...         5.040   \n",
       "243  # MP Entry mp-1111048 Rb2IrAuF6 Rb2Ir1Au1F6\\n#...         0.531   \n",
       "244  # MP Entry mp-1111561 Li2CuAsF6 Li2Cu1As1F6\\n#...         0.719   \n",
       "245  # MP Entry mp-1111637 K2NaMoBr6 K2Na1Mo1Br6\\n#...         1.501   \n",
       "246  # MP Entry mp-1112124 Cs2RbPrCl6 Cs2Rb1Pr1Cl6\\...         4.867   \n",
       "\n",
       "                                        CIFs_tokenized  \n",
       "0    [124, 4, 93, 5, 93, 142, 123, 142, 125, 142, 1...  \n",
       "1    [124, 54, 93, 62, 93, 67, 97, 142, 123, 142, 1...  \n",
       "2    [124, 48, 91, 73, 93, 3, 97, 142, 123, 142, 12...  \n",
       "3    [124, 25, 92, 89, 45, 90, 49, 90, 7, 92, 91, 1...  \n",
       "4    [124, 21, 91, 10, 91, 52, 93, 142, 123, 142, 1...  \n",
       "..                                                 ...  \n",
       "242  [124, 23, 93, 54, 97, 72, 93, 65, 91, 93, 142,...  \n",
       "243  [124, 74, 97, 19, 93, 78, 93, 65, 91, 93, 142,...  \n",
       "244  [124, 63, 97, 27, 93, 35, 93, 65, 91, 93, 142,...  \n",
       "245  [124, 23, 97, 54, 93, 68, 93, 4, 91, 93, 142, ...  \n",
       "246  [124, 64, 97, 74, 93, 70, 93, 5, 91, 93, 142, ...  \n",
       "\n",
       "[247 rows x 5 columns]"
      ]
     },
     "execution_count": 3,
     "metadata": {},
     "output_type": "execute_result"
    }
   ],
   "source": [
    "import pickle\n",
    "import gzip\n",
    "import pandas as pd\n",
    "\n",
    "# Define the deduplicated file path\n",
    "deduplicated_file = 'CIF_BG_proj/table_MP_500_tokens.pkl.gz'  # Replace with your deduplicated file path\n",
    "\n",
    "# Load the deduplicated DataFrame\n",
    "with gzip.open(deduplicated_file, 'rb') as f:\n",
    "    df = pickle.load(f)\n",
    "\n",
    "# df[\"CIFs_tokenized\"][0]\n",
    "df"
   ]
  },
  {
   "cell_type": "code",
   "execution_count": null,
   "metadata": {},
   "outputs": [],
   "source": []
  }
 ],
 "metadata": {
  "kernelspec": {
   "display_name": "crystallm_venv",
   "language": "python",
   "name": "python3"
  },
  "language_info": {
   "codemirror_mode": {
    "name": "ipython",
    "version": 3
   },
   "file_extension": ".py",
   "mimetype": "text/x-python",
   "name": "python",
   "nbconvert_exporter": "python",
   "pygments_lexer": "ipython3",
   "version": "3.10.15"
  }
 },
 "nbformat": 4,
 "nbformat_minor": 2
}
