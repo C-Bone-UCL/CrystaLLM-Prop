{
 "cells": [
  {
   "cell_type": "markdown",
   "metadata": {},
   "source": [
    "### WSL 2 HPC"
   ]
  },
  {
   "cell_type": "code",
   "execution_count": null,
   "metadata": {},
   "outputs": [
    {
     "name": "stderr",
     "output_type": "stream",
     "text": [
      "\n",
      " ------------------------------------------------------------------------\n",
      " Information Systems - Information Services Division - UCL\n",
      " \n",
      " Access to and use of this system are restricted to authorised individuals\n",
      " and subject to UCL Computing Regulations.\n",
      " ------------------------------------------------------------------------\n",
      " \n"
     ]
    },
    {
     "name": "stdout",
     "output_type": "stream",
     "text": [
      "sending incremental file list\n",
      "./\n",
      "CIF_BG_proj/BG_large_tokens/\n",
      "CIF_BG_proj/BG_large_tokens/starts.pkl\n",
      "        490,569 100%  467.18MB/s    0:00:00 (xfr#1, to-chk=140/445)\n",
      "CIF_BG_proj/BG_large_tokens/starts_val.pkl\n",
      "         54,300 100%   25.89MB/s    0:00:00 (xfr#2, to-chk=139/445)\n",
      "bin/identify_starts.py\n",
      "          5,110 100%    2.44MB/s    0:00:00 (xfr#3, to-chk=123/445)\n",
      "compressed_datasets_models/\n",
      "crystallm/__pycache__/\n",
      "crystallm/__pycache__/_model.cpython-310.pyc\n",
      "         16,176 100%    5.14MB/s    0:00:00 (xfr#4, to-chk=54/445)\n",
      "notebooks/\n",
      "notebooks/rsync.ipynb\n",
      "          7,814 100%    2.48MB/s    0:00:00 (xfr#5, to-chk=49/445)\n",
      "notebooks/training_model_BG.ipynb\n",
      "        161,723 100%   38.56MB/s    0:00:00 (xfr#6, to-chk=47/445)\n",
      "\n",
      "sent 69,063 bytes  received 6,149 bytes  50,141.33 bytes/sec\n",
      "total size is 25,854,720,958  speedup is 343,757.92\n"
     ]
    }
   ],
   "source": [
    "%%bash\n",
    "\n",
    "rsync -avzu --progress \\\n",
    "    --exclude 'CIF_BG_proj/BG_CIFs/' \\\n",
    "    --exclude 'useless/Miniconda3.sh' \\\n",
    "    --exclude 'CIF_BG_proj/BG_cifs_process_steps/' \\\n",
    "    --exclude 'useless/cuda-repo-wsl-ubuntu-11-8-local_11.8.0-1_amd64.deb' \\\n",
    "    --exclude 'crystallm_container.sif' \\\n",
    "    --exclude 'wandb/' \\\n",
    "    --exclude 'finetuned_models/BG_all_test/' \\\n",
    "    --exclude 'finetuned_models/BG_head_test/' \\\n",
    "    --exclude 'finetuned_models/BG_LoRA_test/' \\\n",
    "    --exclude 'finetuned_models/' \\\n",
    "    --exclude 'comp_metrics/' \\\n",
    "    -e \"ssh -i ~/.ssh/exported-keyfile-from-putty-np -o ProxyJump=gateway\" \\\n",
    "    /home/uccacbo/CrystaLLM/ cyprien@nico.chem.ucl.ac.uk:/home/cyprien/CrystaLLM/\n"
   ]
  },
  {
   "cell_type": "markdown",
   "metadata": {},
   "source": [
    "### HPC 2 WSL"
   ]
  },
  {
   "cell_type": "code",
   "execution_count": 6,
   "metadata": {},
   "outputs": [
    {
     "name": "stderr",
     "output_type": "stream",
     "text": [
      "\n",
      " ------------------------------------------------------------------------\n",
      " Information Systems - Information Services Division - UCL\n",
      " \n",
      " Access to and use of this system are restricted to authorised individuals\n",
      " and subject to UCL Computing Regulations.\n",
      " ------------------------------------------------------------------------\n",
      " \n"
     ]
    },
    {
     "name": "stdout",
     "output_type": "stream",
     "text": [
      "receiving incremental file list\n",
      "./\n",
      "CIF_BG_proj/BG_large_tokens/\n",
      "compressed_datasets_models/\n",
      "notebooks/\n",
      "notebooks/Untitled-1\n",
      "\n",
      "sent 566 bytes  received 14,183 bytes  5,899.60 bytes/sec\n",
      "total size is 25,209,488,567  speedup is 1,709,233.75 (DRY RUN)\n"
     ]
    }
   ],
   "source": [
    "%%bash\n",
    "\n",
    "rsync -avzu --dry-run --progress\\\n",
    "    --exclude 'CIF_BG_proj/BG_CIFs/' \\\n",
    "    --exclude 'useless/Miniconda3.sh' \\\n",
    "    --exclude 'CIF_BG_proj/BG_cifs_process_steps/' \\\n",
    "    --exclude 'useless/cuda-repo-wsl-ubuntu-11-8-local_11.8.0-1_amd64.deb' \\\n",
    "    --exclude 'crystallm_container.sif' \\\n",
    "    --exclude 'wandb/' \\\n",
    "    --exclude 'finetuned_models/BG_all_test/' \\\n",
    "    --exclude 'finetuned_models/BG_head_test/' \\\n",
    "    --exclude 'finetuned_models/BG_LoRA_test/' \\\n",
    "    --exclude 'finetuned_models/' \\\n",
    "    --exclude 'cifs_v1_orig.pkl.gz' \\\n",
    "    --exclude 'config/' \\\n",
    "    --exclude 'crystallm/' \\\n",
    "    --exclude 'bin/' \\\n",
    "    -e \"ssh -i ~/.ssh/exported-keyfile-from-putty-np -o ProxyJump=gateway\" \\\n",
    "    cyprien@nico.chem.ucl.ac.uk:/home/cyprien/CrystaLLM/ /home/uccacbo/CrystaLLM/"
   ]
  },
  {
   "cell_type": "code",
   "execution_count": null,
   "metadata": {},
   "outputs": [],
   "source": [
    "%%bash\n",
    "\n",
    "rsync -avz --progress\\\n",
    "    --exclude 'CIF_BG_proj/BG_CIFs/' \\\n",
    "    --exclude 'useless/Miniconda3.sh' \\\n",
    "    --exclude 'CIF_BG_proj/BG_cifs_process_steps/' \\\n",
    "    --exclude 'useless/cuda-repo-wsl-ubuntu-11-8-local_11.8.0-1_amd64.deb' \\\n",
    "    --exclude 'crystallm_container.sif' \\\n",
    "    --exclude 'wandb/' \\\n",
    "    /home/cyprien/CrystaLLM/ uccacbo@myriad.rc.ucl.ac.uk:/home/uccacbo/CrystaLLM/\n"
   ]
  },
  {
   "cell_type": "code",
   "execution_count": 2,
   "metadata": {},
   "outputs": [
    {
     "name": "stderr",
     "output_type": "stream",
     "text": [
      "\n",
      " ------------------------------------------------------------------------\n",
      " Information Systems - Information Services Division - UCL\n",
      " \n",
      " Access to and use of this system are restricted to authorised individuals\n",
      " and subject to UCL Computing Regulations.\n",
      " ------------------------------------------------------------------------\n",
      " \n"
     ]
    },
    {
     "name": "stdout",
     "output_type": "stream",
     "text": [
      "receiving incremental file list\n",
      "compressed_datasets_models/\n",
      "compressed_datasets_models/CIFs_db_MP.pkl\n",
      "      1,325,598 100%   23.85MB/s    0:00:00 (xfr#1, to-chk=6/11)\n",
      "\n",
      "sent 47 bytes  received 166,901 bytes  111,298.67 bytes/sec\n",
      "total size is 13,895,193,970  speedup is 83,230.67\n"
     ]
    }
   ],
   "source": [
    "%%bash\n",
    "\n",
    "rsync -avzu --progress \\\n",
    "    -e \"ssh -i ~/.ssh/exported-keyfile-from-putty-np -o ProxyJump=gateway\" \\\n",
    "    cyprien@nico.chem.ucl.ac.uk:/home/cyprien/CrystaLLM/compressed_datasets_models /home/uccacbo/CrystaLLM/\n"
   ]
  },
  {
   "cell_type": "code",
   "execution_count": null,
   "metadata": {},
   "outputs": [
    {
     "name": "stderr",
     "output_type": "stream",
     "text": [
      "\n",
      " ------------------------------------------------------------------------\n",
      " Information Systems - Information Services Division - UCL\n",
      " \n",
      " Access to and use of this system are restricted to authorised individuals\n",
      " and subject to UCL Computing Regulations.\n",
      " ------------------------------------------------------------------------\n",
      " \n"
     ]
    },
    {
     "name": "stdout",
     "output_type": "stream",
     "text": [
      "Error while terminating subprocess (pid=37444): \n"
     ]
    }
   ],
   "source": [
    "%%bash\n",
    "\n",
    "rsync -avzu --progress \\\n",
    "    -e \"ssh -i ~/.ssh/exported-keyfile-from-putty-np -o ProxyJump=gateway\" \\\n",
    "    /home/uccacbo/CrystaLLM/notebooks/ cyprien@nico.chem.ucl.ac.uk:/home/cyprien/CrystaLLM/\n"
   ]
  },
  {
   "cell_type": "code",
   "execution_count": null,
   "metadata": {},
   "outputs": [],
   "source": []
  }
 ],
 "metadata": {
  "kernelspec": {
   "display_name": "crystallm_venv",
   "language": "python",
   "name": "python3"
  },
  "language_info": {
   "codemirror_mode": {
    "name": "ipython",
    "version": 3
   },
   "file_extension": ".py",
   "mimetype": "text/x-python",
   "name": "python",
   "nbconvert_exporter": "python",
   "pygments_lexer": "ipython3",
   "version": "3.10.15"
  }
 },
 "nbformat": 4,
 "nbformat_minor": 2
}
