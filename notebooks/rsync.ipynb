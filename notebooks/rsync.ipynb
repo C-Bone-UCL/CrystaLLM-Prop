{
 "cells": [
  {
   "cell_type": "markdown",
   "metadata": {},
   "source": [
    "### WSL 2 HPC"
   ]
  },
  {
   "cell_type": "code",
   "execution_count": 8,
   "metadata": {},
   "outputs": [
    {
     "name": "stderr",
     "output_type": "stream",
     "text": [
      "\n",
      " ------------------------------------------------------------------------\n",
      " Information Systems - Information Services Division - UCL\n",
      " \n",
      " Access to and use of this system are restricted to authorised individuals\n",
      " and subject to UCL Computing Regulations.\n",
      " ------------------------------------------------------------------------\n",
      " \n"
     ]
    },
    {
     "name": "stdout",
     "output_type": "stream",
     "text": [
      "sending incremental file list\n",
      "./\n",
      ".vscode/launch.json\n",
      "            740 100%    0.00kB/s    0:00:00 (xfr#1, to-chk=144/584)\n",
      "bin/\n",
      "bin/cifextd_inference copy.py\n",
      "          9,525 100%    9.08MB/s    0:00:00 (xfr#2, to-chk=142/584)\n",
      "bin/cifextd_inference.py\n",
      "          6,929 100%    6.61MB/s    0:00:00 (xfr#3, to-chk=141/584)\n",
      "bin/regr_inference.py\n",
      "          7,875 100%    7.51MB/s    0:00:00 (xfr#4, to-chk=139/584)\n",
      "bin/train.py\n",
      "          6,435 100%    3.07MB/s    0:00:00 (xfr#5, to-chk=138/584)\n",
      "bin/train_utils.py\n",
      "         33,087 100%   10.52MB/s    0:00:00 (xfr#6, to-chk=137/584)\n",
      "bin/__pycache__/\n",
      "bin/__pycache__/train.cpython-310.pyc\n",
      "          4,381 100%    1.39MB/s    0:00:00 (xfr#7, to-chk=131/584)\n",
      "bin/__pycache__/train_utils.cpython-310.pyc\n",
      "         19,476 100%    4.64MB/s    0:00:00 (xfr#8, to-chk=130/584)\n",
      "bin/pre_processing/preprocess_more.py\n",
      "          5,116 100%  999.22kB/s    0:00:00 (xfr#9, to-chk=114/584)\n",
      "config/regression_BG/regression_BG_LoRA.yaml\n",
      "          1,698 100%  331.64kB/s    0:00:00 (xfr#10, to-chk=82/584)\n",
      "config/regression_BG/regression_BG_head.yaml\n",
      "          1,703 100%  332.62kB/s    0:00:00 (xfr#11, to-chk=76/584)\n",
      "crystallm/_model.py\n",
      "         30,358 100%    4.83MB/s    0:00:00 (xfr#12, to-chk=65/584)\n",
      "crystallm/__pycache__/\n",
      "crystallm/__pycache__/__init__.cpython-312.pyc\n",
      "          1,518 100%  211.77kB/s    0:00:00 (xfr#13, to-chk=57/584)\n",
      "crystallm/__pycache__/_metrics.cpython-312.pyc\n",
      "          6,397 100%  892.44kB/s    0:00:00 (xfr#14, to-chk=53/584)\n",
      "crystallm/__pycache__/_model.cpython-310.pyc\n",
      "         20,718 100%    2.47MB/s    0:00:00 (xfr#15, to-chk=52/584)\n",
      "crystallm/__pycache__/_model.cpython-312.pyc\n",
      "         41,398 100%    4.39MB/s    0:00:00 (xfr#16, to-chk=51/584)\n",
      "crystallm/__pycache__/_tokenizer.cpython-312.pyc\n",
      "          6,845 100%  668.46kB/s    0:00:00 (xfr#17, to-chk=48/584)\n",
      "crystallm/__pycache__/_tokenizer_cifextd.cpython-312.pyc\n",
      "          7,352 100%  652.70kB/s    0:00:00 (xfr#18, to-chk=46/584)\n",
      "crystallm/__pycache__/_utils.cpython-312.pyc\n",
      "         11,912 100%  969.40kB/s    0:00:00 (xfr#19, to-chk=44/584)\n",
      "sampling/prompt_config/\n",
      "sampling/prompt_config/BG_gen_ft_LoRA.yaml\n",
      "          1,001 100%   81.46kB/s    0:00:00 (xfr#20, to-chk=40/584)\n",
      "sampling/prompt_config/BG_gen_ft_all.yaml\n",
      "            948 100%   77.15kB/s    0:00:00 (xfr#21, to-chk=39/584)\n",
      "sampling/prompt_config/BG_gen_ft_head.yaml\n",
      "            854 100%   64.15kB/s    0:00:00 (xfr#22, to-chk=38/584)\n",
      "sampling/prompt_config/inference_LoRA.yaml\n",
      "            430 100%   32.30kB/s    0:00:00 (xfr#23, to-chk=37/584)\n",
      "\n",
      "sent 79,871 bytes  received 1,992 bytes  32,745.20 bytes/sec\n",
      "total size is 9,075,927,133  speedup is 110,867.27\n"
     ]
    }
   ],
   "source": [
    "%%bash\n",
    "\n",
    "rsync -avzu --progress \\\n",
    "    --exclude 'CIF_BG_proj/BG_CIFs/' \\\n",
    "    --exclude 'useless/Miniconda3.sh' \\\n",
    "    --exclude 'useless/cuda-repo-wsl-ubuntu-11-8-local_11.8.0-1_amd64.deb' \\\n",
    "    --exclude 'crystallm_container.sif' \\\n",
    "    --exclude 'wandb/' \\\n",
    "    --exclude 'finetuned_models/' \\\n",
    "    --exclude 'comp_metrics/' \\\n",
    "    --exclude 'CIF_BG_proj/' \\\n",
    "    --exclude 'compressed_datasets_models/' \\\n",
    "    --exclude 'model_ckpts/' \\\n",
    "    --exclude 'notebooks/' \\\n",
    "    --exclude 'inference_plots/' \\\n",
    "    --exclude 'hp_search/' \\\n",
    "    -e \"ssh -i ~/.ssh/exported-keyfile-from-putty-np -o ProxyJump=gateway\" \\\n",
    "    /home/uccacbo/CrystaLLM/ cyprien@nico.chem.ucl.ac.uk:/home/cyprien/CrystaLLM/\n"
   ]
  },
  {
   "cell_type": "code",
   "execution_count": 13,
   "metadata": {},
   "outputs": [
    {
     "name": "stderr",
     "output_type": "stream",
     "text": [
      "\n",
      " ------------------------------------------------------------------------\n",
      " Information Systems - Information Services Division - UCL\n",
      " \n",
      " Access to and use of this system are restricted to authorised individuals\n",
      " and subject to UCL Computing Regulations.\n",
      " ------------------------------------------------------------------------\n",
      " \n",
      "Currently Loaded Modulefiles:\n",
      " 1) gcc-libs/10.2.0        3) cuda/11.8.0/gnu-10.2.0   5) tmux/3.3a  \n",
      " 2) compilers/gnu/10.2.0   4) nano/2.4.2              \n"
     ]
    },
    {
     "name": "stdout",
     "output_type": "stream",
     "text": [
      "sending incremental file list\n",
      ".gitignore\n",
      "          3,528 100%    2.70MB/s    0:00:00 (xfr#1, to-chk=23/25)\n",
      "ARTIFACTS.md\n",
      "         33,666 100%   16.05MB/s    0:00:00 (xfr#2, to-chk=22/25)\n",
      "BENCHMARKING.md\n",
      "          4,974 100%    1.58MB/s    0:00:00 (xfr#3, to-chk=21/25)\n",
      "LICENSE\n",
      "          1,071 100%  261.47kB/s    0:00:00 (xfr#4, to-chk=20/25)\n",
      "README.md\n",
      "         37,403 100%    5.95MB/s    0:00:00 (xfr#5, to-chk=19/25)\n",
      "Scheme.png\n",
      "         61,773 100%    7.36MB/s    0:00:00 (xfr#6, to-chk=18/25)\n",
      "Singularity.def\n",
      "            926 100%  100.48kB/s    0:00:00 (xfr#7, to-chk=17/25)\n",
      "Singularity_2.def\n",
      "          1,156 100%  112.89kB/s    0:00:00 (xfr#8, to-chk=16/25)\n",
      "bandgap_predictions_NTGvsRH(ftA).svg\n",
      "        867,377 100%   28.52MB/s    0:00:00 (xfr#9, to-chk=15/25)\n",
      "bandgap_predictions_ftHvsLoRA.svg\n",
      "        860,594 100%   19.09MB/s    0:00:00 (xfr#10, to-chk=14/25)\n",
      "requirements.txt\n",
      "            254 100%    5.64kB/s    0:00:00 (xfr#11, to-chk=12/25)\n",
      "setup.py\n",
      "            189 100%    4.19kB/s    0:00:00 (xfr#12, to-chk=11/25)\n",
      ".vscode/launch.json\n",
      "            740 100%    2.87kB/s    0:00:00 (xfr#13, to-chk=7/25)\n",
      ".vscode/settings.json\n",
      "             29 100%    0.11kB/s    0:00:00 (xfr#14, to-chk=6/25)\n",
      "bin/cifextd_inference copy.py\n",
      "          9,525 100%   36.48kB/s    0:00:00 (xfr#15, to-chk=5/25)\n",
      "bin/cifextd_inference.py\n",
      "          6,907 100%   26.35kB/s    0:00:00 (xfr#16, to-chk=4/25)\n",
      "bin/regr_inference.py\n",
      "          7,857 100%   29.86kB/s    0:00:00 (xfr#17, to-chk=2/25)\n",
      "\n",
      "sent 223,741 bytes  received 1,207 bytes  26,464.47 bytes/sec\n",
      "total size is 1,988,663  speedup is 8.84\n"
     ]
    }
   ],
   "source": [
    "%%bash\n",
    "\n",
    "rsync -avzu --progress \\\n",
    "    --exclude 'CIF_BG_proj/BG_CIFs/' \\\n",
    "    --exclude 'useless/Miniconda3.sh' \\\n",
    "    --exclude 'useless/cuda-repo-wsl-ubuntu-11-8-local_11.8.0-1_amd64.deb' \\\n",
    "    --exclude 'crystallm_container.sif' \\\n",
    "    --exclude 'wandb/' \\\n",
    "    --exclude 'finetuned_models/' \\\n",
    "    --exclude 'comp_metrics/' \\\n",
    "    --exclude 'CIF_BG_proj/' \\\n",
    "    --exclude 'compressed_datasets_models/' \\\n",
    "    --exclude 'model_ckpts/' \\\n",
    "    --exclude 'notebooks/' \\\n",
    "    --exclude 'sampling/' \\\n",
    "    --exclude 'useless/' \\\n",
    "    --exclude 'inference_plots/' \\\n",
    "    --exclude 'hp_search/' \\\n",
    "    --exclude '.git/' \\\n",
    "    --exclude 'bin/post_processing/' \\\n",
    "    --exclude 'bin/pre_processing/' \\\n",
    "    --exclude 'bin/utils/' \\\n",
    "    --exclude 'config/' \\\n",
    "    --exclude 'crystallm/' \\\n",
    "    --exclude 'bin/train.py' \\\n",
    "    -e \"ssh -i ~/.ssh/exported-keyfile-from-putty-np -o ProxyJump=gateway\" \\\n",
    "    /home/uccacbo/CrystaLLM-Prop/ uccacbo@myriad.rc.ucl.ac.uk:/scratch/scratch/uccacbo/CrystaLLM/"
   ]
  },
  {
   "cell_type": "markdown",
   "metadata": {},
   "source": [
    "### HPC 2 WSL"
   ]
  },
  {
   "cell_type": "code",
   "execution_count": null,
   "metadata": {},
   "outputs": [
    {
     "name": "stderr",
     "output_type": "stream",
     "text": [
      "\n",
      " ------------------------------------------------------------------------\n",
      " Information Systems - Information Services Division - UCL\n",
      " \n",
      " Access to and use of this system are restricted to authorised individuals\n",
      " and subject to UCL Computing Regulations.\n",
      " ------------------------------------------------------------------------\n",
      " \n"
     ]
    },
    {
     "name": "stdout",
     "output_type": "stream",
     "text": [
      "receiving incremental file list\n",
      "model_ckpts/\n",
      "model_ckpts/finetuned_models/\n",
      "model_ckpts/finetuned_models/BG_LoRA/\n",
      "model_ckpts/finetuned_models/BG_LoRA/ckpt.pt\n",
      "    828,317,827 100%   11.42MB/s    0:01:09 (xfr#1, to-chk=53/549)\n",
      "model_ckpts/finetuned_models/BG_all/\n",
      "model_ckpts/finetuned_models/BG_all/ckpt.pt\n",
      "  2,446,171,898 100%    8.52MB/s    0:04:33 (xfr#2, to-chk=52/549)\n",
      "model_ckpts/finetuned_models/BG_head/\n",
      "model_ckpts/finetuned_models/BG_head/ckpt.pt\n",
      "    818,442,232 100%    9.41MB/s    0:01:22 (xfr#3, to-chk=51/549)\n",
      "model_ckpts/finetuned_models_with_0BG/\n",
      "model_ckpts/finetuned_models_with_0BG/BG_LoRA/\n"
     ]
    },
    {
     "name": "stderr",
     "output_type": "stream",
     "text": [
      "rsync: [receiver] mkstemp \"/home/uccacbo/CrystaLLM/model_ckpts/finetuned_models_with_0BG/BG_LoRA/.ckpt.pt.B69x2x\" failed: No such file or directory (2)\n"
     ]
    },
    {
     "name": "stdout",
     "output_type": "stream",
     "text": [
      "Error while terminating subprocess (pid=429174): \n"
     ]
    },
    {
     "name": "stdout",
     "output_type": "stream",
     "text": [
      "    828,317,827 100%   10.98MB/s    0:01:11 (xfr#4, to-chk=47/549)\n",
      "model_ckpts/finetuned_models_with_0BG/BG_all/\n"
     ]
    },
    {
     "name": "stderr",
     "output_type": "stream",
     "text": [
      "rsync: [receiver] mkstemp \"/home/uccacbo/CrystaLLM/model_ckpts/finetuned_models_with_0BG/BG_all/.ckpt.pt.K8cF2Q\" failed: No such file or directory (2)\n"
     ]
    },
    {
     "name": "stdout",
     "output_type": "stream",
     "text": [
      "  2,446,171,898 100%   12.06MB/s    0:03:13 (xfr#5, to-chk=46/549)\n",
      "model_ckpts/finetuned_models_with_0BG/BG_head/\n"
     ]
    },
    {
     "name": "stderr",
     "output_type": "stream",
     "text": [
      "rsync: [receiver] mkstemp \"/home/uccacbo/CrystaLLM/model_ckpts/finetuned_models_with_0BG/BG_head/.ckpt.pt.ELO2eK\" failed: No such file or directory (2)\n"
     ]
    },
    {
     "name": "stdout",
     "output_type": "stream",
     "text": [
      "    818,442,232 100%   13.64MB/s    0:00:57 (xfr#6, to-chk=45/549)\n",
      "\n",
      "sent 816 bytes  received 7,525,702,484 bytes  10,054,379.83 bytes/sec\n",
      "total size is 19,765,909,533  speedup is 2.63\n"
     ]
    },
    {
     "name": "stderr",
     "output_type": "stream",
     "text": [
      "rsync error: some files/attrs were not transferred (see previous errors) (code 23) at main.c(1865) [generator=3.2.7]\n"
     ]
    }
   ],
   "source": [
    "%%bash\n",
    "\n",
    "rsync -avzu --progress\\\n",
    "    --exclude 'CIF_BG_proj/' \\\n",
    "    --exclude 'crystallm_container.sif' \\\n",
    "    --exclude 'crystallm_container_v2.sif' \\\n",
    "    --exclude 'wandb/' \\\n",
    "    --exclude 'model_ckpts/finetuned_models_wrong_tokens/' \\\n",
    "    --exclude 'model_ckpts/pretrained_models' \\\n",
    "    --exclude 'model_ckpts/regression_models/BG_head' \\\n",
    "    --exclude 'model_ckpts/regression_models/BG_LoRA' \\\n",
    "    --exclude 'model_ckpts/regression_models/BG_head_test' \\\n",
    "    --exclude 'model_ckpts/finetuned_models_wrong/' \\\n",
    "    --exclude 'crystallm/' \\\n",
    "    --exclude 'bin/' \\\n",
    "    --exclude 'notebooks/' \\\n",
    "    --exclude 'compressed_datasets_models/' \\\n",
    "    -e \"ssh -i ~/.ssh/exported-keyfile-from-putty-np -o ProxyJump=gateway\" \\\n",
    "    cyprien@nico.chem.ucl.ac.uk:/home/cyprien/CrystaLLM/ /home/uccacbo/CrystaLLM/"
   ]
  },
  {
   "cell_type": "code",
   "execution_count": 2,
   "metadata": {},
   "outputs": [
    {
     "name": "stderr",
     "output_type": "stream",
     "text": [
      "\n",
      " ------------------------------------------------------------------------\n",
      " Information Systems - Information Services Division - UCL\n",
      " \n",
      " Access to and use of this system are restricted to authorised individuals\n",
      " and subject to UCL Computing Regulations.\n",
      " ------------------------------------------------------------------------\n",
      " \n",
      "Currently Loaded Modulefiles:\n",
      " 1) gcc-libs/10.2.0        3) cuda/11.8.0/gnu-10.2.0   5) tmux/3.3a  \n",
      " 2) compilers/gnu/10.2.0   4) nano/2.4.2              \n"
     ]
    },
    {
     "name": "stdout",
     "output_type": "stream",
     "text": [
      "receiving incremental file list\n",
      "bin/regr_inference.py\n",
      "          8,118 100%    7.74MB/s    0:00:00 (xfr#1, to-chk=92/121)\n",
      "bin/regr_inference_LoRA_4.py\n",
      "         10,407 100%    4.96MB/s    0:00:00 (xfr#2, to-chk=91/121)\n",
      "config/regression_BG/regression_BG_LoRA_myriad.yaml\n",
      "          1,786 100%  872.07kB/s    0:00:00 (xfr#3, to-chk=50/121)\n",
      "inference_plots/\n",
      "inference_plots/BG_regr_LoRA/\n",
      "inference_plots/BG_regr_LoRA/MAE_0.5749_MSE_0.6908.pkl\n",
      "         83,953 100%    8.90MB/s    0:00:00 (xfr#4, to-chk=20/121)\n",
      "inference_plots/BG_regr_LoRA/MAE_0.5749_MSE_0.6908.png\n",
      "        128,199 100%    2.98MB/s    0:00:00 (xfr#5, to-chk=19/121)\n",
      "\n",
      "sent 885 bytes  received 149,680 bytes  33,458.89 bytes/sec\n",
      "total size is 4,123,650  speedup is 27.39\n"
     ]
    }
   ],
   "source": [
    "%%bash\n",
    "\n",
    "rsync -avzu --progress\\\n",
    "    --exclude 'CIF_BG_proj/' \\\n",
    "    --exclude 'crystallm_container.sif' \\\n",
    "    --exclude 'crystallm_container_v2.sif' \\\n",
    "    --exclude 'wandb/' \\\n",
    "    --exclude 'model_ckpts/finetuned_models_wrong_tokens/' \\\n",
    "    --exclude 'model_ckpts/pretrained_models' \\\n",
    "    --exclude 'model_ckpts/regression_models/BG_head' \\\n",
    "    --exclude 'model_ckpts/regression_models/BG_LoRA' \\\n",
    "    --exclude 'model_ckpts/regression_models/BG_head_test' \\\n",
    "    --exclude 'notebooks/' \\\n",
    "    --exclude 'compressed_datasets_models/' \\\n",
    "    --exclude 'model_ckpts/' \\\n",
    "    --exclude 'jobs/' \\\n",
    "    --exclude 'crystallm.egg-info/' \\\n",
    "    --exclude 'bin/post_processing/' \\\n",
    "    --exclude 'bin/pre_processing/' \\\n",
    "    --exclude 'bin/utils/' \\\n",
    "    --exclude '.git/' \\\n",
    "    --exclude 'useless/' \\\n",
    "    --exclude 'crystallm/__pycache__/' \\\n",
    "    --exclude 'bin/__pycache__/' \\\n",
    "    -e \"ssh -i ~/.ssh/exported-keyfile-from-putty-np -o ProxyJump=gateway\" \\\n",
    "    uccacbo@myriad.rc.ucl.ac.uk:/scratch/scratch/uccacbo/CrystaLLM/ /home/uccacbo/CrystaLLM-Prop/"
   ]
  },
  {
   "cell_type": "code",
   "execution_count": null,
   "metadata": {},
   "outputs": [],
   "source": [
    "%%bash\n",
    "\n",
    "rsync -avz --progress\\\n",
    "    --exclude 'CIF_BG_proj/BG_CIFs/' \\\n",
    "    --exclude 'useless/Miniconda3.sh' \\\n",
    "    --exclude 'CIF_BG_proj/BG_cifs_process_steps/' \\\n",
    "    --exclude 'useless/cuda-repo-wsl-ubuntu-11-8-local_11.8.0-1_amd64.deb' \\\n",
    "    --exclude 'crystallm_container.sif' \\\n",
    "    --exclude 'config/' \\\n",
    "    --exclude 'notebooks/' \\\n",
    "    --exclude 'wandb/' \\\n",
    "    /home/cyprien/CrystaLLM/ uccacbo@myriad.rc.ucl.ac.uk:/scratch/scratch/uccacbo/CrystaLLM/\n"
   ]
  },
  {
   "cell_type": "code",
   "execution_count": null,
   "metadata": {},
   "outputs": [
    {
     "name": "stderr",
     "output_type": "stream",
     "text": [
      "\n",
      " ------------------------------------------------------------------------\n",
      " Information Systems - Information Services Division - UCL\n",
      " \n",
      " Access to and use of this system are restricted to authorised individuals\n",
      " and subject to UCL Computing Regulations.\n",
      " ------------------------------------------------------------------------\n",
      " \n"
     ]
    },
    {
     "name": "stdout",
     "output_type": "stream",
     "text": [
      "Error while terminating subprocess (pid=2518588): \n"
     ]
    }
   ],
   "source": [
    "%%bash\n",
    "\n",
    "rsync -avzu --dry-run --progress\\\n",
    "    -e \"ssh -i ~/.ssh/exported-keyfile-from-putty-np -o ProxyJump=gateway\" \\\n",
    "    uccacbo@myriad.rc.ucl.ac.uk:/scratch/scratch/uccacbo/CrystaLLM/inference_plots/ /home/uccacbo/CrystaLLM-Prop/inference_plots/"
   ]
  },
  {
   "cell_type": "code",
   "execution_count": 6,
   "metadata": {},
   "outputs": [
    {
     "name": "stderr",
     "output_type": "stream",
     "text": [
      "\n",
      " ------------------------------------------------------------------------\n",
      " Information Systems - Information Services Division - UCL\n",
      " \n",
      " Access to and use of this system are restricted to authorised individuals\n",
      " and subject to UCL Computing Regulations.\n",
      " ------------------------------------------------------------------------\n",
      " \n"
     ]
    },
    {
     "name": "stdout",
     "output_type": "stream",
     "text": [
      "sending incremental file list\n",
      "./\n",
      "BG_large_tokens_excl_0BG.tar.gz\n",
      "     13,367,701 100%   12.63MB/s    0:00:01 (xfr#1, to-chk=5/7)\n",
      "meta.pkl\n",
      "          7,567 100%    7.22MB/s    0:00:00 (xfr#2, to-chk=4/7)\n",
      "starts.pkl\n",
      "        259,287 100%   27.48MB/s    0:00:00 (xfr#3, to-chk=3/7)\n",
      "starts_val.pkl\n",
      "         13,468 100%    1.28MB/s    0:00:00 (xfr#4, to-chk=2/7)\n",
      "train.bin\n",
      "     70,520,270 100%   66.52MB/s    0:00:01 (xfr#5, to-chk=1/7)\n",
      "val.bin\n",
      "      3,667,680 100%   61.36MB/s    0:00:00 (xfr#6, to-chk=0/7)\n",
      "\n",
      "sent 27,436,022 bytes  received 133 bytes  6,096,923.33 bytes/sec\n",
      "total size is 87,835,973  speedup is 3.20\n"
     ]
    }
   ],
   "source": [
    "%%bash\n",
    "\n",
    "rsync -avzu --progress \\\n",
    "    -e \"ssh -i ~/.ssh/exported-keyfile-from-putty-np -o ProxyJump=gateway\" \\\n",
    "    /home/uccacbo/CrystaLLM/CIF_BG_proj/BG_large_tokens_excl_0BG/ cyprien@nico.chem.ucl.ac.uk:/home/cyprien/CrystaLLM/CIF_BG_proj/\n"
   ]
  },
  {
   "cell_type": "code",
   "execution_count": null,
   "metadata": {},
   "outputs": [],
   "source": []
  }
 ],
 "metadata": {
  "kernelspec": {
   "display_name": "crystallm_venv",
   "language": "python",
   "name": "python3"
  },
  "language_info": {
   "codemirror_mode": {
    "name": "ipython",
    "version": 3
   },
   "file_extension": ".py",
   "mimetype": "text/x-python",
   "name": "python",
   "nbconvert_exporter": "python",
   "pygments_lexer": "ipython3",
   "version": "3.10.15"
  }
 },
 "nbformat": 4,
 "nbformat_minor": 2
}
