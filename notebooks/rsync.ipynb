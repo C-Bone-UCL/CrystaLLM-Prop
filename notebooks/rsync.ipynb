{
 "cells": [
  {
   "cell_type": "markdown",
   "metadata": {},
   "source": [
    "### WSL 2 HPC"
   ]
  },
  {
   "cell_type": "code",
   "execution_count": 3,
   "metadata": {},
   "outputs": [
    {
     "name": "stderr",
     "output_type": "stream",
     "text": [
      "\n",
      " ------------------------------------------------------------------------\n",
      " Information Systems - Information Services Division - UCL\n",
      " \n",
      " Access to and use of this system are restricted to authorised individuals\n",
      " and subject to UCL Computing Regulations.\n",
      " ------------------------------------------------------------------------\n",
      " \n"
     ]
    },
    {
     "name": "stdout",
     "output_type": "stream",
     "text": [
      "sending incremental file list\n",
      "./\n",
      "Singularity.def\n",
      "            926 100%    0.00kB/s    0:00:00 (xfr#1, to-chk=490/497)\n",
      "Singularity_2.def\n",
      "          1,156 100%  564.45kB/s    0:00:00 (xfr#2, to-chk=489/497)\n",
      "requirements.txt\n",
      "            215 100%   69.99kB/s    0:00:00 (xfr#3, to-chk=487/497)\n",
      "true_vs_predicted_bandgap.png\n",
      "         42,108 100%   10.04MB/s    0:00:00 (xfr#4, to-chk=485/497)\n",
      "bin/regr_inference.py\n",
      "          7,155 100%  776.37kB/s    0:00:00 (xfr#5, to-chk=105/497)\n",
      "bin/train.py\n",
      "         28,595 100%    2.73MB/s    0:00:00 (xfr#6, to-chk=96/497)\n",
      "bin/__pycache__/\n",
      "bin/__pycache__/train.cpython-310.pyc\n",
      "         16,697 100%    1.33MB/s    0:00:00 (xfr#7, to-chk=93/497)\n",
      "config/cif_extd_BG/finetune_LoRA_BG_nico.yaml\n",
      "          1,691 100%  127.03kB/s    0:00:00 (xfr#8, to-chk=77/497)\n",
      "config/cif_extd_BG/finetune_all_BG_nico.yaml\n",
      "          1,603 100%  120.42kB/s    0:00:00 (xfr#9, to-chk=75/497)\n",
      "config/cif_extd_BG/finetune_head_BG_nico.yaml\n",
      "          1,708 100%  111.20kB/s    0:00:00 (xfr#10, to-chk=73/497)\n",
      "config/regression_BG/\n",
      "config/regression_BG/regression_BG_LoRA_myriad.yaml\n",
      "          1,731 100%  112.70kB/s    0:00:00 (xfr#11, to-chk=71/497)\n",
      "config/regression_BG/regression_BG_all.yaml\n",
      "          1,666 100%  101.68kB/s    0:00:00 (xfr#12, to-chk=70/497)\n",
      "config/regression_BG/regression_BG_all_myriad.yaml\n",
      "          1,710 100%   98.23kB/s    0:00:00 (xfr#13, to-chk=69/497)\n",
      "config/regression_BG/regression_BG_head_myriad.yaml\n",
      "          1,713 100%   92.94kB/s    0:00:00 (xfr#14, to-chk=67/497)\n",
      "crystallm/_model.py\n",
      "         28,748 100%    1.44MB/s    0:00:00 (xfr#15, to-chk=58/497)\n",
      "crystallm/__pycache__/\n",
      "crystallm/__pycache__/_model.cpython-310.pyc\n",
      "         19,890 100%  924.94kB/s    0:00:00 (xfr#16, to-chk=47/497)\n",
      "\n",
      "sent 79,330 bytes  received 2,540 bytes  54,580.00 bytes/sec\n",
      "total size is 9,075,628,033  speedup is 110,854.14\n"
     ]
    }
   ],
   "source": [
    "%%bash\n",
    "\n",
    "rsync -avzu --progress \\\n",
    "    --exclude 'CIF_BG_proj/BG_CIFs/' \\\n",
    "    --exclude 'useless/Miniconda3.sh' \\\n",
    "    --exclude 'useless/cuda-repo-wsl-ubuntu-11-8-local_11.8.0-1_amd64.deb' \\\n",
    "    --exclude 'crystallm_container.sif' \\\n",
    "    --exclude 'wandb/' \\\n",
    "    --exclude 'finetuned_models/' \\\n",
    "    --exclude 'comp_metrics/' \\\n",
    "    --exclude 'CIF_BG_proj/' \\\n",
    "    --exclude 'compressed_datasets_models/' \\\n",
    "    --exclude 'model_ckpts/' \\\n",
    "    --exclude 'notebooks/' \\\n",
    "    -e \"ssh -i ~/.ssh/exported-keyfile-from-putty-np -o ProxyJump=gateway\" \\\n",
    "    /home/uccacbo/CrystaLLM/ cyprien@nico.chem.ucl.ac.uk:/home/cyprien/CrystaLLM/\n"
   ]
  },
  {
   "cell_type": "markdown",
   "metadata": {},
   "source": [
    "### HPC 2 WSL"
   ]
  },
  {
   "cell_type": "code",
   "execution_count": 1,
   "metadata": {},
   "outputs": [
    {
     "name": "stderr",
     "output_type": "stream",
     "text": [
      "\n",
      " ------------------------------------------------------------------------\n",
      " Information Systems - Information Services Division - UCL\n",
      " \n",
      " Access to and use of this system are restricted to authorised individuals\n",
      " and subject to UCL Computing Regulations.\n",
      " ------------------------------------------------------------------------\n",
      " \n"
     ]
    },
    {
     "name": "stdout",
     "output_type": "stream",
     "text": [
      "receiving incremental file list\n",
      "config/cif_extd_BG/finetune_LoRA_BG_nico.yaml\n",
      "config/cif_extd_BG/finetune_head_BG_nico.yaml\n",
      "config/regression_BG/regression_BG_LoRA_nico.yaml\n",
      "config/regression_BG/regression_BG_all_nico.yaml\n",
      "config/regression_BG/regression_BG_head.yaml\n",
      "config/regression_BG/regression_BG_head_nico.yaml\n",
      "\n",
      "sent 585 bytes  received 17,330 bytes  5,118.57 bytes/sec\n",
      "total size is 11,579,756,218  speedup is 646,372.10 (DRY RUN)\n"
     ]
    }
   ],
   "source": [
    "%%bash\n",
    "\n",
    "rsync -avzu --dry-run --progress\\\n",
    "    --exclude 'CIF_BG_proj/' \\\n",
    "    --exclude 'crystallm_container.sif' \\\n",
    "    --exclude 'crystallm_container_v2.sif' \\\n",
    "    --exclude 'wandb/' \\\n",
    "    --exclude 'model_ckpts/finetuned_models_wrong_tokens/' \\\n",
    "    --exclude 'model_ckpts/pretrained_models' \\\n",
    "    --exclude 'model_ckpts/regression_models/BG_head' \\\n",
    "    --exclude 'model_ckpts/regression_models/BG_LoRA' \\\n",
    "    --exclude 'model_ckpts/regression_models/BG_head_test' \\\n",
    "    --exclude 'crystallm/' \\\n",
    "    --exclude 'bin/' \\\n",
    "    --exclude 'notebooks/' \\\n",
    "    --exclude 'compressed_datasets_models/' \\\n",
    "    -e \"ssh -i ~/.ssh/exported-keyfile-from-putty-np -o ProxyJump=gateway\" \\\n",
    "    cyprien@nico.chem.ucl.ac.uk:/home/cyprien/CrystaLLM/ /home/uccacbo/CrystaLLM/"
   ]
  },
  {
   "cell_type": "code",
   "execution_count": 4,
   "metadata": {},
   "outputs": [
    {
     "name": "stderr",
     "output_type": "stream",
     "text": [
      "\n",
      " ------------------------------------------------------------------------\n",
      " Information Systems - Information Services Division - UCL\n",
      " \n",
      " Access to and use of this system are restricted to authorised individuals\n",
      " and subject to UCL Computing Regulations.\n",
      " ------------------------------------------------------------------------\n",
      " \n"
     ]
    },
    {
     "name": "stdout",
     "output_type": "stream",
     "text": [
      "receiving incremental file list\n",
      "./\n",
      "comp_metrics/\n",
      "comp_metrics/crystallm_regression_BG_myriad/\n",
      "config/cif_extd_BG/finetune_LoRA_BG_nico.yaml\n",
      "            764 100%  746.09kB/s    0:00:00 (xfr#1, to-chk=53/445)\n",
      "config/cif_extd_BG/finetune_head_BG_nico.yaml\n",
      "            753 100%  735.35kB/s    0:00:00 (xfr#2, to-chk=49/445)\n",
      "config/regression_BG/\n",
      "config/regression_BG/regression_BG_LoRA_myriad.yaml\n",
      "          1,731 100%  845.21kB/s    0:00:00 (xfr#3, to-chk=47/445)\n",
      "config/regression_BG/regression_BG_all_myriad.yaml\n",
      "          1,710 100%  834.96kB/s    0:00:00 (xfr#4, to-chk=45/445)\n",
      "config/regression_BG/regression_BG_head.yaml\n",
      "          1,662 100%  811.52kB/s    0:00:00 (xfr#5, to-chk=44/445)\n",
      "config/regression_BG/regression_BG_head_myriad.yaml\n",
      "          1,713 100%  418.21kB/s    0:00:00 (xfr#6, to-chk=43/445)\n",
      "\n",
      "sent 806 bytes  received 18,315 bytes  695.31 bytes/sec\n",
      "total size is 9,075,362,676  speedup is 474,628.04\n"
     ]
    }
   ],
   "source": [
    "%%bash\n",
    "\n",
    "rsync -avzu --progress\\\n",
    "    --exclude 'CIF_BG_proj/' \\\n",
    "    --exclude 'crystallm_container.sif' \\\n",
    "    --exclude 'crystallm_container_v2.sif' \\\n",
    "    --exclude 'wandb/' \\\n",
    "    --exclude 'model_ckpts/finetuned_models_wrong_tokens/' \\\n",
    "    --exclude 'model_ckpts/pretrained_models' \\\n",
    "    --exclude 'model_ckpts/regression_models/BG_head' \\\n",
    "    --exclude 'model_ckpts/regression_models/BG_LoRA' \\\n",
    "    --exclude 'model_ckpts/regression_models/BG_head_test' \\\n",
    "    --exclude 'crystallm/' \\\n",
    "    --exclude 'bin/' \\\n",
    "    --exclude 'notebooks/' \\\n",
    "    --exclude 'compressed_datasets_models/' \\\n",
    "    --exclude 'model_ckpts/' \\\n",
    "    --exclude 'jobs/' \\\n",
    "    --exclude 'crystallm.egg-info/' \\\n",
    "    -e \"ssh -i ~/.ssh/exported-keyfile-from-putty-np -o ProxyJump=gateway\" \\\n",
    "    uccacbo@myriad.rc.ucl.ac.uk:/scratch/scratch/uccacbo/CrystaLLM/ /home/uccacbo/CrystaLLM/"
   ]
  },
  {
   "cell_type": "code",
   "execution_count": null,
   "metadata": {},
   "outputs": [],
   "source": [
    "%%bash\n",
    "\n",
    "rsync -avz --progress\\\n",
    "    --exclude 'CIF_BG_proj/BG_CIFs/' \\\n",
    "    --exclude 'useless/Miniconda3.sh' \\\n",
    "    --exclude 'CIF_BG_proj/BG_cifs_process_steps/' \\\n",
    "    --exclude 'useless/cuda-repo-wsl-ubuntu-11-8-local_11.8.0-1_amd64.deb' \\\n",
    "    --exclude 'crystallm_container.sif' \\\n",
    "    --exclude 'config/' \\\n",
    "    --exclude 'notebooks/' \\\n",
    "    --exclude 'wandb/' \\\n",
    "    /home/cyprien/CrystaLLM/ uccacbo@myriad.rc.ucl.ac.uk:/home/uccacbo/CrystaLLM/\n"
   ]
  },
  {
   "cell_type": "code",
   "execution_count": 2,
   "metadata": {},
   "outputs": [
    {
     "name": "stderr",
     "output_type": "stream",
     "text": [
      "\n",
      " ------------------------------------------------------------------------\n",
      " Information Systems - Information Services Division - UCL\n",
      " \n",
      " Access to and use of this system are restricted to authorised individuals\n",
      " and subject to UCL Computing Regulations.\n",
      " ------------------------------------------------------------------------\n",
      " \n"
     ]
    },
    {
     "name": "stdout",
     "output_type": "stream",
     "text": [
      "receiving incremental file list\n",
      "compressed_datasets_models/\n",
      "compressed_datasets_models/CIFs_db_MP.pkl\n",
      "      1,325,598 100%   23.85MB/s    0:00:00 (xfr#1, to-chk=6/11)\n",
      "\n",
      "sent 47 bytes  received 166,901 bytes  111,298.67 bytes/sec\n",
      "total size is 13,895,193,970  speedup is 83,230.67\n"
     ]
    }
   ],
   "source": [
    "%%bash\n",
    "\n",
    "rsync -avzu --progress \\\n",
    "    -e \"ssh -i ~/.ssh/exported-keyfile-from-putty-np -o ProxyJump=gateway\" \\\n",
    "    cyprien@nico.chem.ucl.ac.uk:/home/cyprien/CrystaLLM/compressed_datasets_models /home/uccacbo/CrystaLLM/\n"
   ]
  },
  {
   "cell_type": "code",
   "execution_count": 2,
   "metadata": {},
   "outputs": [
    {
     "name": "stderr",
     "output_type": "stream",
     "text": [
      "\n",
      " ------------------------------------------------------------------------\n",
      " Information Systems - Information Services Division - UCL\n",
      " \n",
      " Access to and use of this system are restricted to authorised individuals\n",
      " and subject to UCL Computing Regulations.\n",
      " ------------------------------------------------------------------------\n",
      " \n"
     ]
    },
    {
     "name": "stdout",
     "output_type": "stream",
     "text": [
      "sending incremental file list\n",
      "BG_large_tokens/BG_large_tokens.tar.gz\n",
      "     22,054,911 100%   12.01MB/s    0:00:01 (xfr#1, to-chk=5/7)\n",
      "BG_large_tokens/meta.pkl\n",
      "          7,567 100%   10.77kB/s    0:00:00 (xfr#2, to-chk=4/7)\n",
      "BG_large_tokens/starts.pkl\n",
      "        490,563 100%  674.74kB/s    0:00:00 (xfr#3, to-chk=3/7)\n",
      "BG_large_tokens/starts_val.pkl\n",
      "         54,300 100%   74.69kB/s    0:00:00 (xfr#4, to-chk=2/7)\n",
      "BG_large_tokens/train.bin\n",
      "    113,583,494 100%   46.55MB/s    0:00:02 (xfr#5, to-chk=1/7)\n",
      "BG_large_tokens/val.bin\n",
      "     12,661,580 100%   25.80MB/s    0:00:00 (xfr#6, to-chk=0/7)\n",
      "\n",
      "sent 45,207,605 bytes  received 129,067 bytes  6,974,872.62 bytes/sec\n",
      "total size is 148,852,415  speedup is 3.28\n"
     ]
    }
   ],
   "source": [
    "%%bash\n",
    "\n",
    "rsync -avzu --progress \\\n",
    "    -e \"ssh -i ~/.ssh/exported-keyfile-from-putty-np -o ProxyJump=gateway\" \\\n",
    "    /home/uccacbo/CrystaLLM/CIF_BG_proj/BG_large_tokens cyprien@nico.chem.ucl.ac.uk:/home/cyprien/CrystaLLM/CIF_BG_proj/\n"
   ]
  },
  {
   "cell_type": "code",
   "execution_count": null,
   "metadata": {},
   "outputs": [],
   "source": []
  }
 ],
 "metadata": {
  "kernelspec": {
   "display_name": "crystallm_venv",
   "language": "python",
   "name": "python3"
  },
  "language_info": {
   "codemirror_mode": {
    "name": "ipython",
    "version": 3
   },
   "file_extension": ".py",
   "mimetype": "text/x-python",
   "name": "python",
   "nbconvert_exporter": "python",
   "pygments_lexer": "ipython3",
   "version": "3.10.15"
  }
 },
 "nbformat": 4,
 "nbformat_minor": 2
}
