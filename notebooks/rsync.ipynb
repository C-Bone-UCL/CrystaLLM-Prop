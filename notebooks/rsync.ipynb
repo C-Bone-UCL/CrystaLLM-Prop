{
 "cells": [
  {
   "cell_type": "markdown",
   "metadata": {},
   "source": [
    "### WSL 2 HPC"
   ]
  },
  {
   "cell_type": "code",
   "execution_count": 3,
   "metadata": {},
   "outputs": [
    {
     "name": "stderr",
     "output_type": "stream",
     "text": [
      "\n",
      " ------------------------------------------------------------------------\n",
      " Information Systems - Information Services Division - UCL\n",
      " \n",
      " Access to and use of this system are restricted to authorised individuals\n",
      " and subject to UCL Computing Regulations.\n",
      " ------------------------------------------------------------------------\n",
      " \n"
     ]
    },
    {
     "name": "stdout",
     "output_type": "stream",
     "text": [
      "Error while terminating subprocess (pid=4790): \n"
     ]
    }
   ],
   "source": [
    "%%bash\n",
    "\n",
    "rsync -avzu --progress \\\n",
    "    --exclude 'CIF_BG_proj/BG_CIFs/' \\\n",
    "    --exclude 'useless/Miniconda3.sh' \\\n",
    "    --exclude 'CIF_BG_proj/BG_cifs_process_steps/' \\\n",
    "    --exclude 'useless/cuda-repo-wsl-ubuntu-11-8-local_11.8.0-1_amd64.deb' \\\n",
    "    --exclude 'crystallm_container.sif' \\\n",
    "    --exclude 'wandb/' \\\n",
    "    --exclude 'finetuned_models/BG_all_test/' \\\n",
    "    --exclude 'finetuned_models/BG_head_test/' \\\n",
    "    --exclude 'finetuned_models/BG_LoRA_test/' \\\n",
    "    --exclude 'finetuned_models/' \\\n",
    "    -e \"ssh -i ~/.ssh/exported-keyfile-from-putty-np -o ProxyJump=gateway\" \\\n",
    "    /home/uccacbo/CrystaLLM/ cyprien@nico.chem.ucl.ac.uk:/home/cyprien/CrystaLLM/\n"
   ]
  },
  {
   "cell_type": "code",
   "execution_count": null,
   "metadata": {},
   "outputs": [],
   "source": [
    "%%bash\n",
    "\n",
    "rsync -avzu --dry-run --progress \\\n",
    "    --exclude 'CIF_BG_proj/BG_CIFs/' \\\n",
    "    --exclude 'useless/Miniconda3.sh' \\\n",
    "    --exclude 'CIF_BG_proj/BG_cifs_process_steps/' \\\n",
    "    --exclude 'useless/cuda-repo-wsl-ubuntu-11-8-local_11.8.0-1_amd64.deb' \\\n",
    "    --exclude 'crystallm_container.sif' \\\n",
    "    --exclude 'wandb/' \\\n",
    "    --exclude 'finetuned_models/BG_all_test/' \\\n",
    "    --exclude 'finetuned_models/BG_head_test/' \\\n",
    "    --exclude 'finetuned_models/BG_LoRA_test/' \\\n",
    "    --exclude 'finetuned_models/' \\\n",
    "    -e \"ssh -i ~/.ssh/exported-keyfile-from-putty-np\" \\\n",
    "    //wsl.localhost/Ubuntu/home/uccacbo/CrystaLLM cyprien@nico.chem.ucl.ac.uk:/home/cyprien/CrystaLLM/\n",
    "\n"
   ]
  },
  {
   "cell_type": "code",
   "execution_count": null,
   "metadata": {},
   "outputs": [],
   "source": []
  },
  {
   "cell_type": "markdown",
   "metadata": {},
   "source": [
    "### HPC 2 WSL"
   ]
  },
  {
   "cell_type": "code",
   "execution_count": 3,
   "metadata": {},
   "outputs": [
    {
     "name": "stdout",
     "output_type": "stream",
     "text": [
      "receiving incremental file list\n",
      "bin/train.py\n",
      "         22,912 100%   21.85MB/s    0:00:00 (xfr#1, to-chk=99/384)\n",
      "config/\n",
      "config/finetune_LoRA_BG_nico.yaml\n",
      "          1,650 100%    1.57MB/s    0:00:00 (xfr#2, to-chk=75/384)\n",
      "crystallm/_model.py\n",
      "         21,423 100%   20.43MB/s    0:00:00 (xfr#3, to-chk=63/384)\n",
      "sampling/prompt_config/BG_gen.yaml\n",
      "            996 100%  972.66kB/s    0:00:00 (xfr#4, to-chk=39/384)\n",
      "sampling/prompt_config/test_config.yaml\n",
      "            822 100%  802.73kB/s    0:00:00 (xfr#5, to-chk=36/384)\n",
      "\n",
      "sent 955 bytes  received 16,569 bytes  35,048.00 bytes/sec\n",
      "total size is 14,559,763,772  speedup is 830,847.05\n"
     ]
    }
   ],
   "source": [
    "%%bash\n",
    "\n",
    "rsync -avzu --progress\\\n",
    "    --exclude 'CIF_BG_proj/BG_CIFs/' \\\n",
    "    --exclude 'useless/Miniconda3.sh' \\\n",
    "    --exclude 'CIF_BG_proj/BG_cifs_process_steps/' \\\n",
    "    --exclude 'useless/cuda-repo-wsl-ubuntu-11-8-local_11.8.0-1_amd64.deb' \\\n",
    "    --exclude 'crystallm_container.sif' \\\n",
    "    --exclude 'wandb/' \\\n",
    "    --exclude 'finetuned_models/BG_all_test/' \\\n",
    "    --exclude 'finetuned_models/BG_head_test/' \\\n",
    "    --exclude 'finetuned_models/BG_LoRA_test/' \\\n",
    "    --exclude 'finetuned_models/' \\\n",
    "    # --exclude 'bin/hyperparam_search.py' \\\n",
    "    -e \"ssh -i ~/.ssh/exported-keyfile-from-putty-np\" \\\n",
    "    cyprien@nico.chem.ucl.ac.uk:/home/cyprien/CrystaLLM/ /home/uccacbo/CrystaLLM/"
   ]
  },
  {
   "cell_type": "code",
   "execution_count": null,
   "metadata": {},
   "outputs": [],
   "source": [
    "%%bash\n",
    "\n",
    "rsync -avz --progress\\\n",
    "    --exclude 'CIF_BG_proj/BG_CIFs/' \\\n",
    "    --exclude 'useless/Miniconda3.sh' \\\n",
    "    --exclude 'CIF_BG_proj/BG_cifs_process_steps/' \\\n",
    "    --exclude 'useless/cuda-repo-wsl-ubuntu-11-8-local_11.8.0-1_amd64.deb' \\\n",
    "    --exclude 'crystallm_container.sif' \\\n",
    "    --exclude 'wandb/' \\\n",
    "    /home/cyprien/CrystaLLM/ uccacbo@myriad.rc.ucl.ac.uk:/home/uccacbo/CrystaLLM/\n"
   ]
  },
  {
   "cell_type": "code",
   "execution_count": 2,
   "metadata": {},
   "outputs": [
    {
     "name": "stderr",
     "output_type": "stream",
     "text": [
      "ssh: connect to host nico.chem.ucl.ac.uk port 22: Connection timed out\n",
      "rsync: connection unexpectedly closed (0 bytes received so far) [sender]\n",
      "rsync error: unexplained error (code 255) at io.c(231) [sender=3.2.7]\n"
     ]
    },
    {
     "name": "stdout",
     "output_type": "stream",
     "text": [
      "Error while terminating subprocess (pid=2503): \n"
     ]
    },
    {
     "name": "stderr",
     "output_type": "stream",
     "text": [
      "ssh: connect to host nico.chem.ucl.ac.uk port 22: Connection timed out\n",
      "rsync: connection unexpectedly closed (0 bytes received so far) [Receiver]\n",
      "rsync error: unexplained error (code 255) at io.c(231) [Receiver=3.2.7]\n"
     ]
    }
   ],
   "source": [
    "%%bash\n",
    "\n",
    "rsync -avzu --progress \\\n",
    "    -e \"ssh -i ~/.ssh/exported-keyfile-from-putty-np\" \\\n",
    "    cyprien@nico.chem.ucl.ac.uk:/home/cyprien/CrystaLLM/finetuned_models /home/uccacbo/CrystaLLM/\n"
   ]
  },
  {
   "cell_type": "code",
   "execution_count": null,
   "metadata": {},
   "outputs": [],
   "source": []
  }
 ],
 "metadata": {
  "kernelspec": {
   "display_name": "crystallm_venv",
   "language": "python",
   "name": "python3"
  },
  "language_info": {
   "codemirror_mode": {
    "name": "ipython",
    "version": 3
   },
   "file_extension": ".py",
   "mimetype": "text/x-python",
   "name": "python",
   "nbconvert_exporter": "python",
   "pygments_lexer": "ipython3",
   "version": "3.10.15"
  }
 },
 "nbformat": 4,
 "nbformat_minor": 2
}
